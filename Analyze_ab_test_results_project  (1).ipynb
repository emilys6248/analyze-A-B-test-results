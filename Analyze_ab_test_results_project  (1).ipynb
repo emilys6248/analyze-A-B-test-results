{
 "cells": [
  {
   "cell_type": "markdown",
   "metadata": {},
   "source": [
    "# Analyze A/B Test Results Project\n",
    "\n",
    "\n",
    "- [Introduction](#intro)\n",
    "- [Part I - Probability](#probability)\n",
    "- [Part II - A/B Test](#ab_test)\n",
    "- [Part III - Regression](#regression)\n",
    "\n",
    "<a id='intro'></a>\n",
    "## Introduction\n",
    "\n",
    "In this project, I am going to perform A/B test and regression to see if the feature change on the e-commercewebsite will lead to the change of conversion rate. In this project, I am going to focus on whether receiving new page will lead to increase of conversion rate. I will run both ab_test and regression on my data to know if we need to use new webpage or stay with the old page. Later, I am going to add other factors to consider in the regression such as country to see if it is realted to the conversion rate. \n",
    "\n",
    "\n",
    "\n",
    "\n",
    "<a id='probability'></a>\n",
    "## Part I - Probability\n",
    "\n",
    "import libraries "
   ]
  },
  {
   "cell_type": "code",
   "execution_count": 1,
   "metadata": {},
   "outputs": [],
   "source": [
    "import pandas as pd\n",
    "import numpy as np\n",
    "import random\n",
    "import matplotlib.pyplot as plt\n",
    "%matplotlib inline\n",
    "random.seed(42)"
   ]
  },
  {
   "cell_type": "code",
   "execution_count": 2,
   "metadata": {},
   "outputs": [
    {
     "data": {
      "text/html": [
       "<div>\n",
       "<style scoped>\n",
       "    .dataframe tbody tr th:only-of-type {\n",
       "        vertical-align: middle;\n",
       "    }\n",
       "\n",
       "    .dataframe tbody tr th {\n",
       "        vertical-align: top;\n",
       "    }\n",
       "\n",
       "    .dataframe thead th {\n",
       "        text-align: right;\n",
       "    }\n",
       "</style>\n",
       "<table border=\"1\" class=\"dataframe\">\n",
       "  <thead>\n",
       "    <tr style=\"text-align: right;\">\n",
       "      <th></th>\n",
       "      <th>user_id</th>\n",
       "      <th>timestamp</th>\n",
       "      <th>group</th>\n",
       "      <th>landing_page</th>\n",
       "      <th>converted</th>\n",
       "    </tr>\n",
       "  </thead>\n",
       "  <tbody>\n",
       "    <tr>\n",
       "      <th>0</th>\n",
       "      <td>851104</td>\n",
       "      <td>2017-01-21 22:11:48.556739</td>\n",
       "      <td>control</td>\n",
       "      <td>old_page</td>\n",
       "      <td>0</td>\n",
       "    </tr>\n",
       "    <tr>\n",
       "      <th>1</th>\n",
       "      <td>804228</td>\n",
       "      <td>2017-01-12 08:01:45.159739</td>\n",
       "      <td>control</td>\n",
       "      <td>old_page</td>\n",
       "      <td>0</td>\n",
       "    </tr>\n",
       "    <tr>\n",
       "      <th>2</th>\n",
       "      <td>661590</td>\n",
       "      <td>2017-01-11 16:55:06.154213</td>\n",
       "      <td>treatment</td>\n",
       "      <td>new_page</td>\n",
       "      <td>0</td>\n",
       "    </tr>\n",
       "    <tr>\n",
       "      <th>3</th>\n",
       "      <td>853541</td>\n",
       "      <td>2017-01-08 18:28:03.143765</td>\n",
       "      <td>treatment</td>\n",
       "      <td>new_page</td>\n",
       "      <td>0</td>\n",
       "    </tr>\n",
       "    <tr>\n",
       "      <th>4</th>\n",
       "      <td>864975</td>\n",
       "      <td>2017-01-21 01:52:26.210827</td>\n",
       "      <td>control</td>\n",
       "      <td>old_page</td>\n",
       "      <td>1</td>\n",
       "    </tr>\n",
       "  </tbody>\n",
       "</table>\n",
       "</div>"
      ],
      "text/plain": [
       "   user_id                   timestamp      group landing_page  converted\n",
       "0   851104  2017-01-21 22:11:48.556739    control     old_page          0\n",
       "1   804228  2017-01-12 08:01:45.159739    control     old_page          0\n",
       "2   661590  2017-01-11 16:55:06.154213  treatment     new_page          0\n",
       "3   853541  2017-01-08 18:28:03.143765  treatment     new_page          0\n",
       "4   864975  2017-01-21 01:52:26.210827    control     old_page          1"
      ]
     },
     "execution_count": 2,
     "metadata": {},
     "output_type": "execute_result"
    }
   ],
   "source": [
    "df=pd.read_csv('ab_data.csv')\n",
    "df.head()"
   ]
  },
  {
   "cell_type": "markdown",
   "metadata": {},
   "source": [
    "find the number of rows in the dataset"
   ]
  },
  {
   "cell_type": "code",
   "execution_count": 3,
   "metadata": {},
   "outputs": [
    {
     "data": {
      "text/plain": [
       "(294478, 5)"
      ]
     },
     "execution_count": 3,
     "metadata": {},
     "output_type": "execute_result"
    }
   ],
   "source": [
    "df.shape"
   ]
  },
  {
   "cell_type": "markdown",
   "metadata": {},
   "source": [
    "unique users in the dataset"
   ]
  },
  {
   "cell_type": "code",
   "execution_count": 4,
   "metadata": {},
   "outputs": [
    {
     "data": {
      "text/plain": [
       "290584"
      ]
     },
     "execution_count": 4,
     "metadata": {},
     "output_type": "execute_result"
    }
   ],
   "source": [
    "df['user_id'].nunique()"
   ]
  },
  {
   "cell_type": "markdown",
   "metadata": {
    "collapsed": true
   },
   "source": [
    "The proportion of users converted"
   ]
  },
  {
   "cell_type": "code",
   "execution_count": 5,
   "metadata": {},
   "outputs": [
    {
     "data": {
      "text/plain": [
       "0.11965919355605512"
      ]
     },
     "execution_count": 5,
     "metadata": {},
     "output_type": "execute_result"
    }
   ],
   "source": [
    "df['converted'].mean()"
   ]
  },
  {
   "cell_type": "markdown",
   "metadata": {
    "collapsed": true
   },
   "source": [
    "check the number of times the group is 'treatment' but 'landing_page' is not 'new_page'"
   ]
  },
  {
   "cell_type": "code",
   "execution_count": 6,
   "metadata": {},
   "outputs": [
    {
     "data": {
      "text/plain": [
       "1965"
      ]
     },
     "execution_count": 6,
     "metadata": {},
     "output_type": "execute_result"
    }
   ],
   "source": [
    "treatment_old = df.query(\"group == 'treatment' and landing_page == 'old_page'\").shape[0]\n",
    "treatment_old"
   ]
  },
  {
   "cell_type": "markdown",
   "metadata": {},
   "source": [
    "check if rows have missing values"
   ]
  },
  {
   "cell_type": "code",
   "execution_count": 7,
   "metadata": {},
   "outputs": [
    {
     "name": "stdout",
     "output_type": "stream",
     "text": [
      "<class 'pandas.core.frame.DataFrame'>\n",
      "RangeIndex: 294478 entries, 0 to 294477\n",
      "Data columns (total 5 columns):\n",
      " #   Column        Non-Null Count   Dtype \n",
      "---  ------        --------------   ----- \n",
      " 0   user_id       294478 non-null  int64 \n",
      " 1   timestamp     294478 non-null  object\n",
      " 2   group         294478 non-null  object\n",
      " 3   landing_page  294478 non-null  object\n",
      " 4   converted     294478 non-null  int64 \n",
      "dtypes: int64(2), object(3)\n",
      "memory usage: 11.2+ MB\n"
     ]
    }
   ],
   "source": [
    "df.info()"
   ]
  },
  {
   "cell_type": "markdown",
   "metadata": {},
   "source": [
    "#select all the rows having group and landing_page matched each other\n"
   ]
  },
  {
   "cell_type": "code",
   "execution_count": 8,
   "metadata": {},
   "outputs": [],
   "source": [
    "df2=df.query(\"group == 'treatment' and landing_page == 'new_page'\")"
   ]
  },
  {
   "cell_type": "markdown",
   "metadata": {},
   "source": [
    "saved all the rows having treatment group match with new_page to a new dataframe df2"
   ]
  },
  {
   "cell_type": "code",
   "execution_count": 9,
   "metadata": {},
   "outputs": [],
   "source": [
    "df_control_old= df.query(\"group == 'control' and landing_page == 'old_page'\")"
   ]
  },
  {
   "cell_type": "markdown",
   "metadata": {},
   "source": [
    "saved all the rows having control group match with old_page to a new dataframe df_control_old"
   ]
  },
  {
   "cell_type": "code",
   "execution_count": 10,
   "metadata": {},
   "outputs": [
    {
     "data": {
      "text/html": [
       "<div>\n",
       "<style scoped>\n",
       "    .dataframe tbody tr th:only-of-type {\n",
       "        vertical-align: middle;\n",
       "    }\n",
       "\n",
       "    .dataframe tbody tr th {\n",
       "        vertical-align: top;\n",
       "    }\n",
       "\n",
       "    .dataframe thead th {\n",
       "        text-align: right;\n",
       "    }\n",
       "</style>\n",
       "<table border=\"1\" class=\"dataframe\">\n",
       "  <thead>\n",
       "    <tr style=\"text-align: right;\">\n",
       "      <th></th>\n",
       "      <th>user_id</th>\n",
       "      <th>timestamp</th>\n",
       "      <th>group</th>\n",
       "      <th>landing_page</th>\n",
       "      <th>converted</th>\n",
       "    </tr>\n",
       "  </thead>\n",
       "  <tbody>\n",
       "    <tr>\n",
       "      <th>0</th>\n",
       "      <td>851104</td>\n",
       "      <td>2017-01-21 22:11:48.556739</td>\n",
       "      <td>control</td>\n",
       "      <td>old_page</td>\n",
       "      <td>0</td>\n",
       "    </tr>\n",
       "    <tr>\n",
       "      <th>1</th>\n",
       "      <td>804228</td>\n",
       "      <td>2017-01-12 08:01:45.159739</td>\n",
       "      <td>control</td>\n",
       "      <td>old_page</td>\n",
       "      <td>0</td>\n",
       "    </tr>\n",
       "    <tr>\n",
       "      <th>4</th>\n",
       "      <td>864975</td>\n",
       "      <td>2017-01-21 01:52:26.210827</td>\n",
       "      <td>control</td>\n",
       "      <td>old_page</td>\n",
       "      <td>1</td>\n",
       "    </tr>\n",
       "    <tr>\n",
       "      <th>5</th>\n",
       "      <td>936923</td>\n",
       "      <td>2017-01-10 15:20:49.083499</td>\n",
       "      <td>control</td>\n",
       "      <td>old_page</td>\n",
       "      <td>0</td>\n",
       "    </tr>\n",
       "    <tr>\n",
       "      <th>7</th>\n",
       "      <td>719014</td>\n",
       "      <td>2017-01-17 01:48:29.539573</td>\n",
       "      <td>control</td>\n",
       "      <td>old_page</td>\n",
       "      <td>0</td>\n",
       "    </tr>\n",
       "    <tr>\n",
       "      <th>...</th>\n",
       "      <td>...</td>\n",
       "      <td>...</td>\n",
       "      <td>...</td>\n",
       "      <td>...</td>\n",
       "      <td>...</td>\n",
       "    </tr>\n",
       "    <tr>\n",
       "      <th>294471</th>\n",
       "      <td>718310</td>\n",
       "      <td>2017-01-21 22:44:20.378320</td>\n",
       "      <td>control</td>\n",
       "      <td>old_page</td>\n",
       "      <td>0</td>\n",
       "    </tr>\n",
       "    <tr>\n",
       "      <th>294473</th>\n",
       "      <td>751197</td>\n",
       "      <td>2017-01-03 22:28:38.630509</td>\n",
       "      <td>control</td>\n",
       "      <td>old_page</td>\n",
       "      <td>0</td>\n",
       "    </tr>\n",
       "    <tr>\n",
       "      <th>294474</th>\n",
       "      <td>945152</td>\n",
       "      <td>2017-01-12 00:51:57.078372</td>\n",
       "      <td>control</td>\n",
       "      <td>old_page</td>\n",
       "      <td>0</td>\n",
       "    </tr>\n",
       "    <tr>\n",
       "      <th>294475</th>\n",
       "      <td>734608</td>\n",
       "      <td>2017-01-22 11:45:03.439544</td>\n",
       "      <td>control</td>\n",
       "      <td>old_page</td>\n",
       "      <td>0</td>\n",
       "    </tr>\n",
       "    <tr>\n",
       "      <th>294476</th>\n",
       "      <td>697314</td>\n",
       "      <td>2017-01-15 01:20:28.957438</td>\n",
       "      <td>control</td>\n",
       "      <td>old_page</td>\n",
       "      <td>0</td>\n",
       "    </tr>\n",
       "  </tbody>\n",
       "</table>\n",
       "<p>145274 rows × 5 columns</p>\n",
       "</div>"
      ],
      "text/plain": [
       "        user_id                   timestamp    group landing_page  converted\n",
       "0        851104  2017-01-21 22:11:48.556739  control     old_page          0\n",
       "1        804228  2017-01-12 08:01:45.159739  control     old_page          0\n",
       "4        864975  2017-01-21 01:52:26.210827  control     old_page          1\n",
       "5        936923  2017-01-10 15:20:49.083499  control     old_page          0\n",
       "7        719014  2017-01-17 01:48:29.539573  control     old_page          0\n",
       "...         ...                         ...      ...          ...        ...\n",
       "294471   718310  2017-01-21 22:44:20.378320  control     old_page          0\n",
       "294473   751197  2017-01-03 22:28:38.630509  control     old_page          0\n",
       "294474   945152  2017-01-12 00:51:57.078372  control     old_page          0\n",
       "294475   734608  2017-01-22 11:45:03.439544  control     old_page          0\n",
       "294476   697314  2017-01-15 01:20:28.957438  control     old_page          0\n",
       "\n",
       "[145274 rows x 5 columns]"
      ]
     },
     "execution_count": 10,
     "metadata": {},
     "output_type": "execute_result"
    }
   ],
   "source": [
    "df_control_old"
   ]
  },
  {
   "cell_type": "markdown",
   "metadata": {},
   "source": [
    "#append the rows in df_control_old to df2 "
   ]
  },
  {
   "cell_type": "code",
   "execution_count": 11,
   "metadata": {},
   "outputs": [
    {
     "data": {
      "text/html": [
       "<div>\n",
       "<style scoped>\n",
       "    .dataframe tbody tr th:only-of-type {\n",
       "        vertical-align: middle;\n",
       "    }\n",
       "\n",
       "    .dataframe tbody tr th {\n",
       "        vertical-align: top;\n",
       "    }\n",
       "\n",
       "    .dataframe thead th {\n",
       "        text-align: right;\n",
       "    }\n",
       "</style>\n",
       "<table border=\"1\" class=\"dataframe\">\n",
       "  <thead>\n",
       "    <tr style=\"text-align: right;\">\n",
       "      <th></th>\n",
       "      <th>user_id</th>\n",
       "      <th>timestamp</th>\n",
       "      <th>group</th>\n",
       "      <th>landing_page</th>\n",
       "      <th>converted</th>\n",
       "    </tr>\n",
       "  </thead>\n",
       "  <tbody>\n",
       "    <tr>\n",
       "      <th>2</th>\n",
       "      <td>661590</td>\n",
       "      <td>2017-01-11 16:55:06.154213</td>\n",
       "      <td>treatment</td>\n",
       "      <td>new_page</td>\n",
       "      <td>0</td>\n",
       "    </tr>\n",
       "    <tr>\n",
       "      <th>3</th>\n",
       "      <td>853541</td>\n",
       "      <td>2017-01-08 18:28:03.143765</td>\n",
       "      <td>treatment</td>\n",
       "      <td>new_page</td>\n",
       "      <td>0</td>\n",
       "    </tr>\n",
       "    <tr>\n",
       "      <th>6</th>\n",
       "      <td>679687</td>\n",
       "      <td>2017-01-19 03:26:46.940749</td>\n",
       "      <td>treatment</td>\n",
       "      <td>new_page</td>\n",
       "      <td>1</td>\n",
       "    </tr>\n",
       "    <tr>\n",
       "      <th>8</th>\n",
       "      <td>817355</td>\n",
       "      <td>2017-01-04 17:58:08.979471</td>\n",
       "      <td>treatment</td>\n",
       "      <td>new_page</td>\n",
       "      <td>1</td>\n",
       "    </tr>\n",
       "    <tr>\n",
       "      <th>9</th>\n",
       "      <td>839785</td>\n",
       "      <td>2017-01-15 18:11:06.610965</td>\n",
       "      <td>treatment</td>\n",
       "      <td>new_page</td>\n",
       "      <td>1</td>\n",
       "    </tr>\n",
       "    <tr>\n",
       "      <th>...</th>\n",
       "      <td>...</td>\n",
       "      <td>...</td>\n",
       "      <td>...</td>\n",
       "      <td>...</td>\n",
       "      <td>...</td>\n",
       "    </tr>\n",
       "    <tr>\n",
       "      <th>294471</th>\n",
       "      <td>718310</td>\n",
       "      <td>2017-01-21 22:44:20.378320</td>\n",
       "      <td>control</td>\n",
       "      <td>old_page</td>\n",
       "      <td>0</td>\n",
       "    </tr>\n",
       "    <tr>\n",
       "      <th>294473</th>\n",
       "      <td>751197</td>\n",
       "      <td>2017-01-03 22:28:38.630509</td>\n",
       "      <td>control</td>\n",
       "      <td>old_page</td>\n",
       "      <td>0</td>\n",
       "    </tr>\n",
       "    <tr>\n",
       "      <th>294474</th>\n",
       "      <td>945152</td>\n",
       "      <td>2017-01-12 00:51:57.078372</td>\n",
       "      <td>control</td>\n",
       "      <td>old_page</td>\n",
       "      <td>0</td>\n",
       "    </tr>\n",
       "    <tr>\n",
       "      <th>294475</th>\n",
       "      <td>734608</td>\n",
       "      <td>2017-01-22 11:45:03.439544</td>\n",
       "      <td>control</td>\n",
       "      <td>old_page</td>\n",
       "      <td>0</td>\n",
       "    </tr>\n",
       "    <tr>\n",
       "      <th>294476</th>\n",
       "      <td>697314</td>\n",
       "      <td>2017-01-15 01:20:28.957438</td>\n",
       "      <td>control</td>\n",
       "      <td>old_page</td>\n",
       "      <td>0</td>\n",
       "    </tr>\n",
       "  </tbody>\n",
       "</table>\n",
       "<p>290585 rows × 5 columns</p>\n",
       "</div>"
      ],
      "text/plain": [
       "        user_id                   timestamp      group landing_page  converted\n",
       "2        661590  2017-01-11 16:55:06.154213  treatment     new_page          0\n",
       "3        853541  2017-01-08 18:28:03.143765  treatment     new_page          0\n",
       "6        679687  2017-01-19 03:26:46.940749  treatment     new_page          1\n",
       "8        817355  2017-01-04 17:58:08.979471  treatment     new_page          1\n",
       "9        839785  2017-01-15 18:11:06.610965  treatment     new_page          1\n",
       "...         ...                         ...        ...          ...        ...\n",
       "294471   718310  2017-01-21 22:44:20.378320    control     old_page          0\n",
       "294473   751197  2017-01-03 22:28:38.630509    control     old_page          0\n",
       "294474   945152  2017-01-12 00:51:57.078372    control     old_page          0\n",
       "294475   734608  2017-01-22 11:45:03.439544    control     old_page          0\n",
       "294476   697314  2017-01-15 01:20:28.957438    control     old_page          0\n",
       "\n",
       "[290585 rows x 5 columns]"
      ]
     },
     "execution_count": 11,
     "metadata": {},
     "output_type": "execute_result"
    }
   ],
   "source": [
    "df2 = df2.append(df_control_old)\n",
    "df2"
   ]
  },
  {
   "cell_type": "markdown",
   "metadata": {},
   "source": [
    "double check group and landing_page match with each other "
   ]
  },
  {
   "cell_type": "code",
   "execution_count": 12,
   "metadata": {},
   "outputs": [
    {
     "data": {
      "text/plain": [
       "0"
      ]
     },
     "execution_count": 12,
     "metadata": {},
     "output_type": "execute_result"
    }
   ],
   "source": [
    "# Double Check all of the incorrect rows were removed from df2 \n",
    "df2[((df2['group'] == 'treatment') == (df2['landing_page'] == 'new_page')) == False].shape[0]"
   ]
  },
  {
   "cell_type": "markdown",
   "metadata": {},
   "source": [
    "find unique 'user_ids' in df2, see if there is duplicates needed to be removed later"
   ]
  },
  {
   "cell_type": "code",
   "execution_count": 13,
   "metadata": {},
   "outputs": [
    {
     "data": {
      "text/plain": [
       "290584"
      ]
     },
     "execution_count": 13,
     "metadata": {},
     "output_type": "execute_result"
    }
   ],
   "source": [
    "df2.user_id.nunique()"
   ]
  },
  {
   "cell_type": "markdown",
   "metadata": {
    "collapsed": true
   },
   "source": [
    " find one dupliate and list below  "
   ]
  },
  {
   "cell_type": "code",
   "execution_count": 14,
   "metadata": {},
   "outputs": [
    {
     "data": {
      "text/html": [
       "<div>\n",
       "<style scoped>\n",
       "    .dataframe tbody tr th:only-of-type {\n",
       "        vertical-align: middle;\n",
       "    }\n",
       "\n",
       "    .dataframe tbody tr th {\n",
       "        vertical-align: top;\n",
       "    }\n",
       "\n",
       "    .dataframe thead th {\n",
       "        text-align: right;\n",
       "    }\n",
       "</style>\n",
       "<table border=\"1\" class=\"dataframe\">\n",
       "  <thead>\n",
       "    <tr style=\"text-align: right;\">\n",
       "      <th></th>\n",
       "      <th>user_id</th>\n",
       "      <th>timestamp</th>\n",
       "      <th>group</th>\n",
       "      <th>landing_page</th>\n",
       "      <th>converted</th>\n",
       "    </tr>\n",
       "  </thead>\n",
       "  <tbody>\n",
       "    <tr>\n",
       "      <th>2893</th>\n",
       "      <td>773192</td>\n",
       "      <td>2017-01-14 02:55:59.590927</td>\n",
       "      <td>treatment</td>\n",
       "      <td>new_page</td>\n",
       "      <td>0</td>\n",
       "    </tr>\n",
       "  </tbody>\n",
       "</table>\n",
       "</div>"
      ],
      "text/plain": [
       "      user_id                   timestamp      group landing_page  converted\n",
       "2893   773192  2017-01-14 02:55:59.590927  treatment     new_page          0"
      ]
     },
     "execution_count": 14,
     "metadata": {},
     "output_type": "execute_result"
    }
   ],
   "source": [
    "df2[df2['user_id'].duplicated()]"
   ]
  },
  {
   "cell_type": "code",
   "execution_count": 15,
   "metadata": {},
   "outputs": [
    {
     "data": {
      "text/plain": [
       "290585"
      ]
     },
     "execution_count": 15,
     "metadata": {},
     "output_type": "execute_result"
    }
   ],
   "source": [
    "df2.shape[0]"
   ]
  },
  {
   "cell_type": "markdown",
   "metadata": {},
   "source": [
    "find the index of the rows that duplicates exist"
   ]
  },
  {
   "cell_type": "code",
   "execution_count": 16,
   "metadata": {},
   "outputs": [],
   "source": [
    "indexes=df2[df2['user_id'].duplicated()].index"
   ]
  },
  {
   "cell_type": "markdown",
   "metadata": {},
   "source": [
    "remove the row of duplicates"
   ]
  },
  {
   "cell_type": "code",
   "execution_count": 17,
   "metadata": {},
   "outputs": [
    {
     "data": {
      "text/plain": [
       "290585"
      ]
     },
     "execution_count": 17,
     "metadata": {},
     "output_type": "execute_result"
    }
   ],
   "source": [
    "df2.drop(indexes)\n",
    "df2.shape[0]"
   ]
  },
  {
   "cell_type": "markdown",
   "metadata": {},
   "source": [
    "#calculate the 'converted' success rate in population and saved it to a new variable named p_population, note 'converted'==1 means success"
   ]
  },
  {
   "cell_type": "code",
   "execution_count": 18,
   "metadata": {},
   "outputs": [
    {
     "data": {
      "text/plain": [
       "0.11959667567149027"
      ]
     },
     "execution_count": 18,
     "metadata": {},
     "output_type": "execute_result"
    }
   ],
   "source": [
    "p_population=df2['converted'].mean()\n",
    "p_population"
   ]
  },
  {
   "cell_type": "markdown",
   "metadata": {},
   "source": [
    "the probability of converted rate conditioned on group=='control' "
   ]
  },
  {
   "cell_type": "code",
   "execution_count": 19,
   "metadata": {},
   "outputs": [
    {
     "data": {
      "text/plain": [
       "0.1203863045004612"
      ]
     },
     "execution_count": 19,
     "metadata": {},
     "output_type": "execute_result"
    }
   ],
   "source": [
    "df2_control=df2.query(\"group == 'control'\")\n",
    "df2_control_converted=df2_control['converted'].mean()\n",
    "df2_control_converted"
   ]
  },
  {
   "cell_type": "markdown",
   "metadata": {},
   "source": [
    "the probability of converted rate conditioned on group =='treatment' "
   ]
  },
  {
   "cell_type": "code",
   "execution_count": 20,
   "metadata": {},
   "outputs": [
    {
     "data": {
      "text/plain": [
       "0.11880724790277405"
      ]
     },
     "execution_count": 20,
     "metadata": {},
     "output_type": "execute_result"
    }
   ],
   "source": [
    "df2_treatment=df2.query(\"group == 'treatment'\")\n",
    "df2_treatment_converted=df2_treatment['converted'].mean()\n",
    "df2_treatment_converted"
   ]
  },
  {
   "cell_type": "markdown",
   "metadata": {},
   "source": [
    "#calculate the difference of converted rate between these two groups and saved to a new variable named obs_diff"
   ]
  },
  {
   "cell_type": "code",
   "execution_count": 21,
   "metadata": {},
   "outputs": [
    {
     "data": {
      "text/plain": [
       "-0.0015790565976871451"
      ]
     },
     "execution_count": 21,
     "metadata": {},
     "output_type": "execute_result"
    }
   ],
   "source": [
    "obs_diff=df2_treatment_converted-df2_control_converted\n",
    "obs_diff"
   ]
  },
  {
   "cell_type": "markdown",
   "metadata": {},
   "source": [
    "how many individual received the new page"
   ]
  },
  {
   "cell_type": "code",
   "execution_count": 22,
   "metadata": {},
   "outputs": [
    {
     "data": {
      "text/html": [
       "<div>\n",
       "<style scoped>\n",
       "    .dataframe tbody tr th:only-of-type {\n",
       "        vertical-align: middle;\n",
       "    }\n",
       "\n",
       "    .dataframe tbody tr th {\n",
       "        vertical-align: top;\n",
       "    }\n",
       "\n",
       "    .dataframe thead th {\n",
       "        text-align: right;\n",
       "    }\n",
       "</style>\n",
       "<table border=\"1\" class=\"dataframe\">\n",
       "  <thead>\n",
       "    <tr style=\"text-align: right;\">\n",
       "      <th></th>\n",
       "      <th>user_id</th>\n",
       "      <th>timestamp</th>\n",
       "      <th>group</th>\n",
       "      <th>landing_page</th>\n",
       "      <th>converted</th>\n",
       "    </tr>\n",
       "  </thead>\n",
       "  <tbody>\n",
       "    <tr>\n",
       "      <th>2</th>\n",
       "      <td>661590</td>\n",
       "      <td>2017-01-11 16:55:06.154213</td>\n",
       "      <td>treatment</td>\n",
       "      <td>new_page</td>\n",
       "      <td>0</td>\n",
       "    </tr>\n",
       "    <tr>\n",
       "      <th>3</th>\n",
       "      <td>853541</td>\n",
       "      <td>2017-01-08 18:28:03.143765</td>\n",
       "      <td>treatment</td>\n",
       "      <td>new_page</td>\n",
       "      <td>0</td>\n",
       "    </tr>\n",
       "    <tr>\n",
       "      <th>6</th>\n",
       "      <td>679687</td>\n",
       "      <td>2017-01-19 03:26:46.940749</td>\n",
       "      <td>treatment</td>\n",
       "      <td>new_page</td>\n",
       "      <td>1</td>\n",
       "    </tr>\n",
       "    <tr>\n",
       "      <th>8</th>\n",
       "      <td>817355</td>\n",
       "      <td>2017-01-04 17:58:08.979471</td>\n",
       "      <td>treatment</td>\n",
       "      <td>new_page</td>\n",
       "      <td>1</td>\n",
       "    </tr>\n",
       "    <tr>\n",
       "      <th>9</th>\n",
       "      <td>839785</td>\n",
       "      <td>2017-01-15 18:11:06.610965</td>\n",
       "      <td>treatment</td>\n",
       "      <td>new_page</td>\n",
       "      <td>1</td>\n",
       "    </tr>\n",
       "    <tr>\n",
       "      <th>...</th>\n",
       "      <td>...</td>\n",
       "      <td>...</td>\n",
       "      <td>...</td>\n",
       "      <td>...</td>\n",
       "      <td>...</td>\n",
       "    </tr>\n",
       "    <tr>\n",
       "      <th>294462</th>\n",
       "      <td>677163</td>\n",
       "      <td>2017-01-03 19:41:51.902148</td>\n",
       "      <td>treatment</td>\n",
       "      <td>new_page</td>\n",
       "      <td>0</td>\n",
       "    </tr>\n",
       "    <tr>\n",
       "      <th>294465</th>\n",
       "      <td>925675</td>\n",
       "      <td>2017-01-07 20:38:26.346410</td>\n",
       "      <td>treatment</td>\n",
       "      <td>new_page</td>\n",
       "      <td>0</td>\n",
       "    </tr>\n",
       "    <tr>\n",
       "      <th>294468</th>\n",
       "      <td>643562</td>\n",
       "      <td>2017-01-02 19:20:05.460595</td>\n",
       "      <td>treatment</td>\n",
       "      <td>new_page</td>\n",
       "      <td>0</td>\n",
       "    </tr>\n",
       "    <tr>\n",
       "      <th>294472</th>\n",
       "      <td>822004</td>\n",
       "      <td>2017-01-04 03:36:46.071379</td>\n",
       "      <td>treatment</td>\n",
       "      <td>new_page</td>\n",
       "      <td>0</td>\n",
       "    </tr>\n",
       "    <tr>\n",
       "      <th>294477</th>\n",
       "      <td>715931</td>\n",
       "      <td>2017-01-16 12:40:24.467417</td>\n",
       "      <td>treatment</td>\n",
       "      <td>new_page</td>\n",
       "      <td>0</td>\n",
       "    </tr>\n",
       "  </tbody>\n",
       "</table>\n",
       "<p>145311 rows × 5 columns</p>\n",
       "</div>"
      ],
      "text/plain": [
       "        user_id                   timestamp      group landing_page  converted\n",
       "2        661590  2017-01-11 16:55:06.154213  treatment     new_page          0\n",
       "3        853541  2017-01-08 18:28:03.143765  treatment     new_page          0\n",
       "6        679687  2017-01-19 03:26:46.940749  treatment     new_page          1\n",
       "8        817355  2017-01-04 17:58:08.979471  treatment     new_page          1\n",
       "9        839785  2017-01-15 18:11:06.610965  treatment     new_page          1\n",
       "...         ...                         ...        ...          ...        ...\n",
       "294462   677163  2017-01-03 19:41:51.902148  treatment     new_page          0\n",
       "294465   925675  2017-01-07 20:38:26.346410  treatment     new_page          0\n",
       "294468   643562  2017-01-02 19:20:05.460595  treatment     new_page          0\n",
       "294472   822004  2017-01-04 03:36:46.071379  treatment     new_page          0\n",
       "294477   715931  2017-01-16 12:40:24.467417  treatment     new_page          0\n",
       "\n",
       "[145311 rows x 5 columns]"
      ]
     },
     "execution_count": 22,
     "metadata": {},
     "output_type": "execute_result"
    }
   ],
   "source": [
    "prob_new=df2.query(\"landing_page=='new_page'\")\n",
    "prob_new"
   ]
  },
  {
   "cell_type": "code",
   "execution_count": 23,
   "metadata": {},
   "outputs": [
    {
     "data": {
      "text/plain": [
       "145311"
      ]
     },
     "execution_count": 23,
     "metadata": {},
     "output_type": "execute_result"
    }
   ],
   "source": [
    "probability_new=df2.query(\"landing_page=='new_page'\").shape[0]\n",
    "probability_new"
   ]
  },
  {
   "cell_type": "code",
   "execution_count": 24,
   "metadata": {},
   "outputs": [
    {
     "data": {
      "text/plain": [
       "290585"
      ]
     },
     "execution_count": 24,
     "metadata": {},
     "output_type": "execute_result"
    }
   ],
   "source": [
    "df2.shape[0]"
   ]
  },
  {
   "cell_type": "code",
   "execution_count": 25,
   "metadata": {},
   "outputs": [
    {
     "data": {
      "text/plain": [
       "0.5000636646764286"
      ]
     },
     "execution_count": 25,
     "metadata": {},
     "output_type": "execute_result"
    }
   ],
   "source": [
    "probability_new_page=probability_new/df2.shape[0]\n",
    "probability_new_page"
   ]
  },
  {
   "cell_type": "markdown",
   "metadata": {},
   "source": [
    "#from the calculation of conversion rate for control and treatment group, we can see that conversion rate for control group is higher than conversion rate for treatment group. So the new treatment group users cannot lead to more conversions."
   ]
  },
  {
   "cell_type": "markdown",
   "metadata": {},
   "source": [
    "##if now I want to assume that the old page is better unless the new page proves to be definitely better at a type I error rate of 5%, my null hypothesis would be conversion rate of new page is smaller or equal than the conversion rate of old page. My alternative hypothesis would be conversion rate of new page is greater than conversion rate of old page. "
   ]
  },
  {
   "cell_type": "markdown",
   "metadata": {},
   "source": [
    "#                                  𝐻0: 𝑝𝑛𝑒𝑤 <= 𝑝𝑜𝑙𝑑\n",
    "#                                  𝐻1: 𝑝𝑛𝑒𝑤 > 𝑝𝑜𝑙𝑑"
   ]
  },
  {
   "cell_type": "markdown",
   "metadata": {},
   "source": [
    "## Null hypothesis testing "
   ]
  },
  {
   "cell_type": "markdown",
   "metadata": {},
   "source": [
    "#conversion rate of new_page under the null"
   ]
  },
  {
   "cell_type": "code",
   "execution_count": 26,
   "metadata": {},
   "outputs": [
    {
     "data": {
      "text/plain": [
       "0.11959667567149027"
      ]
     },
     "execution_count": 26,
     "metadata": {},
     "output_type": "execute_result"
    }
   ],
   "source": [
    "pnew=df2['converted'].mean()\n",
    "pnew"
   ]
  },
  {
   "cell_type": "markdown",
   "metadata": {},
   "source": [
    "#conversion rate of old_page under the null"
   ]
  },
  {
   "cell_type": "code",
   "execution_count": 27,
   "metadata": {},
   "outputs": [
    {
     "data": {
      "text/plain": [
       "0.11959667567149027"
      ]
     },
     "execution_count": 27,
     "metadata": {},
     "output_type": "execute_result"
    }
   ],
   "source": [
    "pold=df2['converted'].mean()\n",
    "pold"
   ]
  },
  {
   "cell_type": "markdown",
   "metadata": {},
   "source": [
    "#nnew is the number of individuals in the treatment group"
   ]
  },
  {
   "cell_type": "code",
   "execution_count": 28,
   "metadata": {},
   "outputs": [
    {
     "data": {
      "text/plain": [
       "145311"
      ]
     },
     "execution_count": 28,
     "metadata": {},
     "output_type": "execute_result"
    }
   ],
   "source": [
    "nnew=df2_treatment.shape[0]\n",
    "nnew"
   ]
  },
  {
   "cell_type": "markdown",
   "metadata": {},
   "source": [
    "#nold is the number of individuals in the control group"
   ]
  },
  {
   "cell_type": "code",
   "execution_count": 29,
   "metadata": {},
   "outputs": [
    {
     "data": {
      "text/plain": [
       "145274"
      ]
     },
     "execution_count": 29,
     "metadata": {},
     "output_type": "execute_result"
    }
   ],
   "source": [
    "nold=df2_control.shape[0]\n",
    "nold"
   ]
  },
  {
   "cell_type": "markdown",
   "metadata": {},
   "source": [
    "#Simulate sample for treatment group; saved the conversion rate to new_page_converted"
   ]
  },
  {
   "cell_type": "code",
   "execution_count": 30,
   "metadata": {},
   "outputs": [
    {
     "data": {
      "text/plain": [
       "0.12019736977930094"
      ]
     },
     "execution_count": 30,
     "metadata": {},
     "output_type": "execute_result"
    }
   ],
   "source": [
    "new_page_converted=np.random.choice([1,0], size=nnew, p=[pnew, (1-pnew)]).mean()\n",
    "new_page_converted"
   ]
  },
  {
   "cell_type": "markdown",
   "metadata": {},
   "source": [
    "#simulate sample for the control group; saved  the conversion rate to old_page_converted"
   ]
  },
  {
   "cell_type": "code",
   "execution_count": 31,
   "metadata": {},
   "outputs": [
    {
     "data": {
      "text/plain": [
       "0.11892010958602366"
      ]
     },
     "execution_count": 31,
     "metadata": {},
     "output_type": "execute_result"
    }
   ],
   "source": [
    "old_page_converted=np.random.choice([1,0],size=nold, p=[pold, (1-pold)]).mean()\n",
    "old_page_converted"
   ]
  },
  {
   "cell_type": "markdown",
   "metadata": {},
   "source": [
    "find the 'converted' rate difference between two simulated sample"
   ]
  },
  {
   "cell_type": "code",
   "execution_count": 32,
   "metadata": {},
   "outputs": [
    {
     "data": {
      "text/plain": [
       "0.0012772601932772853"
      ]
     },
     "execution_count": 32,
     "metadata": {},
     "output_type": "execute_result"
    }
   ],
   "source": [
    "p_diff=new_page_converted-old_page_converted\n",
    "p_diff"
   ]
  },
  {
   "cell_type": "markdown",
   "metadata": {},
   "source": [
    "##now, using the same process above but this time, we want to use bootstaping the sample for 100000 times; save the result of each bootstrap in the new list called p_difffs"
   ]
  },
  {
   "cell_type": "code",
   "execution_count": 33,
   "metadata": {},
   "outputs": [
    {
     "data": {
      "text/plain": [
       "[-0.0021710711952533657,\n",
       " 7.977764864594561e-05,\n",
       " -0.0018061767489050418,\n",
       " 0.0009399963239464793,\n",
       " 0.000307199269644412,\n",
       " 0.0013049959341717293,\n",
       " 0.0015250853117626667,\n",
       " 0.0005198249489816592,\n",
       " 0.0016418882244706862,\n",
       " -0.0009802513506796673,\n",
       " -0.000898069475796584,\n",
       " 0.0008437090835274191,\n",
       " -0.000794385140912568,\n",
       " 0.0014423267882876928,\n",
       " 0.0011810868803915908,\n",
       " -0.0005601956559794924,\n",
       " -0.0007597132738804274,\n",
       " -0.0003058217649698214,\n",
       " -0.0012831220372522545,\n",
       " 0.00032061230632385307,\n",
       " 0.002020719774151844,\n",
       " 0.0010295349804750331,\n",
       " -0.0011797829904308527,\n",
       " -0.0007531645013561378,\n",
       " 0.0009881548423718856,\n",
       " 0.0021376681635563166,\n",
       " -0.00021627785024741497,\n",
       " 0.0019378630977250622,\n",
       " -0.0007532398688012698,\n",
       " 0.0011188370182804719,\n",
       " 0.0007196931131390749,\n",
       " 0.000320687673768999,\n",
       " -0.0004914355814322618,\n",
       " -4.4129652402899455e-05,\n",
       " 0.0002862576836538261,\n",
       " 0.0011810693530787814,\n",
       " 0.000864542000178492,\n",
       " 0.0005063312866632336,\n",
       " -0.0013242813312138169,\n",
       " -0.0011384256378344088,\n",
       " -0.001613532158815642,\n",
       " 0.0010158082048960376,\n",
       " -0.00140003712476236,\n",
       " -0.0003607867074180704,\n",
       " -0.001310544039247144,\n",
       " -0.0007533450326782237,\n",
       " -0.0008495148401013453,\n",
       " 0.0014562446115764377,\n",
       " -0.000911606956397068,\n",
       " 0.0008090372164952925,\n",
       " 0.0006643671080466679,\n",
       " -0.001351987275676439,\n",
       " -0.0006705532073088827,\n",
       " -0.000615549704772414,\n",
       " -0.00025049575987741435,\n",
       " 5.23013119813065e-05,\n",
       " -0.0007463440554830586,\n",
       " 0.0002656526220694566,\n",
       " 0.00032748533413540226,\n",
       " -0.00018211076982460606,\n",
       " -0.001840357851178115,\n",
       " -0.002728818806713662,\n",
       " 0.0005615626442663918,\n",
       " 0.0010639158941142812,\n",
       " -0.00040223344930992444,\n",
       " -0.00018199158409741567,\n",
       " -0.0006639465946522427,\n",
       " 0.0014769197824121005,\n",
       " 0.00043068942064804216,\n",
       " 0.0007058331299826387,\n",
       " 0.002605354804565918,\n",
       " -0.0006913072510522505,\n",
       " 0.002220247908440484,\n",
       " -7.170238928805306e-05,\n",
       " 0.0006094565002681823,\n",
       " 0.0004582639102644892,\n",
       " 0.0005270590394373664,\n",
       " -0.0002989224461890372,\n",
       " 0.00027935135394792365,\n",
       " 0.0014079861874679162,\n",
       " 0.001242865257787787,\n",
       " 0.00041021406117858206,\n",
       " -7.852283516113223e-05,\n",
       " 0.0008502631142455613,\n",
       " 0.00021729604500912714,\n",
       " -0.0027423089635695147,\n",
       " -0.0011867313856875478,\n",
       " -0.0008356618678700412,\n",
       " -0.0010836710231400537,\n",
       " 0.0012911201764337354,\n",
       " 0.0005062226173237344,\n",
       " 0.0004237795854795806,\n",
       " -0.00018176372903071225,\n",
       " -0.0020470219229706405,\n",
       " -0.0005813983989311489,\n",
       " -0.0007462406443373981,\n",
       " -0.0005053814484215491,\n",
       " -0.00031259663982956265,\n",
       " -3.711114789491099e-05,\n",
       " 0.0006579497903685394,\n",
       " -0.001661890488607265,\n",
       " -0.0003333997600488414,\n",
       " 0.0004374204772257251,\n",
       " -0.0003608357838939674,\n",
       " 0.0011463343877204796,\n",
       " -0.003210284805240715,\n",
       " 0.0005265752856034311,\n",
       " 0.0001691287629272814,\n",
       " 0.002887673011492606,\n",
       " 0.00018279769837395432,\n",
       " -0.0010629450230972004,\n",
       " 0.001889727364806304,\n",
       " 0.0004650983779878187,\n",
       " -0.0006915035569558664,\n",
       " 0.0012495822925151917,\n",
       " 0.00042417745548067876,\n",
       " -0.0015445267018888847,\n",
       " -9.255984417708141e-05,\n",
       " 0.001469878492397464,\n",
       " 0.0010706539616170824,\n",
       " -0.0021433284434338035,\n",
       " 0.0006853051885746947,\n",
       " 0.0026470188851367843,\n",
       " -0.002329336624434783,\n",
       " 0.0006785338191775264,\n",
       " 0.0005407700404348043,\n",
       " 0.0008780286515717994,\n",
       " 0.0012495840452464713,\n",
       " -0.000918232849097797,\n",
       " 0.0010706837580488765,\n",
       " 0.0014285386671138295,\n",
       " -4.430492553111898e-05,\n",
       " 0.0007885548461006864,\n",
       " -0.00012685487398349238,\n",
       " 0.002646768244563405,\n",
       " 9.344483136132509e-05,\n",
       " 0.0008850085959915543,\n",
       " 0.0035346350241942243,\n",
       " -0.0017648544509342307,\n",
       " -0.0017100069414819202,\n",
       " 0.0006855190217911339,\n",
       " 0.0003479712099925675,\n",
       " 0.00020363762595015933,\n",
       " -0.0011040377132700147,\n",
       " -0.0021777777135930654,\n",
       " -0.0011728906825752144,\n",
       " 0.0012496383799162208,\n",
       " 0.0028535322220390458,\n",
       " 0.0005338654634601814,\n",
       " -0.0008221051072254404,\n",
       " -0.001090205773814093,\n",
       " 0.00012785378870110164,\n",
       " 0.0012290210492128806,\n",
       " 0.0014009939739291766,\n",
       " -0.0001682367648179195,\n",
       " 5.2075209645882636e-05,\n",
       " -0.0005674893392988156,\n",
       " 0.0008642966177989653,\n",
       " -0.0019094649665192531,\n",
       " -0.0005051360660420084,\n",
       " 0.002192692698868154,\n",
       " 0.0011258695446386968,\n",
       " 0.001380483559834056,\n",
       " 0.0013803415886001896,\n",
       " -0.0012761508564889112,\n",
       " 0.0002722942893517294,\n",
       " 0.0008503595144661036,\n",
       " -0.0002506797966620594,\n",
       " -0.002535930586976015,\n",
       " 0.0009055435483246305,\n",
       " 0.0008369201868174275,\n",
       " -0.001145659728290116,\n",
       " 0.0001690569009447085,\n",
       " -0.002225922210168249,\n",
       " -0.0008423929244477102,\n",
       " -0.0009252303208303891,\n",
       " -0.0010832819167953534,\n",
       " -0.0010010930309871519,\n",
       " -0.00186130294263126,\n",
       " 0.0015799608649155056,\n",
       " -0.002570364082553747,\n",
       " 0.00036171376015309287,\n",
       " -0.00024367180854177606,\n",
       " 0.0007471484170283177,\n",
       " -0.0006913791130348096,\n",
       " -0.0006910057812716669,\n",
       " -0.0008289255530985196,\n",
       " 0.001208168852517691,\n",
       " -0.0018817169565058661,\n",
       " -0.00047795594096410043,\n",
       " -0.0012831658555343128,\n",
       " 0.0024748356326666082,\n",
       " 0.001538685890689312,\n",
       " -0.0007872439452148161,\n",
       " 0.0009952574779814316,\n",
       " -0.00040925195381789903,\n",
       " 0.001414785600565599,\n",
       " 0.0010779564085928034,\n",
       " 0.0006301965221612998,\n",
       " 0.0008094000318707301,\n",
       " 0.0022201252172507208,\n",
       " -0.0005877631346708073,\n",
       " -0.001441447059297274,\n",
       " -5.801066833471813e-05,\n",
       " 0.00021736089606658182,\n",
       " 0.0005066555419504654,\n",
       " -0.0005330558437210836,\n",
       " 0.0009675059625054716,\n",
       " 0.00224092658473872,\n",
       " -0.00246700049749439,\n",
       " -0.0006775892391296806,\n",
       " -0.0003676457133793415,\n",
       " -0.00028486440439769167,\n",
       " -0.0008287958509836102,\n",
       " -0.0005741012101492804,\n",
       " 0.0013735579500840367,\n",
       " -1.6625272037745775e-05,\n",
       " -0.00023692147192000412,\n",
       " 0.0007745984627237218,\n",
       " 6.606664764850778e-05,\n",
       " -0.0010834729645051444,\n",
       " 0.0009469114173087795,\n",
       " 0.0006441756910449403,\n",
       " -0.0008562231111723384,\n",
       " -0.0003127701602265165,\n",
       " 0.000692414835109359,\n",
       " 0.001325266224081162,\n",
       " 0.00043777628167604443,\n",
       " -0.0006226120275624608,\n",
       " 3.1263325770206074e-05,\n",
       " -0.00010614640125346242,\n",
       " 0.001263610537874743,\n",
       " -0.002928234766200216,\n",
       " -0.0003677666518378253,\n",
       " 0.000320428269539208,\n",
       " 0.0009398017707741152,\n",
       " 0.000244938891145588,\n",
       " 0.0033697033894925926,\n",
       " -0.002094975371836033,\n",
       " 0.0011674074285572544,\n",
       " -0.0005739995517348995,\n",
       " 0.00027251338076202114,\n",
       " -0.00032643734294189597,\n",
       " -2.717965136678213e-06,\n",
       " 0.0011050944681199465,\n",
       " -0.0003332910907093284,\n",
       " 0.0004994091823757874,\n",
       " 0.0009470218393795721,\n",
       " 0.0019998185009807573,\n",
       " -0.0010491621601171758,\n",
       " -0.00013374718183915835,\n",
       " -8.565526720245853e-05,\n",
       " -0.002673124728051951,\n",
       " -0.0004505532190133277,\n",
       " 0.0015595082909526936,\n",
       " 0.0010637791810742536,\n",
       " -8.570609640964899e-05,\n",
       " -0.0018541301977704344,\n",
       " -0.001166375211945278,\n",
       " -0.0010763668234330531,\n",
       " 0.0015321371181650084,\n",
       " 0.0016147045939302052,\n",
       " 0.0003893723808710836,\n",
       " 0.0017313690408669175,\n",
       " 0.00028623139268460496,\n",
       " 0.001958745090852046,\n",
       " -0.0013587621505361663,\n",
       " 0.0005957560156584357,\n",
       " -0.004070710302832556,\n",
       " 0.0014149678846189645,\n",
       " 0.0003342321652946151,\n",
       " -0.0018750314709415211,\n",
       " -0.0001959164183112927,\n",
       " -0.00043631815136245533,\n",
       " -0.0011451076179361808,\n",
       " -0.0021092332249935675,\n",
       " -0.0019094597083254145,\n",
       " 0.0015803710040355745,\n",
       " 0.002323643042662915,\n",
       " 0.0007749805581432762,\n",
       " -4.4339980156779535e-05,\n",
       " 4.551592073388788e-05,\n",
       " 0.0009538265106711075,\n",
       " 0.00042357977411339176,\n",
       " -0.000663517175488057,\n",
       " 0.0014079774238115045,\n",
       " 0.0006301404347602568,\n",
       " 0.0001068596207720457,\n",
       " -0.0001544258581373803,\n",
       " -0.0016615452005446507,\n",
       " -6.495555812884024e-05,\n",
       " 0.000685634702055779,\n",
       " -0.003196300378163236,\n",
       " -9.83111713391549e-06,\n",
       " -0.0008839833903047101,\n",
       " 0.0005406105418881285,\n",
       " 0.0014768864805177334,\n",
       " -0.001503228942156029,\n",
       " -0.00027799663477999503,\n",
       " -0.0002437314014053782,\n",
       " 0.0002588514562404942,\n",
       " -0.0011524240867621521,\n",
       " -0.000739378132913554,\n",
       " -0.0005741310065810745,\n",
       " -0.0005124823312998017,\n",
       " 0.0019515933787666168,\n",
       " 0.0007474200903770795,\n",
       " -0.0006360566134049755,\n",
       " 0.0030324623056684347,\n",
       " 0.0022407933771612654,\n",
       " 0.0021580383591488506,\n",
       " 0.000630334987932607,\n",
       " 0.00029296946018739223,\n",
       " 3.856927820848621e-05,\n",
       " 0.001470016958168771,\n",
       " 0.0011121480272535678,\n",
       " 0.000389239173293629,\n",
       " 0.002447126182741413,\n",
       " -0.0010766928314515645,\n",
       " 0.0015936753713755025,\n",
       " 0.0008368956485794721,\n",
       " -0.0012695477492948443,\n",
       " -0.00031924531803695366,\n",
       " 0.0015522847168846776,\n",
       " -0.0011525467779519155,\n",
       " 0.0030804069908774018,\n",
       " -0.0019920569805224053,\n",
       " -5.815263956858441e-05,\n",
       " 0.000740382305825002,\n",
       " 4.195375494370213e-06,\n",
       " -0.0004985767771300137,\n",
       " 0.0008436565015889491,\n",
       " 0.00013479517303266464,\n",
       " 0.0010638860976824732,\n",
       " -0.001186643749123431,\n",
       " -0.0008839833903047101,\n",
       " 0.00029280119798429094,\n",
       " 0.002220303995841527,\n",
       " 0.001883206635982529,\n",
       " 0.0009194561134195506,\n",
       " 0.0011465008971923013,\n",
       " -0.0006291082181482943,\n",
       " 0.002398981686166257,\n",
       " 0.000829638772617089,\n",
       " 0.0009673657440028849,\n",
       " -0.0003540276071398729,\n",
       " -0.0008494903018633898,\n",
       " -0.0006019806750088563,\n",
       " 0.00022388162489037078,\n",
       " 0.001222006050167465,\n",
       " 0.00010004443309281907,\n",
       " 3.616974171186116e-06,\n",
       " 0.001036255520665011,\n",
       " -0.0015998334269371889,\n",
       " -0.001579335281961039,\n",
       " -0.0017167677944913834,\n",
       " -0.000808132949266932,\n",
       " 7.285729708977895e-05,\n",
       " -0.0009320122066152486,\n",
       " 0.000492630802053487,\n",
       " -0.00028507823761414475,\n",
       " -0.000539778136642341,\n",
       " 0.0012013238684066702,\n",
       " -0.0012213611871689095,\n",
       " 0.0008092142423548054,\n",
       " 0.0010843369189140056,\n",
       " 0.0006027359600782045,\n",
       " 0.001634946840139137,\n",
       " -0.0017578534737390794,\n",
       " 0.0010089369298157819,\n",
       " 0.0011533739250038505,\n",
       " -0.002501609266200369,\n",
       " 3.8409779661796595e-05,\n",
       " 0.0012222251415777707,\n",
       " 0.0010435229130150714,\n",
       " 0.0016145801500091622,\n",
       " -0.001138774431359596,\n",
       " -0.00036782098650758877,\n",
       " 0.0003550335327826004,\n",
       " 0.0007199647864878506,\n",
       " 0.0007680181410363307,\n",
       " 0.0020550796550157235,\n",
       " -0.0009595726743814453,\n",
       " 0.0016212761519611846,\n",
       " 0.0007885934061888922,\n",
       " -0.001730655821348348,\n",
       " -0.0005189101653656214,\n",
       " -0.0011730975048665354,\n",
       " -0.0005743728834980422,\n",
       " 0.002660673798733193,\n",
       " 0.001848415583223198,\n",
       " 0.0015937086732698696,\n",
       " 0.0003414276956621165,\n",
       " 0.0009471322614503647,\n",
       " 0.0006027552401223213,\n",
       " -0.0012968838674568828,\n",
       " 0.0010706346815729656,\n",
       " -0.0011593689765562742,\n",
       " 0.0010020008036780853,\n",
       " -0.0003470143608257509,\n",
       " -0.0016342055769200392,\n",
       " 3.820646283304863e-05,\n",
       " 0.0018279542456039743,\n",
       " 0.0008850068432602748,\n",
       " 0.0005891616721207943,\n",
       " -0.0002988330568936548,\n",
       " -0.002019471971592149,\n",
       " -0.002267640625408865,\n",
       " 0.0006923236930826693,\n",
       " 0.00069911609525522,\n",
       " 0.0021582381705150255,\n",
       " -4.411738328391479e-05,\n",
       " -0.000560388456420563,\n",
       " 0.001167100700582832,\n",
       " 2.467248769510988e-05,\n",
       " -0.0005951076471973071,\n",
       " -0.00264553446385396,\n",
       " 0.00044444774539011134,\n",
       " -0.0017029919424365048,\n",
       " 0.00046508260340627494,\n",
       " 0.00038236965094463893,\n",
       " -0.00042263869952810507,\n",
       " 3.97102589022591e-06,\n",
       " 5.198406761920682e-05,\n",
       " 0.0017521931938615926,\n",
       " 0.0010088790896834593,\n",
       " -0.0007462178588307222,\n",
       " 0.0013253293224073232,\n",
       " 0.0009951873687301382,\n",
       " 0.0007060364468113867,\n",
       " 0.0005889986681115317,\n",
       " 0.00209651763325118,\n",
       " -0.002301746360236792,\n",
       " -0.0008632118192485327,\n",
       " -0.0017511259226239834,\n",
       " -0.002026210039094964,\n",
       " -0.0006294184515852758,\n",
       " -0.001283258750292296,\n",
       " 0.0002310631334075941,\n",
       " -0.000973562359652777,\n",
       " -0.0003885837939073683,\n",
       " 0.00043794279114786616,\n",
       " 0.0011740350739892491,\n",
       " -0.0006913177674399279,\n",
       " -0.00041586908286221635,\n",
       " 0.001249727769211631,\n",
       " 0.00041692408498085476,\n",
       " -0.000704993713811719,\n",
       " 0.00275707847214815,\n",
       " -0.0006293255568273065,\n",
       " -0.0014894005081626804,\n",
       " -0.0005396905000782104,\n",
       " 0.00012096498630802255,\n",
       " -0.0001748135810427376,\n",
       " -0.002790504289351875,\n",
       " 0.0004169188267870022,\n",
       " 0.0013804485052084092,\n",
       " -0.0013036447204663598,\n",
       " 0.001394264670082801,\n",
       " 0.00041017725382164194,\n",
       " -0.00031966422081343426,\n",
       " 0.0027638778852458468,\n",
       " 0.00036852719510102605,\n",
       " 0.0002448617709691625,\n",
       " -0.0009596217508573424,\n",
       " -9.229167629087875e-05,\n",
       " -0.0012212700451422198,\n",
       " -0.001544600316602751,\n",
       " 0.0011190841533912782,\n",
       " -0.00029210024758469233,\n",
       " -0.0008975874746939422,\n",
       " 0.00020357277489271852,\n",
       " 0.0010432337123534863,\n",
       " 0.0026812788603175625,\n",
       " 0.0004100195080062319,\n",
       " -0.001310615901229717,\n",
       " 0.0005545809471153434,\n",
       " 0.00030668747210996217,\n",
       " -0.0018890562108385134,\n",
       " 0.0018415513190680605,\n",
       " 0.0015664356534339924,\n",
       " -0.0001815569067393774,\n",
       " 0.00286019842755926,\n",
       " 0.00045807987347984414,\n",
       " 0.000575031768346862,\n",
       " -0.002329434777386591,\n",
       " -7.875244295910133e-05,\n",
       " -0.001757674695148273,\n",
       " -0.0006703674177929303,\n",
       " 0.00012082476780542195,\n",
       " 0.0012222777235162269,\n",
       " -0.001923055029058221,\n",
       " -0.0019026865861969666,\n",
       " -0.000291875897980548,\n",
       " -0.0006635978011270555,\n",
       " 4.535817491847782e-05,\n",
       " -0.0008702425928754781,\n",
       " 0.0006921308926416125,\n",
       " 0.0008781162881359023,\n",
       " -0.0008149586533338499,\n",
       " -0.002728559402483871,\n",
       " -0.000932318934589671,\n",
       " -0.0027216758582846307,\n",
       " 0.00016914103204626607,\n",
       " 1.0970250354083722e-05,\n",
       " 0.0006029462878320846,\n",
       " 0.00010716634874646802,\n",
       " 0.0010016344828400608,\n",
       " 5.2469574184421663e-05,\n",
       " 0.0008159680844391365,\n",
       " 0.0013048942757573484,\n",
       " -0.0005882241029980667,\n",
       " 0.001194454346057694,\n",
       " 7.969001208182891e-05,\n",
       " 0.0016699236824143926,\n",
       " -0.00047099878205099366,\n",
       " 0.0003343758892597609,\n",
       " 0.0009813747093183056,\n",
       " 3.8360655814778655e-06,\n",
       " 0.0007470677913893331,\n",
       " 0.0006371221319113052,\n",
       " -0.001909337017135651,\n",
       " -0.000629455258942202,\n",
       " -9.948895938965974e-05,\n",
       " -0.0008909387964865373,\n",
       " 0.0007746685719750152,\n",
       " 9.337296937875217e-05,\n",
       " 0.0003137112348117893,\n",
       " -0.0005878262329969686,\n",
       " -0.00011973295832985731,\n",
       " -0.001510133519130652,\n",
       " 0.0003550633292144084,\n",
       " 0.0006164259283002599,\n",
       " -0.0008768404418756925,\n",
       " -0.0006222965359316268,\n",
       " -0.0008702092909811249,\n",
       " 0.0016629349743382121,\n",
       " 0.00015512505580569935,\n",
       " 0.0013254712936411894,\n",
       " 0.00022433733502377762,\n",
       " 0.0007059102501590642,\n",
       " -0.001124846091683146,\n",
       " -0.0008358388937295541,\n",
       " 0.0008023044071863439,\n",
       " -0.0008289676186492845,\n",
       " -0.0014894460791760183,\n",
       " -0.00149635591434448,\n",
       " -0.0013998741207530974,\n",
       " -0.0002781386060138752,\n",
       " 0.002936015566702685,\n",
       " 0.0006097579700487521,\n",
       " -0.0010557179435666114,\n",
       " 0.0008576654669043837,\n",
       " 0.0001413807529138944,\n",
       " -0.00010617970314782954,\n",
       " -8.558691068244473e-05,\n",
       " -0.0005743904108108655,\n",
       " 0.001759201181981876,\n",
       " 0.0002929747183812448,\n",
       " -0.001269382992554302,\n",
       " 0.0013462428646973806,\n",
       " 0.0006510715043631515,\n",
       " 0.0027845425396938184,\n",
       " 0.0016556921202260932,\n",
       " 0.002337064842998768,\n",
       " -0.0005329769708133786,\n",
       " 0.0021990521764139598,\n",
       " -0.002143645687795917,\n",
       " 0.0028189409806459037,\n",
       " 8.669449473953927e-05,\n",
       " 0.0021241043919865837,\n",
       " -0.00025081125150823447,\n",
       " 0.0010157871721206552,\n",
       " 0.0005478376214186897,\n",
       " 0.0002725151334933146,\n",
       " 0.00045121736205600005,\n",
       " -0.0007187555440163612,\n",
       " 0.0012842103412652739,\n",
       " 0.0003961840630877511,\n",
       " -0.0006498447345788527,\n",
       " 0.0006368872659194696,\n",
       " 0.0004446125021306535,\n",
       " -0.00038835243337810577,\n",
       " 0.0007403525093932078,\n",
       " 0.0007751383039586723,\n",
       " -0.002590878002111427,\n",
       " 0.0008711170636720306,\n",
       " 0.0006509558240985064,\n",
       " 0.0011738405208169128,\n",
       " 0.002598564155124633,\n",
       " -0.0007600918638374227,\n",
       " 0.0011464693480292276,\n",
       " 0.002233894058380481,\n",
       " 0.0014906553216475077,\n",
       " 0.001070662725273494,\n",
       " 0.001428480826981493,\n",
       " 0.0012428091703867439,\n",
       " -0.00014733724437809848,\n",
       " -0.0017994491977899318,\n",
       " 1.7867816403588366e-05,\n",
       " -0.000849264199527966,\n",
       " 0.000802157177758625,\n",
       " 0.00045120158747445627,\n",
       " 0.002233939629393819,\n",
       " -0.0007806601180648659,\n",
       " -0.0013863576729279958,\n",
       " 0.002220086657162515,\n",
       " 0.0013045717732013823,\n",
       " 0.0006578849393110847,\n",
       " -0.0018749631144215073,\n",
       " 0.0003344407403172156,\n",
       " 0.0009673482166900477,\n",
       " 0.00037565787441108667,\n",
       " -0.0009457985750578324,\n",
       " -0.0015447002222858386,\n",
       " -0.0004845117244135222,\n",
       " 0.0005337883432837559,\n",
       " -0.0010080168880058915,\n",
       " -0.0029071792526762924,\n",
       " -0.00014773686711049006,\n",
       " -0.0017717555224463083,\n",
       " 8.659809451902478e-05,\n",
       " 6.607015311108078e-05,\n",
       " 0.0006855505709542076,\n",
       " 3.8209968295593866e-05,\n",
       " 0.0006991213534490726,\n",
       " -0.002260487160592156,\n",
       " 0.00048595583287684707,\n",
       " -0.0015375748011696305,\n",
       " -0.0008563720933313507,\n",
       " -0.0004161267343607278,\n",
       " -0.0002577473776459588,\n",
       " 0.0003550142527384975,\n",
       " 0.0018138821819623785,\n",
       " -0.0002230544778384358,\n",
       " 0.0013115902777093569,\n",
       " 0.0005476465737089264,\n",
       " 0.0008367974956276641,\n",
       " -0.0008082030585182393,\n",
       " -7.155515986033423e-05,\n",
       " -0.0002508059933143958,\n",
       " 0.0007059996394544604,\n",
       " 0.0001965332376093476,\n",
       " -0.0011659948692570032,\n",
       " 1.0705587930454064e-05,\n",
       " 0.0012222672071285356,\n",
       " -0.0018679744063453407,\n",
       " 0.0006717396642736823,\n",
       " 0.001951814222908188,\n",
       " 0.0005820713056302329,\n",
       " 0.0010156732445872896,\n",
       " -0.0003882157203380643,\n",
       " 0.0008297860020448217,\n",
       " 0.0010571883429991852,\n",
       " -0.0003194030638523637,\n",
       " -0.0010282153159327512,\n",
       " 0.000547385416747842,\n",
       " -0.0006912827128142951,\n",
       " 0.0005131780235055339,\n",
       " -0.0005332503968934199,\n",
       " -0.001950697875194668,\n",
       " 0.002777478464172492,\n",
       " -1.6802297897258733e-05,\n",
       " -0.00031277541842035517,\n",
       " -8.534678649675664e-05,\n",
       " 0.0008231425820312555,\n",
       " -0.0006774402569706683,\n",
       " 0.0005339268090550631,\n",
       " -0.0006498990692486023,\n",
       " -0.000519299271710294,\n",
       " 0.0008642282612789515,\n",
       " -0.0023085668061098713,\n",
       " -0.001957846081817552,\n",
       " 0.00028581774810196303,\n",
       " -0.0002645432852810825,\n",
       " 0.0019932627175313217,\n",
       " 0.0006096457952466799,\n",
       " 0.0007198368371042208,\n",
       " 1.060217678480746e-05,\n",
       " -0.00016807551353993644,\n",
       " -0.001475680743508817,\n",
       " -0.0020607907641004147,\n",
       " -0.0022879827773008843,\n",
       " 0.00032734862109537466,\n",
       " 0.001421655122914589,\n",
       " 0.00012098251362084589,\n",
       " 0.0015044083881957104,\n",
       " -0.0009735273050271304,\n",
       " 0.00010731357817418685,\n",
       " 0.000981399247556261,\n",
       " -7.171816386959684e-05,\n",
       " 0.001421884730712586,\n",
       " 0.0007746089791113991,\n",
       " 0.0009538422852526512,\n",
       " 0.0019514584184578687,\n",
       " -0.00021642157421257469,\n",
       " -0.0010078310984899669,\n",
       " 0.002316603505379558,\n",
       " 0.0016695713834266324,\n",
       " 0.0010224200757465163,\n",
       " 0.000547723693885338,\n",
       " -0.0001060552592267866,\n",
       " -5.090803272518596e-05,\n",
       " -0.00022315613625281672,\n",
       " 0.00032055271346025094,\n",
       " 0.0003825957532800628,\n",
       " 0.0022476138230343307,\n",
       " 0.0007815503634429621,\n",
       " 0.0010156083935298627,\n",
       " -0.0010561385990743855,\n",
       " -0.0004228805764450727,\n",
       " -0.0008150357735102753,\n",
       " -0.0006912336363383842,\n",
       " 0.0008230461818107271,\n",
       " -0.000842619026783134,\n",
       " -0.0018267607777140288,\n",
       " 0.0001621908840582914,\n",
       " 0.0018277702088193293,\n",
       " 0.00038236088728822726,\n",
       " -7.858768621855916e-05,\n",
       " 0.0018280068275424444,\n",
       " -0.0004022229329222332,\n",
       " -0.00045696352576632404,\n",
       " -0.0003334558474498567,\n",
       " 0.00016225398238446653,\n",
       " -0.0001475335502817282,\n",
       " -0.0008771138679557478,\n",
       " 0.0017659462604097953,\n",
       " 0.0012012835555871848,\n",
       " -0.0008220192233926032,\n",
       " 0.0013599415965758616,\n",
       " -0.0018682495851566755,\n",
       " 0.0007130461876629496,\n",
       " 0.0016971055602235802,\n",
       " -0.0016199932947758428,\n",
       " -0.0011727890241608474,\n",
       " -0.0004020932308073377,\n",
       " 0.0014148767425922887,\n",
       " -0.0002575615881300203,\n",
       " 0.000891439935519947,\n",
       " 0.00105023994774249,\n",
       " -0.0007326891418866499,\n",
       " -0.0007327662620630754,\n",
       " -0.00020916820371276457,\n",
       " -0.0009524998352037073,\n",
       " 0.00021039497349706338,\n",
       " -0.0017100507597639786,\n",
       " 0.0005753069471581967,\n",
       " 0.0002860894214507248,\n",
       " -0.0009664474549242602,\n",
       " -0.0007463580773333228,\n",
       " 0.00045133830051448387,\n",
       " -0.0006978630345016723,\n",
       " 0.0017244609584297355,\n",
       " 0.0005406683820204372,\n",
       " -0.0008838536881898285,\n",
       " -0.0015171204744755529,\n",
       " 0.00150419981317311,\n",
       " 0.0005618325648838879,\n",
       " -0.0010008546595327572,\n",
       " 0.00018314649189915544,\n",
       " -0.00020272284233412152,\n",
       " 0.0004925992528904133,\n",
       " 0.0008917817181200022,\n",
       " -0.00021623929015920917,\n",
       " -0.0011867296329562682,\n",
       " -0.0019643580469849153,\n",
       " -0.0007051164050014963,\n",
       " -0.0018130988531925019,\n",
       " 0.0011326426667671446,\n",
       " -0.000615293806005196,\n",
       " 3.811882626891805e-05,\n",
       " 0.0006371063573297614,\n",
       " -0.0015650651596845339,\n",
       " -0.0006772281764855087,\n",
       " -0.00025117581961497937,\n",
       " -0.0005327350938964109,\n",
       " -0.001393122031400032,\n",
       " -0.001069858363728235,\n",
       " -0.0007047272986568098,\n",
       " -0.002060797775025533,\n",
       " -0.0008012967288123229,\n",
       " -0.0008013370416318222,\n",
       " -0.0010286903061102748,\n",
       " -1.6660326663378577e-05,\n",
       " -0.0006016196123646844,\n",
       " 0.0007402298182034306,\n",
       " -6.47785322693134e-05,\n",
       " 0.0008780461788846089,\n",
       " 0.0014765552143053834,\n",
       " -0.0017163664190277261,\n",
       " 0.00023806411060275923,\n",
       " 0.0007129217437419066,\n",
       " -0.0006775068607594026,\n",
       " 0.0009674884351926344,\n",
       " -0.0003194731731036571,\n",
       " -0.0005123070581715544,\n",
       " 0.000643816381132048,\n",
       " -9.83111713391549e-06,\n",
       " 0.000664843850955471,\n",
       " -0.001820220768846137,\n",
       " 4.517063267125976e-05,\n",
       " -0.0008354287546094713,\n",
       " 0.0001551618631626256,\n",
       " -0.0015719907694345392,\n",
       " -0.0014000160919869636,\n",
       " -0.0015102106393070774,\n",
       " -0.0016890653554913343,\n",
       " -0.0004228577909383968,\n",
       " -0.00014082177374816207,\n",
       " -0.0009458371351460521,\n",
       " -8.559392160756296e-05,\n",
       " 0.00019676284540734446,\n",
       " -0.0009528275959535121,\n",
       " -0.0003403849626624489,\n",
       " 0.0004718802637726782,\n",
       " 3.8348434066914905e-05,\n",
       " 0.0028398334901605787,\n",
       " 0.000286389138500015,\n",
       " 0.00043774648524423643,\n",
       " 0.0006437795737751217,\n",
       " 6.564423940945419e-05,\n",
       " -0.0005259742408869339,\n",
       " -0.0002918057887292408,\n",
       " 0.0002997636150912225,\n",
       " -0.002088293391734275,\n",
       " 0.0017727824808644183,\n",
       " 0.0005819854217973958,\n",
       " -0.0015447317714489261,\n",
       " -0.0001404782384168135,\n",
       " 0.0011943667094935773,\n",
       " 0.0007954506594188976,\n",
       " -0.0006362143592203995,\n",
       " -0.0007874525202374166,\n",
       " 0.0024060352452998923,\n",
       " -0.0004091345208219882,\n",
       " 0.0037618691029454865,\n",
       " 0.0008090722711209253,\n",
       " -5.789674080136642e-05,\n",
       " -0.0007189833990830646,\n",
       " 0.000926283570217748,\n",
       " -0.00029218788414880903,\n",
       " -0.00040907668068966563,\n",
       " 0.0009606469565441866,\n",
       " 6.587034174487805e-05,\n",
       " 0.0005614101566448343,\n",
       " 0.00043052466390751387,\n",
       " -0.001193732362882713,\n",
       " 0.0004376413213672964,\n",
       " -0.0018956593180325804,\n",
       " 0.00042384268380574186,\n",
       " 0.0002242199020278529,\n",
       " 0.002034569240920589,\n",
       " -0.0013382009072338552,\n",
       " -0.0005810794018377696,\n",
       " -0.001338374427630809,\n",
       " 0.0003342619617264092,\n",
       " -0.003113962510196022,\n",
       " -0.0017442581530062728,\n",
       " -0.0007531014030299626,\n",
       " -0.0005053604156461527,\n",
       " 0.0018897694303570828,\n",
       " -0.0002025686019812567,\n",
       " -0.00035380676299828773,\n",
       " 0.0012981719828360772,\n",
       " 0.002591866400441345,\n",
       " -0.0018892034402662322,\n",
       " -0.0006224788199850062,\n",
       " -0.0006292274038754986,\n",
       " 0.0007060452104677983,\n",
       " -0.0015239251457670883,\n",
       " 0.002178873028531203,\n",
       " -0.00015432945791685193,\n",
       " 0.0007402946692608714,\n",
       " -0.0006085855349342029,\n",
       " -0.0003470774591519121,\n",
       " 0.00019652797941550892,\n",
       " 0.0006096440425154004,\n",
       " 0.0006853455013941939,\n",
       " -0.0014827851318496288,\n",
       " -0.0013174223252525319,\n",
       " -0.0007876225351718114,\n",
       " -0.0007050568121378942,\n",
       " 0.00027910772429967645,\n",
       " 0.0006168798857023872,\n",
       " -0.0003056237063349121,\n",
       " 0.0008917308889128117,\n",
       " 2.459361478740485e-05,\n",
       " 0.0030048387395760767,\n",
       " -0.00013348076668423525,\n",
       " 0.0009542576825665727,\n",
       " 0.0016144206514624587,\n",
       " -0.0004711004404653746,\n",
       " -0.0006498832946670585,\n",
       " -0.0027283403110735793,\n",
       " -0.0013037814335063874,\n",
       " -0.002171137799042086,\n",
       " 0.0008916958342871789,\n",
       " 9.330811832131136e-05,\n",
       " -0.0018064291422097145,\n",
       " 0.00085752875386437,\n",
       " 0.0004167926301346797,\n",
       " 0.0016903043943946178,\n",
       " 0.0004102017920595974,\n",
       " -0.00012675847376297789,\n",
       " 0.0011809414036951654,\n",
       " -0.0011591866925029087,\n",
       " -0.0014689444287372955,\n",
       " 0.00028625943638510565,\n",
       " 0.0017384804401328613,\n",
       " 0.0010776601970060862,\n",
       " -0.0010011350965379306,\n",
       " 0.0008093456972009805,\n",
       " -0.0007324735559389312,\n",
       " 0.0012772093640701088,\n",
       " -0.002886567180166791,\n",
       " -0.0007873210653912416,\n",
       " 0.0009125760746828693,\n",
       " -0.0014550458854926535,\n",
       " 0.00030682067968743065,\n",
       " -7.859294441242559e-05,\n",
       " -0.0023979687495983976,\n",
       " -0.0006017370453605952,\n",
       " 0.001119043840571779,\n",
       " -0.0014827605936116872,\n",
       " 0.0011393702178822546,\n",
       " -0.0005807639102069356,\n",
       " -0.0020468378861859954,\n",
       " 8.66997529334057e-05,\n",
       " -0.0009940096754217365,\n",
       " 0.0009746261254278132,\n",
       " -0.0002575843736366823,\n",
       " 0.0006302683841438728,\n",
       " 0.0007336144418903928,\n",
       " -0.0007257232193171453,\n",
       " 0.001064112200017897,\n",
       " 0.0004028905814274647,\n",
       " 0.0014699521071113164,\n",
       " 0.00029322711168590365,\n",
       " -0.002157258535841533,\n",
       " -0.0015099372132270222,\n",
       " 0.001559453956282944,\n",
       " 0.0005479322689079386,\n",
       " -0.0017993790885386385,\n",
       " -0.0017509646713459864,\n",
       " 0.000506532850760702,\n",
       " 0.002137568257873229,\n",
       " 0.00043068240972291005,\n",
       " 0.0019107443182420358,\n",
       " 0.001828015591198856,\n",
       " -0.0005330260472892895,\n",
       " -0.0023497874456663015,\n",
       " 0.0013186543532306833,\n",
       " 0.00012069156022796734,\n",
       " -0.0001614391044515162,\n",
       " -0.0009253004300816825,\n",
       " -5.090627999389252e-05,\n",
       " -0.0011384151214467036,\n",
       " -0.00028504318298849807,\n",
       " -0.0010902706248715477,\n",
       " 0.00020348513832860182,\n",
       " 0.0010914938891932874,\n",
       " 0.00022435836779917395,\n",
       " -0.00047076216332789245,\n",
       " -0.001943786287294913,\n",
       " -0.0002506938185123375,\n",
       " -0.000815198777519538,\n",
       " -0.0025013673892834015,\n",
       " -0.0006706320802165738,\n",
       " -0.0022327198705346524,\n",
       " -0.0005947167881213411,\n",
       " -0.0015446231021094131,\n",
       " 0.0013186385786491395,\n",
       " -0.00016139703890073742,\n",
       " 0.0010229318732809661,\n",
       " 0.00035500198361952673,\n",
       " 9.336245299106094e-05,\n",
       " 0.002137347413731644,\n",
       " 0.0014285351616512565,\n",
       " 0.0011531302953555894,\n",
       " -0.0028524544344137315,\n",
       " 0.0004100948754513778,\n",
       " 0.000602530890518177,\n",
       " 0.0009053472424210007,\n",
       " 0.00016230656432293655,\n",
       " 0.00027928299742790985,\n",
       " -0.0007324612868199465,\n",
       " 5.209448968999941e-05,\n",
       " -0.001757750062593419,\n",
       " 0.0012977495745970236,\n",
       " 0.0028603579261059636,\n",
       " 0.0005271659560455999,\n",
       " 0.0006439671160223398,\n",
       " -0.0004642992746364122,\n",
       " -0.0009665911788894199,\n",
       " 3.1613872026672873e-05,\n",
       " 0.0019102482952891298,\n",
       " -0.0003954235198245365,\n",
       " 0.0010292633071262575,\n",
       " -0.0007877487318241339,\n",
       " ...]"
      ]
     },
     "execution_count": 33,
     "metadata": {},
     "output_type": "execute_result"
    }
   ],
   "source": [
    "p_diffs = []\n",
    "for _ in range(10000):\n",
    "    \n",
    "    new_page_conver = np.random.choice([1, 0], size=nnew, p=[pnew, (1-pnew)]).mean()\n",
    "    old_page_conver=np.random.choice([1,0],size=nold, p=[pold, (1-pold)]).mean()\n",
    "    p_diffs.append(new_page_conver-old_page_conver)\n",
    "    \n",
    "p_diffs"
   ]
  },
  {
   "cell_type": "markdown",
   "metadata": {},
   "source": [
    "#histgram for p_diffs"
   ]
  },
  {
   "cell_type": "code",
   "execution_count": 34,
   "metadata": {},
   "outputs": [
    {
     "data": {
      "text/plain": [
       "<matplotlib.lines.Line2D at 0x28ca3699d00>"
      ]
     },
     "execution_count": 34,
     "metadata": {},
     "output_type": "execute_result"
    },
    {
     "data": {
      "image/png": "[encoded data removed]",
      "text/plain": [
       "<Figure size 432x288 with 1 Axes>"
      ]
     },
     "metadata": {
      "needs_background": "light"
     },
     "output_type": "display_data"
    }
   ],
   "source": [
    "plt.hist(p_diffs)\n",
    "plt.axvline(x=obs_diff, color='red')\n"
   ]
  },
  {
   "cell_type": "markdown",
   "metadata": {},
   "source": [
    "#convert list number in p_diffs to array list to do calculation"
   ]
  },
  {
   "cell_type": "code",
   "execution_count": 35,
   "metadata": {},
   "outputs": [],
   "source": [
    "diffs=np.array(p_diffs)"
   ]
  },
  {
   "cell_type": "code",
   "execution_count": 36,
   "metadata": {},
   "outputs": [
    {
     "data": {
      "text/plain": [
       "0.9013"
      ]
     },
     "execution_count": 36,
     "metadata": {},
     "output_type": "execute_result"
    }
   ],
   "source": [
    "(diffs > obs_diff).mean()"
   ]
  },
  {
   "cell_type": "markdown",
   "metadata": {},
   "source": [
    "#There are 90% of p_diffs greater than the actual difference observed in the df2. The value we calculated above is p value which is the conditional probability of the data given the null hypothesis is true. The smaller the p_diffs, more likely to reject the null hypothesis. To see whether reject the null hypothesis or not, compare the p value to type I error we set. Here because our type I error is 0.05, our p value is 0.9, so our p value is too big. So in this case, we cannot reject the null hypothesis.\n"
   ]
  },
  {
   "cell_type": "markdown",
   "metadata": {},
   "source": [
    "# Using Built-in Methods for Hypothesis Testing<br>\n",
    "We could also use a built-in to achieve similar results.\n"
   ]
  },
  {
   "cell_type": "code",
   "execution_count": 37,
   "metadata": {},
   "outputs": [],
   "source": [
    "import statsmodels.api as sm\n",
    "\n",
    "# number of conversions with the old_page\n",
    "convert_old = df2_control.query('converted==1').shape[0]\n",
    "\n",
    "# number of conversions with the new_page\n",
    "convert_new =df2_treatment.query('converted==1').shape[0]\n",
    "\n",
    "# number of individuals who were shown the old_page\n",
    "n_old = nold\n",
    "# number of individuals who received new_page\n",
    "n_new =nnew"
   ]
  },
  {
   "cell_type": "code",
   "execution_count": 38,
   "metadata": {},
   "outputs": [
    {
     "name": "stdout",
     "output_type": "stream",
     "text": [
      "-1.3116075339133115 0.905173705140591\n"
     ]
    }
   ],
   "source": [
    "z_score, p_value = sm.stats.proportions_ztest([convert_new, convert_old], [n_new, n_old], alternative= 'larger')\n",
    "print(z_score, p_value)\n"
   ]
  },
  {
   "cell_type": "markdown",
   "metadata": {},
   "source": [
    "#p value and z score calculated using built-in methods are 0.9 and -1.31. The p value calculated using this method is almost the same to the one using bootstraping. Beucase the p value is 0.9 which is too big, we cannot reject the null hypothesis."
   ]
  },
  {
   "cell_type": "markdown",
   "metadata": {},
   "source": [
    "<a id='regression'></a>\n",
    "### Part III - A regression approach\n",
    "\n",
    "In this final part, we will see that the result achieved in the A/B test in Part II above can also be achieved by performing regression.<br><br> "
   ]
  },
  {
   "cell_type": "markdown",
   "metadata": {},
   "source": [
    "#because my dependent variable is conversion or not conversion, I need to use logistic regression; to perfrom this regression, first I am going to create intercept and dummy variable for two groups, new_page would be 1 and old_page would be 0"
   ]
  },
  {
   "cell_type": "code",
   "execution_count": 39,
   "metadata": {},
   "outputs": [],
   "source": [
    "import statsmodels.api as sm "
   ]
  },
  {
   "cell_type": "code",
   "execution_count": 40,
   "metadata": {},
   "outputs": [],
   "source": [
    "df2['intercept']=1"
   ]
  },
  {
   "cell_type": "markdown",
   "metadata": {},
   "source": [
    "#below, created the dummy variables (new_page and old_page) for the categorical variable named landing_page, the columns created are named as ab_page and ab_page1, later drop any of the column, here I choose drop ab_page1, only ab_page left (in which, 1 means new_page, and 0 means old_page)  "
   ]
  },
  {
   "cell_type": "code",
   "execution_count": 41,
   "metadata": {},
   "outputs": [
    {
     "data": {
      "text/html": [
       "<div>\n",
       "<style scoped>\n",
       "    .dataframe tbody tr th:only-of-type {\n",
       "        vertical-align: middle;\n",
       "    }\n",
       "\n",
       "    .dataframe tbody tr th {\n",
       "        vertical-align: top;\n",
       "    }\n",
       "\n",
       "    .dataframe thead th {\n",
       "        text-align: right;\n",
       "    }\n",
       "</style>\n",
       "<table border=\"1\" class=\"dataframe\">\n",
       "  <thead>\n",
       "    <tr style=\"text-align: right;\">\n",
       "      <th></th>\n",
       "      <th>user_id</th>\n",
       "      <th>timestamp</th>\n",
       "      <th>group</th>\n",
       "      <th>landing_page</th>\n",
       "      <th>converted</th>\n",
       "      <th>intercept</th>\n",
       "      <th>ab_page</th>\n",
       "    </tr>\n",
       "  </thead>\n",
       "  <tbody>\n",
       "    <tr>\n",
       "      <th>2</th>\n",
       "      <td>661590</td>\n",
       "      <td>2017-01-11 16:55:06.154213</td>\n",
       "      <td>treatment</td>\n",
       "      <td>new_page</td>\n",
       "      <td>0</td>\n",
       "      <td>1</td>\n",
       "      <td>1</td>\n",
       "    </tr>\n",
       "    <tr>\n",
       "      <th>3</th>\n",
       "      <td>853541</td>\n",
       "      <td>2017-01-08 18:28:03.143765</td>\n",
       "      <td>treatment</td>\n",
       "      <td>new_page</td>\n",
       "      <td>0</td>\n",
       "      <td>1</td>\n",
       "      <td>1</td>\n",
       "    </tr>\n",
       "    <tr>\n",
       "      <th>6</th>\n",
       "      <td>679687</td>\n",
       "      <td>2017-01-19 03:26:46.940749</td>\n",
       "      <td>treatment</td>\n",
       "      <td>new_page</td>\n",
       "      <td>1</td>\n",
       "      <td>1</td>\n",
       "      <td>1</td>\n",
       "    </tr>\n",
       "    <tr>\n",
       "      <th>8</th>\n",
       "      <td>817355</td>\n",
       "      <td>2017-01-04 17:58:08.979471</td>\n",
       "      <td>treatment</td>\n",
       "      <td>new_page</td>\n",
       "      <td>1</td>\n",
       "      <td>1</td>\n",
       "      <td>1</td>\n",
       "    </tr>\n",
       "    <tr>\n",
       "      <th>9</th>\n",
       "      <td>839785</td>\n",
       "      <td>2017-01-15 18:11:06.610965</td>\n",
       "      <td>treatment</td>\n",
       "      <td>new_page</td>\n",
       "      <td>1</td>\n",
       "      <td>1</td>\n",
       "      <td>1</td>\n",
       "    </tr>\n",
       "    <tr>\n",
       "      <th>...</th>\n",
       "      <td>...</td>\n",
       "      <td>...</td>\n",
       "      <td>...</td>\n",
       "      <td>...</td>\n",
       "      <td>...</td>\n",
       "      <td>...</td>\n",
       "      <td>...</td>\n",
       "    </tr>\n",
       "    <tr>\n",
       "      <th>294471</th>\n",
       "      <td>718310</td>\n",
       "      <td>2017-01-21 22:44:20.378320</td>\n",
       "      <td>control</td>\n",
       "      <td>old_page</td>\n",
       "      <td>0</td>\n",
       "      <td>1</td>\n",
       "      <td>0</td>\n",
       "    </tr>\n",
       "    <tr>\n",
       "      <th>294473</th>\n",
       "      <td>751197</td>\n",
       "      <td>2017-01-03 22:28:38.630509</td>\n",
       "      <td>control</td>\n",
       "      <td>old_page</td>\n",
       "      <td>0</td>\n",
       "      <td>1</td>\n",
       "      <td>0</td>\n",
       "    </tr>\n",
       "    <tr>\n",
       "      <th>294474</th>\n",
       "      <td>945152</td>\n",
       "      <td>2017-01-12 00:51:57.078372</td>\n",
       "      <td>control</td>\n",
       "      <td>old_page</td>\n",
       "      <td>0</td>\n",
       "      <td>1</td>\n",
       "      <td>0</td>\n",
       "    </tr>\n",
       "    <tr>\n",
       "      <th>294475</th>\n",
       "      <td>734608</td>\n",
       "      <td>2017-01-22 11:45:03.439544</td>\n",
       "      <td>control</td>\n",
       "      <td>old_page</td>\n",
       "      <td>0</td>\n",
       "      <td>1</td>\n",
       "      <td>0</td>\n",
       "    </tr>\n",
       "    <tr>\n",
       "      <th>294476</th>\n",
       "      <td>697314</td>\n",
       "      <td>2017-01-15 01:20:28.957438</td>\n",
       "      <td>control</td>\n",
       "      <td>old_page</td>\n",
       "      <td>0</td>\n",
       "      <td>1</td>\n",
       "      <td>0</td>\n",
       "    </tr>\n",
       "  </tbody>\n",
       "</table>\n",
       "<p>290585 rows × 7 columns</p>\n",
       "</div>"
      ],
      "text/plain": [
       "        user_id                   timestamp      group landing_page  \\\n",
       "2        661590  2017-01-11 16:55:06.154213  treatment     new_page   \n",
       "3        853541  2017-01-08 18:28:03.143765  treatment     new_page   \n",
       "6        679687  2017-01-19 03:26:46.940749  treatment     new_page   \n",
       "8        817355  2017-01-04 17:58:08.979471  treatment     new_page   \n",
       "9        839785  2017-01-15 18:11:06.610965  treatment     new_page   \n",
       "...         ...                         ...        ...          ...   \n",
       "294471   718310  2017-01-21 22:44:20.378320    control     old_page   \n",
       "294473   751197  2017-01-03 22:28:38.630509    control     old_page   \n",
       "294474   945152  2017-01-12 00:51:57.078372    control     old_page   \n",
       "294475   734608  2017-01-22 11:45:03.439544    control     old_page   \n",
       "294476   697314  2017-01-15 01:20:28.957438    control     old_page   \n",
       "\n",
       "        converted  intercept  ab_page  \n",
       "2               0          1        1  \n",
       "3               0          1        1  \n",
       "6               1          1        1  \n",
       "8               1          1        1  \n",
       "9               1          1        1  \n",
       "...           ...        ...      ...  \n",
       "294471          0          1        0  \n",
       "294473          0          1        0  \n",
       "294474          0          1        0  \n",
       "294475          0          1        0  \n",
       "294476          0          1        0  \n",
       "\n",
       "[290585 rows x 7 columns]"
      ]
     },
     "execution_count": 41,
     "metadata": {},
     "output_type": "execute_result"
    }
   ],
   "source": [
    "df2[['ab_page', 'ab_page1']]=pd.get_dummies(df['landing_page'])\n",
    "df2=df2.drop('ab_page1', axis=1)\n",
    "df2"
   ]
  },
  {
   "cell_type": "markdown",
   "metadata": {},
   "source": [
    "Use statmodels to fit regression model to predict whether ot not an individual converts"
   ]
  },
  {
   "cell_type": "code",
   "execution_count": 42,
   "metadata": {},
   "outputs": [
    {
     "name": "stdout",
     "output_type": "stream",
     "text": [
      "Optimization terminated successfully.\n",
      "         Current function value: 0.366118\n",
      "         Iterations 6\n"
     ]
    },
    {
     "data": {
      "text/html": [
       "<table class=\"simpletable\">\n",
       "<caption>Logit Regression Results</caption>\n",
       "<tr>\n",
       "  <th>Dep. Variable:</th>       <td>converted</td>    <th>  No. Observations:  </th>   <td>290585</td>   \n",
       "</tr>\n",
       "<tr>\n",
       "  <th>Model:</th>                 <td>Logit</td>      <th>  Df Residuals:      </th>   <td>290583</td>   \n",
       "</tr>\n",
       "<tr>\n",
       "  <th>Method:</th>                 <td>MLE</td>       <th>  Df Model:          </th>   <td>     1</td>   \n",
       "</tr>\n",
       "<tr>\n",
       "  <th>Date:</th>            <td>Sat, 15 Jan 2022</td> <th>  Pseudo R-squ.:     </th>  <td>8.085e-06</td> \n",
       "</tr>\n",
       "<tr>\n",
       "  <th>Time:</th>                <td>03:22:00</td>     <th>  Log-Likelihood:    </th> <td>-1.0639e+05</td>\n",
       "</tr>\n",
       "<tr>\n",
       "  <th>converged:</th>             <td>True</td>       <th>  LL-Null:           </th> <td>-1.0639e+05</td>\n",
       "</tr>\n",
       "<tr>\n",
       "  <th>Covariance Type:</th>     <td>nonrobust</td>    <th>  LLR p-value:       </th>   <td>0.1897</td>   \n",
       "</tr>\n",
       "</table>\n",
       "<table class=\"simpletable\">\n",
       "<tr>\n",
       "      <td></td>         <th>coef</th>     <th>std err</th>      <th>z</th>      <th>P>|z|</th>  <th>[0.025</th>    <th>0.975]</th>  \n",
       "</tr>\n",
       "<tr>\n",
       "  <th>intercept</th> <td>   -1.9888</td> <td>    0.008</td> <td> -246.669</td> <td> 0.000</td> <td>   -2.005</td> <td>   -1.973</td>\n",
       "</tr>\n",
       "<tr>\n",
       "  <th>ab_page</th>   <td>   -0.0150</td> <td>    0.011</td> <td>   -1.312</td> <td> 0.190</td> <td>   -0.037</td> <td>    0.007</td>\n",
       "</tr>\n",
       "</table>"
      ],
      "text/plain": [
       "<class 'statsmodels.iolib.summary.Summary'>\n",
       "\"\"\"\n",
       "                           Logit Regression Results                           \n",
       "==============================================================================\n",
       "Dep. Variable:              converted   No. Observations:               290585\n",
       "Model:                          Logit   Df Residuals:                   290583\n",
       "Method:                           MLE   Df Model:                            1\n",
       "Date:                Sat, 15 Jan 2022   Pseudo R-squ.:               8.085e-06\n",
       "Time:                        03:22:00   Log-Likelihood:            -1.0639e+05\n",
       "converged:                       True   LL-Null:                   -1.0639e+05\n",
       "Covariance Type:            nonrobust   LLR p-value:                    0.1897\n",
       "==============================================================================\n",
       "                 coef    std err          z      P>|z|      [0.025      0.975]\n",
       "------------------------------------------------------------------------------\n",
       "intercept     -1.9888      0.008   -246.669      0.000      -2.005      -1.973\n",
       "ab_page       -0.0150      0.011     -1.312      0.190      -0.037       0.007\n",
       "==============================================================================\n",
       "\"\"\""
      ]
     },
     "execution_count": 42,
     "metadata": {},
     "output_type": "execute_result"
    }
   ],
   "source": [
    "logit_mod=sm.Logit(df2['converted'],df2[['intercept', 'ab_page']])\n",
    "results=logit_mod.fit()\n",
    "results.summary()\n"
   ]
  },
  {
   "cell_type": "markdown",
   "metadata": {},
   "source": [
    "To inteprete the coefficient in logistic regression, first need to exponentiate the coefficient of each indepedent variable"
   ]
  },
  {
   "cell_type": "code",
   "execution_count": 43,
   "metadata": {},
   "outputs": [
    {
     "data": {
      "text/plain": [
       "0.9851119396030626"
      ]
     },
     "execution_count": 43,
     "metadata": {},
     "output_type": "execute_result"
    }
   ],
   "source": [
    "np.exp(-0.015)"
   ]
  },
  {
   "cell_type": "markdown",
   "metadata": {},
   "source": [
    "#here 0.985 means that conversion rate is 0.98 times more likely on new_page than old_page holding all else constant"
   ]
  },
  {
   "cell_type": "markdown",
   "metadata": {},
   "source": [
    "#p value associated with the page is 0.19, which is big. The p valve found in the regression is different from the p value in the A/B test, because the p value in the regression is the p value for the coefficient for variable ab_page. In regression, p value is always given for testing if parameter of intercept and slope are equal to 0 in null hypothesis. The null and alternative hypothesis test are two-sided. "
   ]
  },
  {
   "cell_type": "markdown",
   "metadata": {},
   "source": [
    "p_value is 0.19 which is significantly bigger than type I error, so there is no signicant relationship between landing_page and conversion rate. "
   ]
  },
  {
   "cell_type": "markdown",
   "metadata": {},
   "source": [
    "#Because landing_page does not influence whether or not an individual converts, so we can consider other factors that may lead to the conversion. Once we decide to add other fators, our regression would be complicated. "
   ]
  },
  {
   "cell_type": "markdown",
   "metadata": {},
   "source": [
    "read countries.csv file and saved it to a new dataframe called df3"
   ]
  },
  {
   "cell_type": "code",
   "execution_count": 44,
   "metadata": {},
   "outputs": [
    {
     "data": {
      "text/html": [
       "<div>\n",
       "<style scoped>\n",
       "    .dataframe tbody tr th:only-of-type {\n",
       "        vertical-align: middle;\n",
       "    }\n",
       "\n",
       "    .dataframe tbody tr th {\n",
       "        vertical-align: top;\n",
       "    }\n",
       "\n",
       "    .dataframe thead th {\n",
       "        text-align: right;\n",
       "    }\n",
       "</style>\n",
       "<table border=\"1\" class=\"dataframe\">\n",
       "  <thead>\n",
       "    <tr style=\"text-align: right;\">\n",
       "      <th></th>\n",
       "      <th>user_id</th>\n",
       "      <th>country</th>\n",
       "    </tr>\n",
       "  </thead>\n",
       "  <tbody>\n",
       "    <tr>\n",
       "      <th>0</th>\n",
       "      <td>834778</td>\n",
       "      <td>UK</td>\n",
       "    </tr>\n",
       "    <tr>\n",
       "      <th>1</th>\n",
       "      <td>928468</td>\n",
       "      <td>US</td>\n",
       "    </tr>\n",
       "    <tr>\n",
       "      <th>2</th>\n",
       "      <td>822059</td>\n",
       "      <td>UK</td>\n",
       "    </tr>\n",
       "    <tr>\n",
       "      <th>3</th>\n",
       "      <td>711597</td>\n",
       "      <td>UK</td>\n",
       "    </tr>\n",
       "    <tr>\n",
       "      <th>4</th>\n",
       "      <td>710616</td>\n",
       "      <td>UK</td>\n",
       "    </tr>\n",
       "    <tr>\n",
       "      <th>...</th>\n",
       "      <td>...</td>\n",
       "      <td>...</td>\n",
       "    </tr>\n",
       "    <tr>\n",
       "      <th>290579</th>\n",
       "      <td>653118</td>\n",
       "      <td>US</td>\n",
       "    </tr>\n",
       "    <tr>\n",
       "      <th>290580</th>\n",
       "      <td>878226</td>\n",
       "      <td>UK</td>\n",
       "    </tr>\n",
       "    <tr>\n",
       "      <th>290581</th>\n",
       "      <td>799368</td>\n",
       "      <td>UK</td>\n",
       "    </tr>\n",
       "    <tr>\n",
       "      <th>290582</th>\n",
       "      <td>655535</td>\n",
       "      <td>CA</td>\n",
       "    </tr>\n",
       "    <tr>\n",
       "      <th>290583</th>\n",
       "      <td>934996</td>\n",
       "      <td>UK</td>\n",
       "    </tr>\n",
       "  </tbody>\n",
       "</table>\n",
       "<p>290584 rows × 2 columns</p>\n",
       "</div>"
      ],
      "text/plain": [
       "        user_id country\n",
       "0        834778      UK\n",
       "1        928468      US\n",
       "2        822059      UK\n",
       "3        711597      UK\n",
       "4        710616      UK\n",
       "...         ...     ...\n",
       "290579   653118      US\n",
       "290580   878226      UK\n",
       "290581   799368      UK\n",
       "290582   655535      CA\n",
       "290583   934996      UK\n",
       "\n",
       "[290584 rows x 2 columns]"
      ]
     },
     "execution_count": 44,
     "metadata": {},
     "output_type": "execute_result"
    }
   ],
   "source": [
    "df3=pd.read_csv('countries (1).csv')\n",
    "df3"
   ]
  },
  {
   "cell_type": "markdown",
   "metadata": {},
   "source": [
    "#join df3 and df2 using the key 'user_id'; the joint data frame is named as df_merged"
   ]
  },
  {
   "cell_type": "code",
   "execution_count": 45,
   "metadata": {},
   "outputs": [
    {
     "data": {
      "text/html": [
       "<div>\n",
       "<style scoped>\n",
       "    .dataframe tbody tr th:only-of-type {\n",
       "        vertical-align: middle;\n",
       "    }\n",
       "\n",
       "    .dataframe tbody tr th {\n",
       "        vertical-align: top;\n",
       "    }\n",
       "\n",
       "    .dataframe thead th {\n",
       "        text-align: right;\n",
       "    }\n",
       "</style>\n",
       "<table border=\"1\" class=\"dataframe\">\n",
       "  <thead>\n",
       "    <tr style=\"text-align: right;\">\n",
       "      <th></th>\n",
       "      <th>timestamp</th>\n",
       "      <th>group</th>\n",
       "      <th>landing_page</th>\n",
       "      <th>converted</th>\n",
       "      <th>intercept</th>\n",
       "      <th>ab_page</th>\n",
       "      <th>country</th>\n",
       "    </tr>\n",
       "    <tr>\n",
       "      <th>user_id</th>\n",
       "      <th></th>\n",
       "      <th></th>\n",
       "      <th></th>\n",
       "      <th></th>\n",
       "      <th></th>\n",
       "      <th></th>\n",
       "      <th></th>\n",
       "    </tr>\n",
       "  </thead>\n",
       "  <tbody>\n",
       "    <tr>\n",
       "      <th>630000</th>\n",
       "      <td>2017-01-19 06:26:06.548941</td>\n",
       "      <td>treatment</td>\n",
       "      <td>new_page</td>\n",
       "      <td>0</td>\n",
       "      <td>1</td>\n",
       "      <td>1</td>\n",
       "      <td>US</td>\n",
       "    </tr>\n",
       "    <tr>\n",
       "      <th>630001</th>\n",
       "      <td>2017-01-16 03:16:42.560309</td>\n",
       "      <td>treatment</td>\n",
       "      <td>new_page</td>\n",
       "      <td>1</td>\n",
       "      <td>1</td>\n",
       "      <td>1</td>\n",
       "      <td>US</td>\n",
       "    </tr>\n",
       "    <tr>\n",
       "      <th>630002</th>\n",
       "      <td>2017-01-19 19:20:56.438330</td>\n",
       "      <td>control</td>\n",
       "      <td>old_page</td>\n",
       "      <td>0</td>\n",
       "      <td>1</td>\n",
       "      <td>0</td>\n",
       "      <td>US</td>\n",
       "    </tr>\n",
       "    <tr>\n",
       "      <th>630003</th>\n",
       "      <td>2017-01-12 10:09:31.510471</td>\n",
       "      <td>treatment</td>\n",
       "      <td>new_page</td>\n",
       "      <td>0</td>\n",
       "      <td>1</td>\n",
       "      <td>1</td>\n",
       "      <td>US</td>\n",
       "    </tr>\n",
       "    <tr>\n",
       "      <th>630004</th>\n",
       "      <td>2017-01-18 20:23:58.824994</td>\n",
       "      <td>treatment</td>\n",
       "      <td>new_page</td>\n",
       "      <td>0</td>\n",
       "      <td>1</td>\n",
       "      <td>1</td>\n",
       "      <td>US</td>\n",
       "    </tr>\n",
       "    <tr>\n",
       "      <th>...</th>\n",
       "      <td>...</td>\n",
       "      <td>...</td>\n",
       "      <td>...</td>\n",
       "      <td>...</td>\n",
       "      <td>...</td>\n",
       "      <td>...</td>\n",
       "      <td>...</td>\n",
       "    </tr>\n",
       "    <tr>\n",
       "      <th>945994</th>\n",
       "      <td>2017-01-03 14:41:21.565258</td>\n",
       "      <td>control</td>\n",
       "      <td>old_page</td>\n",
       "      <td>0</td>\n",
       "      <td>1</td>\n",
       "      <td>0</td>\n",
       "      <td>UK</td>\n",
       "    </tr>\n",
       "    <tr>\n",
       "      <th>945996</th>\n",
       "      <td>2017-01-09 18:58:19.952277</td>\n",
       "      <td>treatment</td>\n",
       "      <td>new_page</td>\n",
       "      <td>0</td>\n",
       "      <td>1</td>\n",
       "      <td>1</td>\n",
       "      <td>US</td>\n",
       "    </tr>\n",
       "    <tr>\n",
       "      <th>945997</th>\n",
       "      <td>2017-01-04 06:56:24.658147</td>\n",
       "      <td>control</td>\n",
       "      <td>old_page</td>\n",
       "      <td>0</td>\n",
       "      <td>1</td>\n",
       "      <td>0</td>\n",
       "      <td>US</td>\n",
       "    </tr>\n",
       "    <tr>\n",
       "      <th>945998</th>\n",
       "      <td>2017-01-16 07:08:02.207969</td>\n",
       "      <td>control</td>\n",
       "      <td>old_page</td>\n",
       "      <td>0</td>\n",
       "      <td>1</td>\n",
       "      <td>0</td>\n",
       "      <td>CA</td>\n",
       "    </tr>\n",
       "    <tr>\n",
       "      <th>945999</th>\n",
       "      <td>2017-01-16 04:56:21.132067</td>\n",
       "      <td>treatment</td>\n",
       "      <td>new_page</td>\n",
       "      <td>0</td>\n",
       "      <td>1</td>\n",
       "      <td>1</td>\n",
       "      <td>US</td>\n",
       "    </tr>\n",
       "  </tbody>\n",
       "</table>\n",
       "<p>290585 rows × 7 columns</p>\n",
       "</div>"
      ],
      "text/plain": [
       "                          timestamp      group landing_page  converted  \\\n",
       "user_id                                                                  \n",
       "630000   2017-01-19 06:26:06.548941  treatment     new_page          0   \n",
       "630001   2017-01-16 03:16:42.560309  treatment     new_page          1   \n",
       "630002   2017-01-19 19:20:56.438330    control     old_page          0   \n",
       "630003   2017-01-12 10:09:31.510471  treatment     new_page          0   \n",
       "630004   2017-01-18 20:23:58.824994  treatment     new_page          0   \n",
       "...                             ...        ...          ...        ...   \n",
       "945994   2017-01-03 14:41:21.565258    control     old_page          0   \n",
       "945996   2017-01-09 18:58:19.952277  treatment     new_page          0   \n",
       "945997   2017-01-04 06:56:24.658147    control     old_page          0   \n",
       "945998   2017-01-16 07:08:02.207969    control     old_page          0   \n",
       "945999   2017-01-16 04:56:21.132067  treatment     new_page          0   \n",
       "\n",
       "         intercept  ab_page country  \n",
       "user_id                              \n",
       "630000           1        1      US  \n",
       "630001           1        1      US  \n",
       "630002           1        0      US  \n",
       "630003           1        1      US  \n",
       "630004           1        1      US  \n",
       "...            ...      ...     ...  \n",
       "945994           1        0      UK  \n",
       "945996           1        1      US  \n",
       "945997           1        0      US  \n",
       "945998           1        0      CA  \n",
       "945999           1        1      US  \n",
       "\n",
       "[290585 rows x 7 columns]"
      ]
     },
     "execution_count": 45,
     "metadata": {},
     "output_type": "execute_result"
    }
   ],
   "source": [
    "df_merged=df2.set_index('user_id').join(df3.set_index('user_id'))\n",
    "df_merged"
   ]
  },
  {
   "cell_type": "code",
   "execution_count": 46,
   "metadata": {},
   "outputs": [
    {
     "data": {
      "text/html": [
       "<div>\n",
       "<style scoped>\n",
       "    .dataframe tbody tr th:only-of-type {\n",
       "        vertical-align: middle;\n",
       "    }\n",
       "\n",
       "    .dataframe tbody tr th {\n",
       "        vertical-align: top;\n",
       "    }\n",
       "\n",
       "    .dataframe thead th {\n",
       "        text-align: right;\n",
       "    }\n",
       "</style>\n",
       "<table border=\"1\" class=\"dataframe\">\n",
       "  <thead>\n",
       "    <tr style=\"text-align: right;\">\n",
       "      <th></th>\n",
       "      <th>timestamp</th>\n",
       "      <th>group</th>\n",
       "      <th>landing_page</th>\n",
       "      <th>converted</th>\n",
       "      <th>intercept</th>\n",
       "      <th>ab_page</th>\n",
       "      <th>country</th>\n",
       "      <th>CA</th>\n",
       "      <th>UK</th>\n",
       "    </tr>\n",
       "    <tr>\n",
       "      <th>user_id</th>\n",
       "      <th></th>\n",
       "      <th></th>\n",
       "      <th></th>\n",
       "      <th></th>\n",
       "      <th></th>\n",
       "      <th></th>\n",
       "      <th></th>\n",
       "      <th></th>\n",
       "      <th></th>\n",
       "    </tr>\n",
       "  </thead>\n",
       "  <tbody>\n",
       "    <tr>\n",
       "      <th>630000</th>\n",
       "      <td>2017-01-19 06:26:06.548941</td>\n",
       "      <td>treatment</td>\n",
       "      <td>new_page</td>\n",
       "      <td>0</td>\n",
       "      <td>1</td>\n",
       "      <td>1</td>\n",
       "      <td>US</td>\n",
       "      <td>0</td>\n",
       "      <td>0</td>\n",
       "    </tr>\n",
       "    <tr>\n",
       "      <th>630001</th>\n",
       "      <td>2017-01-16 03:16:42.560309</td>\n",
       "      <td>treatment</td>\n",
       "      <td>new_page</td>\n",
       "      <td>1</td>\n",
       "      <td>1</td>\n",
       "      <td>1</td>\n",
       "      <td>US</td>\n",
       "      <td>0</td>\n",
       "      <td>0</td>\n",
       "    </tr>\n",
       "    <tr>\n",
       "      <th>630002</th>\n",
       "      <td>2017-01-19 19:20:56.438330</td>\n",
       "      <td>control</td>\n",
       "      <td>old_page</td>\n",
       "      <td>0</td>\n",
       "      <td>1</td>\n",
       "      <td>0</td>\n",
       "      <td>US</td>\n",
       "      <td>0</td>\n",
       "      <td>0</td>\n",
       "    </tr>\n",
       "    <tr>\n",
       "      <th>630003</th>\n",
       "      <td>2017-01-12 10:09:31.510471</td>\n",
       "      <td>treatment</td>\n",
       "      <td>new_page</td>\n",
       "      <td>0</td>\n",
       "      <td>1</td>\n",
       "      <td>1</td>\n",
       "      <td>US</td>\n",
       "      <td>0</td>\n",
       "      <td>0</td>\n",
       "    </tr>\n",
       "    <tr>\n",
       "      <th>630004</th>\n",
       "      <td>2017-01-18 20:23:58.824994</td>\n",
       "      <td>treatment</td>\n",
       "      <td>new_page</td>\n",
       "      <td>0</td>\n",
       "      <td>1</td>\n",
       "      <td>1</td>\n",
       "      <td>US</td>\n",
       "      <td>0</td>\n",
       "      <td>0</td>\n",
       "    </tr>\n",
       "    <tr>\n",
       "      <th>...</th>\n",
       "      <td>...</td>\n",
       "      <td>...</td>\n",
       "      <td>...</td>\n",
       "      <td>...</td>\n",
       "      <td>...</td>\n",
       "      <td>...</td>\n",
       "      <td>...</td>\n",
       "      <td>...</td>\n",
       "      <td>...</td>\n",
       "    </tr>\n",
       "    <tr>\n",
       "      <th>945994</th>\n",
       "      <td>2017-01-03 14:41:21.565258</td>\n",
       "      <td>control</td>\n",
       "      <td>old_page</td>\n",
       "      <td>0</td>\n",
       "      <td>1</td>\n",
       "      <td>0</td>\n",
       "      <td>UK</td>\n",
       "      <td>0</td>\n",
       "      <td>1</td>\n",
       "    </tr>\n",
       "    <tr>\n",
       "      <th>945996</th>\n",
       "      <td>2017-01-09 18:58:19.952277</td>\n",
       "      <td>treatment</td>\n",
       "      <td>new_page</td>\n",
       "      <td>0</td>\n",
       "      <td>1</td>\n",
       "      <td>1</td>\n",
       "      <td>US</td>\n",
       "      <td>0</td>\n",
       "      <td>0</td>\n",
       "    </tr>\n",
       "    <tr>\n",
       "      <th>945997</th>\n",
       "      <td>2017-01-04 06:56:24.658147</td>\n",
       "      <td>control</td>\n",
       "      <td>old_page</td>\n",
       "      <td>0</td>\n",
       "      <td>1</td>\n",
       "      <td>0</td>\n",
       "      <td>US</td>\n",
       "      <td>0</td>\n",
       "      <td>0</td>\n",
       "    </tr>\n",
       "    <tr>\n",
       "      <th>945998</th>\n",
       "      <td>2017-01-16 07:08:02.207969</td>\n",
       "      <td>control</td>\n",
       "      <td>old_page</td>\n",
       "      <td>0</td>\n",
       "      <td>1</td>\n",
       "      <td>0</td>\n",
       "      <td>CA</td>\n",
       "      <td>1</td>\n",
       "      <td>0</td>\n",
       "    </tr>\n",
       "    <tr>\n",
       "      <th>945999</th>\n",
       "      <td>2017-01-16 04:56:21.132067</td>\n",
       "      <td>treatment</td>\n",
       "      <td>new_page</td>\n",
       "      <td>0</td>\n",
       "      <td>1</td>\n",
       "      <td>1</td>\n",
       "      <td>US</td>\n",
       "      <td>0</td>\n",
       "      <td>0</td>\n",
       "    </tr>\n",
       "  </tbody>\n",
       "</table>\n",
       "<p>290585 rows × 9 columns</p>\n",
       "</div>"
      ],
      "text/plain": [
       "                          timestamp      group landing_page  converted  \\\n",
       "user_id                                                                  \n",
       "630000   2017-01-19 06:26:06.548941  treatment     new_page          0   \n",
       "630001   2017-01-16 03:16:42.560309  treatment     new_page          1   \n",
       "630002   2017-01-19 19:20:56.438330    control     old_page          0   \n",
       "630003   2017-01-12 10:09:31.510471  treatment     new_page          0   \n",
       "630004   2017-01-18 20:23:58.824994  treatment     new_page          0   \n",
       "...                             ...        ...          ...        ...   \n",
       "945994   2017-01-03 14:41:21.565258    control     old_page          0   \n",
       "945996   2017-01-09 18:58:19.952277  treatment     new_page          0   \n",
       "945997   2017-01-04 06:56:24.658147    control     old_page          0   \n",
       "945998   2017-01-16 07:08:02.207969    control     old_page          0   \n",
       "945999   2017-01-16 04:56:21.132067  treatment     new_page          0   \n",
       "\n",
       "         intercept  ab_page country  CA  UK  \n",
       "user_id                                      \n",
       "630000           1        1      US   0   0  \n",
       "630001           1        1      US   0   0  \n",
       "630002           1        0      US   0   0  \n",
       "630003           1        1      US   0   0  \n",
       "630004           1        1      US   0   0  \n",
       "...            ...      ...     ...  ..  ..  \n",
       "945994           1        0      UK   0   1  \n",
       "945996           1        1      US   0   0  \n",
       "945997           1        0      US   0   0  \n",
       "945998           1        0      CA   1   0  \n",
       "945999           1        1      US   0   0  \n",
       "\n",
       "[290585 rows x 9 columns]"
      ]
     },
     "execution_count": 46,
     "metadata": {},
     "output_type": "execute_result"
    }
   ],
   "source": [
    "df_merged[['CA', 'UK', 'US']]=pd.get_dummies(df_merged['country'])\n",
    "df_merged\n",
    "df_merged.drop('US', axis=1)\n"
   ]
  },
  {
   "cell_type": "code",
   "execution_count": 47,
   "metadata": {},
   "outputs": [
    {
     "name": "stdout",
     "output_type": "stream",
     "text": [
      "Optimization terminated successfully.\n",
      "         Current function value: 0.366115\n",
      "         Iterations 6\n"
     ]
    },
    {
     "data": {
      "text/html": [
       "<table class=\"simpletable\">\n",
       "<caption>Logit Regression Results</caption>\n",
       "<tr>\n",
       "  <th>Dep. Variable:</th>       <td>converted</td>    <th>  No. Observations:  </th>   <td>290585</td>   \n",
       "</tr>\n",
       "<tr>\n",
       "  <th>Model:</th>                 <td>Logit</td>      <th>  Df Residuals:      </th>   <td>290582</td>   \n",
       "</tr>\n",
       "<tr>\n",
       "  <th>Method:</th>                 <td>MLE</td>       <th>  Df Model:          </th>   <td>     2</td>   \n",
       "</tr>\n",
       "<tr>\n",
       "  <th>Date:</th>            <td>Sat, 15 Jan 2022</td> <th>  Pseudo R-squ.:     </th>  <td>1.521e-05</td> \n",
       "</tr>\n",
       "<tr>\n",
       "  <th>Time:</th>                <td>03:22:03</td>     <th>  Log-Likelihood:    </th> <td>-1.0639e+05</td>\n",
       "</tr>\n",
       "<tr>\n",
       "  <th>converged:</th>             <td>True</td>       <th>  LL-Null:           </th> <td>-1.0639e+05</td>\n",
       "</tr>\n",
       "<tr>\n",
       "  <th>Covariance Type:</th>     <td>nonrobust</td>    <th>  LLR p-value:       </th>   <td>0.1983</td>   \n",
       "</tr>\n",
       "</table>\n",
       "<table class=\"simpletable\">\n",
       "<tr>\n",
       "      <td></td>         <th>coef</th>     <th>std err</th>      <th>z</th>      <th>P>|z|</th>  <th>[0.025</th>    <th>0.975]</th>  \n",
       "</tr>\n",
       "<tr>\n",
       "  <th>intercept</th> <td>   -1.9967</td> <td>    0.007</td> <td> -292.315</td> <td> 0.000</td> <td>   -2.010</td> <td>   -1.983</td>\n",
       "</tr>\n",
       "<tr>\n",
       "  <th>UK</th>        <td>    0.0099</td> <td>    0.013</td> <td>    0.746</td> <td> 0.456</td> <td>   -0.016</td> <td>    0.036</td>\n",
       "</tr>\n",
       "<tr>\n",
       "  <th>CA</th>        <td>   -0.0408</td> <td>    0.027</td> <td>   -1.518</td> <td> 0.129</td> <td>   -0.093</td> <td>    0.012</td>\n",
       "</tr>\n",
       "</table>"
      ],
      "text/plain": [
       "<class 'statsmodels.iolib.summary.Summary'>\n",
       "\"\"\"\n",
       "                           Logit Regression Results                           \n",
       "==============================================================================\n",
       "Dep. Variable:              converted   No. Observations:               290585\n",
       "Model:                          Logit   Df Residuals:                   290582\n",
       "Method:                           MLE   Df Model:                            2\n",
       "Date:                Sat, 15 Jan 2022   Pseudo R-squ.:               1.521e-05\n",
       "Time:                        03:22:03   Log-Likelihood:            -1.0639e+05\n",
       "converged:                       True   LL-Null:                   -1.0639e+05\n",
       "Covariance Type:            nonrobust   LLR p-value:                    0.1983\n",
       "==============================================================================\n",
       "                 coef    std err          z      P>|z|      [0.025      0.975]\n",
       "------------------------------------------------------------------------------\n",
       "intercept     -1.9967      0.007   -292.315      0.000      -2.010      -1.983\n",
       "UK             0.0099      0.013      0.746      0.456      -0.016       0.036\n",
       "CA            -0.0408      0.027     -1.518      0.129      -0.093       0.012\n",
       "==============================================================================\n",
       "\"\"\""
      ]
     },
     "execution_count": 47,
     "metadata": {},
     "output_type": "execute_result"
    }
   ],
   "source": [
    "df_merged['intercept']=1\n",
    "logit_mod=sm.Logit(df_merged['converted'], df_merged[['intercept', 'UK', 'CA']])\n",
    "results=logit_mod.fit()\n",
    "results.summary()"
   ]
  },
  {
   "cell_type": "markdown",
   "metadata": {},
   "source": [
    "#to inteprete coefficient in logistic regression, first need to exponentiate each coefficient"
   ]
  },
  {
   "cell_type": "code",
   "execution_count": 48,
   "metadata": {},
   "outputs": [
    {
     "data": {
      "text/plain": [
       "(1.0099491671175422, 0.9600211149716509)"
      ]
     },
     "execution_count": 48,
     "metadata": {},
     "output_type": "execute_result"
    }
   ],
   "source": [
    "np.exp(0.0099), np.exp(-0.0408)"
   ]
  },
  {
   "cell_type": "markdown",
   "metadata": {},
   "source": [
    "#slope intepretation for UK: conversion is 1 time as likely in UK than US holding all else constant\n",
    "#slope intepreation for CA: conversion is 0.96 time as likely in CA than US holding all else constant"
   ]
  },
  {
   "cell_type": "markdown",
   "metadata": {},
   "source": [
    "Now, after looking at the individual factors of country and page on conversion, now take look at an interaction between page and country, we need to create the  interation  term for UK and ab_page, CA and ab_page. To add interaction term in the regression, we also need to keep our lower term (here is ab_page, UK, CA) "
   ]
  },
  {
   "cell_type": "code",
   "execution_count": 49,
   "metadata": {},
   "outputs": [
    {
     "name": "stdout",
     "output_type": "stream",
     "text": [
      "Optimization terminated successfully.\n",
      "         Current function value: 0.366108\n",
      "         Iterations 6\n"
     ]
    },
    {
     "data": {
      "text/html": [
       "<table class=\"simpletable\">\n",
       "<caption>Logit Regression Results</caption>\n",
       "<tr>\n",
       "  <th>Dep. Variable:</th>       <td>converted</td>    <th>  No. Observations:  </th>   <td>290585</td>   \n",
       "</tr>\n",
       "<tr>\n",
       "  <th>Model:</th>                 <td>Logit</td>      <th>  Df Residuals:      </th>   <td>290579</td>   \n",
       "</tr>\n",
       "<tr>\n",
       "  <th>Method:</th>                 <td>MLE</td>       <th>  Df Model:          </th>   <td>     5</td>   \n",
       "</tr>\n",
       "<tr>\n",
       "  <th>Date:</th>            <td>Sat, 15 Jan 2022</td> <th>  Pseudo R-squ.:     </th>  <td>3.483e-05</td> \n",
       "</tr>\n",
       "<tr>\n",
       "  <th>Time:</th>                <td>03:22:05</td>     <th>  Log-Likelihood:    </th> <td>-1.0639e+05</td>\n",
       "</tr>\n",
       "<tr>\n",
       "  <th>converged:</th>             <td>True</td>       <th>  LL-Null:           </th> <td>-1.0639e+05</td>\n",
       "</tr>\n",
       "<tr>\n",
       "  <th>Covariance Type:</th>     <td>nonrobust</td>    <th>  LLR p-value:       </th>   <td>0.1918</td>   \n",
       "</tr>\n",
       "</table>\n",
       "<table class=\"simpletable\">\n",
       "<tr>\n",
       "      <td></td>         <th>coef</th>     <th>std err</th>      <th>z</th>      <th>P>|z|</th>  <th>[0.025</th>    <th>0.975]</th>  \n",
       "</tr>\n",
       "<tr>\n",
       "  <th>intercept</th> <td>   -1.9865</td> <td>    0.010</td> <td> -206.344</td> <td> 0.000</td> <td>   -2.005</td> <td>   -1.968</td>\n",
       "</tr>\n",
       "<tr>\n",
       "  <th>ab_page</th>   <td>   -0.0206</td> <td>    0.014</td> <td>   -1.506</td> <td> 0.132</td> <td>   -0.047</td> <td>    0.006</td>\n",
       "</tr>\n",
       "<tr>\n",
       "  <th>UK</th>        <td>   -0.0057</td> <td>    0.019</td> <td>   -0.306</td> <td> 0.760</td> <td>   -0.043</td> <td>    0.031</td>\n",
       "</tr>\n",
       "<tr>\n",
       "  <th>CA</th>        <td>   -0.0175</td> <td>    0.038</td> <td>   -0.465</td> <td> 0.642</td> <td>   -0.091</td> <td>    0.056</td>\n",
       "</tr>\n",
       "<tr>\n",
       "  <th>ab_UK</th>     <td>    0.0314</td> <td>    0.027</td> <td>    1.181</td> <td> 0.238</td> <td>   -0.021</td> <td>    0.084</td>\n",
       "</tr>\n",
       "<tr>\n",
       "  <th>ab_CA</th>     <td>   -0.0469</td> <td>    0.054</td> <td>   -0.872</td> <td> 0.383</td> <td>   -0.152</td> <td>    0.059</td>\n",
       "</tr>\n",
       "</table>"
      ],
      "text/plain": [
       "<class 'statsmodels.iolib.summary.Summary'>\n",
       "\"\"\"\n",
       "                           Logit Regression Results                           \n",
       "==============================================================================\n",
       "Dep. Variable:              converted   No. Observations:               290585\n",
       "Model:                          Logit   Df Residuals:                   290579\n",
       "Method:                           MLE   Df Model:                            5\n",
       "Date:                Sat, 15 Jan 2022   Pseudo R-squ.:               3.483e-05\n",
       "Time:                        03:22:05   Log-Likelihood:            -1.0639e+05\n",
       "converged:                       True   LL-Null:                   -1.0639e+05\n",
       "Covariance Type:            nonrobust   LLR p-value:                    0.1918\n",
       "==============================================================================\n",
       "                 coef    std err          z      P>|z|      [0.025      0.975]\n",
       "------------------------------------------------------------------------------\n",
       "intercept     -1.9865      0.010   -206.344      0.000      -2.005      -1.968\n",
       "ab_page       -0.0206      0.014     -1.506      0.132      -0.047       0.006\n",
       "UK            -0.0057      0.019     -0.306      0.760      -0.043       0.031\n",
       "CA            -0.0175      0.038     -0.465      0.642      -0.091       0.056\n",
       "ab_UK          0.0314      0.027      1.181      0.238      -0.021       0.084\n",
       "ab_CA         -0.0469      0.054     -0.872      0.383      -0.152       0.059\n",
       "==============================================================================\n",
       "\"\"\""
      ]
     },
     "execution_count": 49,
     "metadata": {},
     "output_type": "execute_result"
    }
   ],
   "source": [
    "df_merged['ab_UK'] = df_merged['ab_page'] * df_merged['UK']\n",
    "df_merged['ab_CA'] = df_merged['ab_page'] * df_merged['CA']\n",
    "lm3 = sm.Logit(df_merged['converted'], df_merged[['intercept', 'ab_page', 'UK' , 'CA', 'ab_UK', 'ab_CA']])\n",
    "results = lm3.fit()\n",
    "results.summary()"
   ]
  },
  {
   "cell_type": "markdown",
   "metadata": {},
   "source": [
    "#the p value for interaction term (ab_UK and ab_CA) is too big to be significant compare to the type I error 0.05. In regression, the null hypothesis for the coefficient is equal to 0, and alternative hypothesis for the coefficient is not equal to 0. Because p value is big, so we cannot reject our null hypothesis that coefficient for ab_UK and ab_CA is not significant to predicted the conversion. So there is no significant relationship between the interaction terms with converson. "
   ]
  },
  {
   "cell_type": "markdown",
   "metadata": {},
   "source": [
    "## conclusion: \n",
    "\n",
    "Based on both the A/B test and logistic regression, the p value is too big to be significantly important. Large p value means that we cannot reject our null hypothesis that convsersion is not related to landing_page (new_page & old_page).Later, adding other factor (country) to run the regression. However, the p value related to the ciefficient is too big to be significantly important. So it can be conclude that both landing_page and country has no effect on conversion.  \n"
   ]
  }
 ],
 "metadata": {
  "kernelspec": {
   "display_name": "Python 3",
   "language": "python",
   "name": "python3"
  },
  "language_info": {
   "codemirror_mode": {
    "name": "ipython",
    "version": 3
   },
   "file_extension": ".py",
   "mimetype": "text/x-python",
   "name": "python",
   "nbconvert_exporter": "python",
   "pygments_lexer": "ipython3",
   "version": "3.8.8"
  }
 },
 "nbformat": 4,
 "nbformat_minor": 2
}
