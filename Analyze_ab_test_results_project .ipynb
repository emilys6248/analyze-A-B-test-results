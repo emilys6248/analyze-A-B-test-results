{
 "cells": [
  {
   "cell_type": "markdown",
   "metadata": {},
   "source": [
    "# Analyze A/B Test Results Project\n",
    "\n",
    "\n",
    "- [Introduction](#intro)\n",
    "- [Part I - Probability](#probability)\n",
    "- [Part II - A/B Test](#ab_test)\n",
    "- [Part III - Regression](#regression)\n",
    "\n",
    "<a id='intro'></a>\n",
    "## Introduction\n",
    "\n",
    "In this project, I am going to perform A/B test and regression to see if the feature change on the e-commercewebsite will lead to the change of conversion rate. In this project, I am going to focus on whether receiving new page will lead to increase of conversion rate. I will run both ab_test and regression on my data to know if we need to use new webpage or stay with the old page. Later, I am going to add other factors to consider in the regression such as country to see if it is realted to the conversion rate. \n",
    "\n",
    "\n",
    "\n",
    "\n",
    "<a id='probability'></a>\n",
    "## Part I - Probability\n",
    "\n",
    "import libraries "
   ]
  },
  {
   "cell_type": "code",
   "execution_count": 1,
   "metadata": {},
   "outputs": [],
   "source": [
    "import pandas as pd\n",
    "import numpy as np\n",
    "import random\n",
    "import matplotlib.pyplot as plt\n",
    "%matplotlib inline\n",
    "random.seed(42)"
   ]
  },
  {
   "cell_type": "code",
   "execution_count": 2,
   "metadata": {},
   "outputs": [
    {
     "data": {
      "text/html": [
       "<div>\n",
       "<style scoped>\n",
       "    .dataframe tbody tr th:only-of-type {\n",
       "        vertical-align: middle;\n",
       "    }\n",
       "\n",
       "    .dataframe tbody tr th {\n",
       "        vertical-align: top;\n",
       "    }\n",
       "\n",
       "    .dataframe thead th {\n",
       "        text-align: right;\n",
       "    }\n",
       "</style>\n",
       "<table border=\"1\" class=\"dataframe\">\n",
       "  <thead>\n",
       "    <tr style=\"text-align: right;\">\n",
       "      <th></th>\n",
       "      <th>user_id</th>\n",
       "      <th>timestamp</th>\n",
       "      <th>group</th>\n",
       "      <th>landing_page</th>\n",
       "      <th>converted</th>\n",
       "    </tr>\n",
       "  </thead>\n",
       "  <tbody>\n",
       "    <tr>\n",
       "      <th>0</th>\n",
       "      <td>851104</td>\n",
       "      <td>2017-01-21 22:11:48.556739</td>\n",
       "      <td>control</td>\n",
       "      <td>old_page</td>\n",
       "      <td>0</td>\n",
       "    </tr>\n",
       "    <tr>\n",
       "      <th>1</th>\n",
       "      <td>804228</td>\n",
       "      <td>2017-01-12 08:01:45.159739</td>\n",
       "      <td>control</td>\n",
       "      <td>old_page</td>\n",
       "      <td>0</td>\n",
       "    </tr>\n",
       "    <tr>\n",
       "      <th>2</th>\n",
       "      <td>661590</td>\n",
       "      <td>2017-01-11 16:55:06.154213</td>\n",
       "      <td>treatment</td>\n",
       "      <td>new_page</td>\n",
       "      <td>0</td>\n",
       "    </tr>\n",
       "    <tr>\n",
       "      <th>3</th>\n",
       "      <td>853541</td>\n",
       "      <td>2017-01-08 18:28:03.143765</td>\n",
       "      <td>treatment</td>\n",
       "      <td>new_page</td>\n",
       "      <td>0</td>\n",
       "    </tr>\n",
       "    <tr>\n",
       "      <th>4</th>\n",
       "      <td>864975</td>\n",
       "      <td>2017-01-21 01:52:26.210827</td>\n",
       "      <td>control</td>\n",
       "      <td>old_page</td>\n",
       "      <td>1</td>\n",
       "    </tr>\n",
       "  </tbody>\n",
       "</table>\n",
       "</div>"
      ],
      "text/plain": [
       "   user_id                   timestamp      group landing_page  converted\n",
       "0   851104  2017-01-21 22:11:48.556739    control     old_page          0\n",
       "1   804228  2017-01-12 08:01:45.159739    control     old_page          0\n",
       "2   661590  2017-01-11 16:55:06.154213  treatment     new_page          0\n",
       "3   853541  2017-01-08 18:28:03.143765  treatment     new_page          0\n",
       "4   864975  2017-01-21 01:52:26.210827    control     old_page          1"
      ]
     },
     "execution_count": 2,
     "metadata": {},
     "output_type": "execute_result"
    }
   ],
   "source": [
    "df=pd.read_csv('ab_data.csv')\n",
    "df.head()"
   ]
  },
  {
   "cell_type": "markdown",
   "metadata": {},
   "source": [
    "find the number of rows in the dataset"
   ]
  },
  {
   "cell_type": "code",
   "execution_count": 3,
   "metadata": {},
   "outputs": [
    {
     "data": {
      "text/plain": [
       "(294478, 5)"
      ]
     },
     "execution_count": 3,
     "metadata": {},
     "output_type": "execute_result"
    }
   ],
   "source": [
    "df.shape"
   ]
  },
  {
   "cell_type": "markdown",
   "metadata": {},
   "source": [
    "unique users in the dataset"
   ]
  },
  {
   "cell_type": "code",
   "execution_count": 4,
   "metadata": {},
   "outputs": [
    {
     "data": {
      "text/plain": [
       "290584"
      ]
     },
     "execution_count": 4,
     "metadata": {},
     "output_type": "execute_result"
    }
   ],
   "source": [
    "df['user_id'].nunique()"
   ]
  },
  {
   "cell_type": "markdown",
   "metadata": {
    "collapsed": true
   },
   "source": [
    "The proportion of users converted"
   ]
  },
  {
   "cell_type": "code",
   "execution_count": 5,
   "metadata": {},
   "outputs": [
    {
     "data": {
      "text/plain": [
       "0.11965919355605512"
      ]
     },
     "execution_count": 5,
     "metadata": {},
     "output_type": "execute_result"
    }
   ],
   "source": [
    "df['converted'].mean()"
   ]
  },
  {
   "cell_type": "markdown",
   "metadata": {
    "collapsed": true
   },
   "source": [
    "check the number of times the group is 'treatment' but 'landing_page' is not 'new_page'"
   ]
  },
  {
   "cell_type": "code",
   "execution_count": 6,
   "metadata": {},
   "outputs": [
    {
     "data": {
      "text/plain": [
       "1965"
      ]
     },
     "execution_count": 6,
     "metadata": {},
     "output_type": "execute_result"
    }
   ],
   "source": [
    "treatment_old = df.query(\"group == 'treatment' and landing_page == 'old_page'\").shape[0]\n",
    "treatment_old"
   ]
  },
  {
   "cell_type": "markdown",
   "metadata": {},
   "source": [
    "check if rows have missing values"
   ]
  },
  {
   "cell_type": "code",
   "execution_count": 7,
   "metadata": {},
   "outputs": [
    {
     "name": "stdout",
     "output_type": "stream",
     "text": [
      "<class 'pandas.core.frame.DataFrame'>\n",
      "RangeIndex: 294478 entries, 0 to 294477\n",
      "Data columns (total 5 columns):\n",
      " #   Column        Non-Null Count   Dtype \n",
      "---  ------        --------------   ----- \n",
      " 0   user_id       294478 non-null  int64 \n",
      " 1   timestamp     294478 non-null  object\n",
      " 2   group         294478 non-null  object\n",
      " 3   landing_page  294478 non-null  object\n",
      " 4   converted     294478 non-null  int64 \n",
      "dtypes: int64(2), object(3)\n",
      "memory usage: 11.2+ MB\n"
     ]
    }
   ],
   "source": [
    "df.info()"
   ]
  },
  {
   "cell_type": "markdown",
   "metadata": {},
   "source": [
    "#select all the rows having group and landing_page matched each other\n"
   ]
  },
  {
   "cell_type": "code",
   "execution_count": 8,
   "metadata": {},
   "outputs": [],
   "source": [
    "df2=df.query(\"group == 'treatment' and landing_page == 'new_page'\")"
   ]
  },
  {
   "cell_type": "markdown",
   "metadata": {},
   "source": [
    "saved all the rows having treatment group match with new_page to a new dataframe df2"
   ]
  },
  {
   "cell_type": "code",
   "execution_count": 9,
   "metadata": {},
   "outputs": [],
   "source": [
    "df_control_old= df.query(\"group == 'control' and landing_page == 'old_page'\")"
   ]
  },
  {
   "cell_type": "markdown",
   "metadata": {},
   "source": [
    "saved all the rows having control group match with old_page to a new dataframe df_control_old"
   ]
  },
  {
   "cell_type": "code",
   "execution_count": 10,
   "metadata": {},
   "outputs": [
    {
     "data": {
      "text/html": [
       "<div>\n",
       "<style scoped>\n",
       "    .dataframe tbody tr th:only-of-type {\n",
       "        vertical-align: middle;\n",
       "    }\n",
       "\n",
       "    .dataframe tbody tr th {\n",
       "        vertical-align: top;\n",
       "    }\n",
       "\n",
       "    .dataframe thead th {\n",
       "        text-align: right;\n",
       "    }\n",
       "</style>\n",
       "<table border=\"1\" class=\"dataframe\">\n",
       "  <thead>\n",
       "    <tr style=\"text-align: right;\">\n",
       "      <th></th>\n",
       "      <th>user_id</th>\n",
       "      <th>timestamp</th>\n",
       "      <th>group</th>\n",
       "      <th>landing_page</th>\n",
       "      <th>converted</th>\n",
       "    </tr>\n",
       "  </thead>\n",
       "  <tbody>\n",
       "    <tr>\n",
       "      <th>0</th>\n",
       "      <td>851104</td>\n",
       "      <td>2017-01-21 22:11:48.556739</td>\n",
       "      <td>control</td>\n",
       "      <td>old_page</td>\n",
       "      <td>0</td>\n",
       "    </tr>\n",
       "    <tr>\n",
       "      <th>1</th>\n",
       "      <td>804228</td>\n",
       "      <td>2017-01-12 08:01:45.159739</td>\n",
       "      <td>control</td>\n",
       "      <td>old_page</td>\n",
       "      <td>0</td>\n",
       "    </tr>\n",
       "    <tr>\n",
       "      <th>4</th>\n",
       "      <td>864975</td>\n",
       "      <td>2017-01-21 01:52:26.210827</td>\n",
       "      <td>control</td>\n",
       "      <td>old_page</td>\n",
       "      <td>1</td>\n",
       "    </tr>\n",
       "    <tr>\n",
       "      <th>5</th>\n",
       "      <td>936923</td>\n",
       "      <td>2017-01-10 15:20:49.083499</td>\n",
       "      <td>control</td>\n",
       "      <td>old_page</td>\n",
       "      <td>0</td>\n",
       "    </tr>\n",
       "    <tr>\n",
       "      <th>7</th>\n",
       "      <td>719014</td>\n",
       "      <td>2017-01-17 01:48:29.539573</td>\n",
       "      <td>control</td>\n",
       "      <td>old_page</td>\n",
       "      <td>0</td>\n",
       "    </tr>\n",
       "    <tr>\n",
       "      <th>...</th>\n",
       "      <td>...</td>\n",
       "      <td>...</td>\n",
       "      <td>...</td>\n",
       "      <td>...</td>\n",
       "      <td>...</td>\n",
       "    </tr>\n",
       "    <tr>\n",
       "      <th>294471</th>\n",
       "      <td>718310</td>\n",
       "      <td>2017-01-21 22:44:20.378320</td>\n",
       "      <td>control</td>\n",
       "      <td>old_page</td>\n",
       "      <td>0</td>\n",
       "    </tr>\n",
       "    <tr>\n",
       "      <th>294473</th>\n",
       "      <td>751197</td>\n",
       "      <td>2017-01-03 22:28:38.630509</td>\n",
       "      <td>control</td>\n",
       "      <td>old_page</td>\n",
       "      <td>0</td>\n",
       "    </tr>\n",
       "    <tr>\n",
       "      <th>294474</th>\n",
       "      <td>945152</td>\n",
       "      <td>2017-01-12 00:51:57.078372</td>\n",
       "      <td>control</td>\n",
       "      <td>old_page</td>\n",
       "      <td>0</td>\n",
       "    </tr>\n",
       "    <tr>\n",
       "      <th>294475</th>\n",
       "      <td>734608</td>\n",
       "      <td>2017-01-22 11:45:03.439544</td>\n",
       "      <td>control</td>\n",
       "      <td>old_page</td>\n",
       "      <td>0</td>\n",
       "    </tr>\n",
       "    <tr>\n",
       "      <th>294476</th>\n",
       "      <td>697314</td>\n",
       "      <td>2017-01-15 01:20:28.957438</td>\n",
       "      <td>control</td>\n",
       "      <td>old_page</td>\n",
       "      <td>0</td>\n",
       "    </tr>\n",
       "  </tbody>\n",
       "</table>\n",
       "<p>145274 rows × 5 columns</p>\n",
       "</div>"
      ],
      "text/plain": [
       "        user_id                   timestamp    group landing_page  converted\n",
       "0        851104  2017-01-21 22:11:48.556739  control     old_page          0\n",
       "1        804228  2017-01-12 08:01:45.159739  control     old_page          0\n",
       "4        864975  2017-01-21 01:52:26.210827  control     old_page          1\n",
       "5        936923  2017-01-10 15:20:49.083499  control     old_page          0\n",
       "7        719014  2017-01-17 01:48:29.539573  control     old_page          0\n",
       "...         ...                         ...      ...          ...        ...\n",
       "294471   718310  2017-01-21 22:44:20.378320  control     old_page          0\n",
       "294473   751197  2017-01-03 22:28:38.630509  control     old_page          0\n",
       "294474   945152  2017-01-12 00:51:57.078372  control     old_page          0\n",
       "294475   734608  2017-01-22 11:45:03.439544  control     old_page          0\n",
       "294476   697314  2017-01-15 01:20:28.957438  control     old_page          0\n",
       "\n",
       "[145274 rows x 5 columns]"
      ]
     },
     "execution_count": 10,
     "metadata": {},
     "output_type": "execute_result"
    }
   ],
   "source": [
    "df_control_old"
   ]
  },
  {
   "cell_type": "markdown",
   "metadata": {},
   "source": [
    "#append the rows in df_control_old to df2 "
   ]
  },
  {
   "cell_type": "code",
   "execution_count": 11,
   "metadata": {},
   "outputs": [
    {
     "data": {
      "text/html": [
       "<div>\n",
       "<style scoped>\n",
       "    .dataframe tbody tr th:only-of-type {\n",
       "        vertical-align: middle;\n",
       "    }\n",
       "\n",
       "    .dataframe tbody tr th {\n",
       "        vertical-align: top;\n",
       "    }\n",
       "\n",
       "    .dataframe thead th {\n",
       "        text-align: right;\n",
       "    }\n",
       "</style>\n",
       "<table border=\"1\" class=\"dataframe\">\n",
       "  <thead>\n",
       "    <tr style=\"text-align: right;\">\n",
       "      <th></th>\n",
       "      <th>user_id</th>\n",
       "      <th>timestamp</th>\n",
       "      <th>group</th>\n",
       "      <th>landing_page</th>\n",
       "      <th>converted</th>\n",
       "    </tr>\n",
       "  </thead>\n",
       "  <tbody>\n",
       "    <tr>\n",
       "      <th>2</th>\n",
       "      <td>661590</td>\n",
       "      <td>2017-01-11 16:55:06.154213</td>\n",
       "      <td>treatment</td>\n",
       "      <td>new_page</td>\n",
       "      <td>0</td>\n",
       "    </tr>\n",
       "    <tr>\n",
       "      <th>3</th>\n",
       "      <td>853541</td>\n",
       "      <td>2017-01-08 18:28:03.143765</td>\n",
       "      <td>treatment</td>\n",
       "      <td>new_page</td>\n",
       "      <td>0</td>\n",
       "    </tr>\n",
       "    <tr>\n",
       "      <th>6</th>\n",
       "      <td>679687</td>\n",
       "      <td>2017-01-19 03:26:46.940749</td>\n",
       "      <td>treatment</td>\n",
       "      <td>new_page</td>\n",
       "      <td>1</td>\n",
       "    </tr>\n",
       "    <tr>\n",
       "      <th>8</th>\n",
       "      <td>817355</td>\n",
       "      <td>2017-01-04 17:58:08.979471</td>\n",
       "      <td>treatment</td>\n",
       "      <td>new_page</td>\n",
       "      <td>1</td>\n",
       "    </tr>\n",
       "    <tr>\n",
       "      <th>9</th>\n",
       "      <td>839785</td>\n",
       "      <td>2017-01-15 18:11:06.610965</td>\n",
       "      <td>treatment</td>\n",
       "      <td>new_page</td>\n",
       "      <td>1</td>\n",
       "    </tr>\n",
       "    <tr>\n",
       "      <th>...</th>\n",
       "      <td>...</td>\n",
       "      <td>...</td>\n",
       "      <td>...</td>\n",
       "      <td>...</td>\n",
       "      <td>...</td>\n",
       "    </tr>\n",
       "    <tr>\n",
       "      <th>294471</th>\n",
       "      <td>718310</td>\n",
       "      <td>2017-01-21 22:44:20.378320</td>\n",
       "      <td>control</td>\n",
       "      <td>old_page</td>\n",
       "      <td>0</td>\n",
       "    </tr>\n",
       "    <tr>\n",
       "      <th>294473</th>\n",
       "      <td>751197</td>\n",
       "      <td>2017-01-03 22:28:38.630509</td>\n",
       "      <td>control</td>\n",
       "      <td>old_page</td>\n",
       "      <td>0</td>\n",
       "    </tr>\n",
       "    <tr>\n",
       "      <th>294474</th>\n",
       "      <td>945152</td>\n",
       "      <td>2017-01-12 00:51:57.078372</td>\n",
       "      <td>control</td>\n",
       "      <td>old_page</td>\n",
       "      <td>0</td>\n",
       "    </tr>\n",
       "    <tr>\n",
       "      <th>294475</th>\n",
       "      <td>734608</td>\n",
       "      <td>2017-01-22 11:45:03.439544</td>\n",
       "      <td>control</td>\n",
       "      <td>old_page</td>\n",
       "      <td>0</td>\n",
       "    </tr>\n",
       "    <tr>\n",
       "      <th>294476</th>\n",
       "      <td>697314</td>\n",
       "      <td>2017-01-15 01:20:28.957438</td>\n",
       "      <td>control</td>\n",
       "      <td>old_page</td>\n",
       "      <td>0</td>\n",
       "    </tr>\n",
       "  </tbody>\n",
       "</table>\n",
       "<p>290585 rows × 5 columns</p>\n",
       "</div>"
      ],
      "text/plain": [
       "        user_id                   timestamp      group landing_page  converted\n",
       "2        661590  2017-01-11 16:55:06.154213  treatment     new_page          0\n",
       "3        853541  2017-01-08 18:28:03.143765  treatment     new_page          0\n",
       "6        679687  2017-01-19 03:26:46.940749  treatment     new_page          1\n",
       "8        817355  2017-01-04 17:58:08.979471  treatment     new_page          1\n",
       "9        839785  2017-01-15 18:11:06.610965  treatment     new_page          1\n",
       "...         ...                         ...        ...          ...        ...\n",
       "294471   718310  2017-01-21 22:44:20.378320    control     old_page          0\n",
       "294473   751197  2017-01-03 22:28:38.630509    control     old_page          0\n",
       "294474   945152  2017-01-12 00:51:57.078372    control     old_page          0\n",
       "294475   734608  2017-01-22 11:45:03.439544    control     old_page          0\n",
       "294476   697314  2017-01-15 01:20:28.957438    control     old_page          0\n",
       "\n",
       "[290585 rows x 5 columns]"
      ]
     },
     "execution_count": 11,
     "metadata": {},
     "output_type": "execute_result"
    }
   ],
   "source": [
    "df2 = df2.append(df_control_old)\n",
    "df2"
   ]
  },
  {
   "cell_type": "markdown",
   "metadata": {},
   "source": [
    "double check group and landing_page match with each other "
   ]
  },
  {
   "cell_type": "code",
   "execution_count": 12,
   "metadata": {},
   "outputs": [
    {
     "data": {
      "text/plain": [
       "0"
      ]
     },
     "execution_count": 12,
     "metadata": {},
     "output_type": "execute_result"
    }
   ],
   "source": [
    "# Double Check all of the incorrect rows were removed from df2 \n",
    "df2[((df2['group'] == 'treatment') == (df2['landing_page'] == 'new_page')) == False].shape[0]"
   ]
  },
  {
   "cell_type": "markdown",
   "metadata": {},
   "source": [
    "find unique 'user_ids' in df2, see if there is duplicates needed to be removed later"
   ]
  },
  {
   "cell_type": "code",
   "execution_count": 13,
   "metadata": {},
   "outputs": [
    {
     "data": {
      "text/plain": [
       "290584"
      ]
     },
     "execution_count": 13,
     "metadata": {},
     "output_type": "execute_result"
    }
   ],
   "source": [
    "df2.user_id.nunique()"
   ]
  },
  {
   "cell_type": "markdown",
   "metadata": {
    "collapsed": true
   },
   "source": [
    " find one dupliate and list below  "
   ]
  },
  {
   "cell_type": "code",
   "execution_count": 14,
   "metadata": {},
   "outputs": [
    {
     "data": {
      "text/html": [
       "<div>\n",
       "<style scoped>\n",
       "    .dataframe tbody tr th:only-of-type {\n",
       "        vertical-align: middle;\n",
       "    }\n",
       "\n",
       "    .dataframe tbody tr th {\n",
       "        vertical-align: top;\n",
       "    }\n",
       "\n",
       "    .dataframe thead th {\n",
       "        text-align: right;\n",
       "    }\n",
       "</style>\n",
       "<table border=\"1\" class=\"dataframe\">\n",
       "  <thead>\n",
       "    <tr style=\"text-align: right;\">\n",
       "      <th></th>\n",
       "      <th>user_id</th>\n",
       "      <th>timestamp</th>\n",
       "      <th>group</th>\n",
       "      <th>landing_page</th>\n",
       "      <th>converted</th>\n",
       "    </tr>\n",
       "  </thead>\n",
       "  <tbody>\n",
       "    <tr>\n",
       "      <th>2893</th>\n",
       "      <td>773192</td>\n",
       "      <td>2017-01-14 02:55:59.590927</td>\n",
       "      <td>treatment</td>\n",
       "      <td>new_page</td>\n",
       "      <td>0</td>\n",
       "    </tr>\n",
       "  </tbody>\n",
       "</table>\n",
       "</div>"
      ],
      "text/plain": [
       "      user_id                   timestamp      group landing_page  converted\n",
       "2893   773192  2017-01-14 02:55:59.590927  treatment     new_page          0"
      ]
     },
     "execution_count": 14,
     "metadata": {},
     "output_type": "execute_result"
    }
   ],
   "source": [
    "df2[df2['user_id'].duplicated()]"
   ]
  },
  {
   "cell_type": "code",
   "execution_count": 15,
   "metadata": {},
   "outputs": [
    {
     "data": {
      "text/plain": [
       "290585"
      ]
     },
     "execution_count": 15,
     "metadata": {},
     "output_type": "execute_result"
    }
   ],
   "source": [
    "df2.shape[0]"
   ]
  },
  {
   "cell_type": "markdown",
   "metadata": {},
   "source": [
    "find the index of the rows that duplicates exist"
   ]
  },
  {
   "cell_type": "code",
   "execution_count": 16,
   "metadata": {},
   "outputs": [],
   "source": [
    "indexes=df2[df2['user_id'].duplicated()].index"
   ]
  },
  {
   "cell_type": "markdown",
   "metadata": {},
   "source": [
    "remove the row of duplicates"
   ]
  },
  {
   "cell_type": "code",
   "execution_count": 17,
   "metadata": {},
   "outputs": [
    {
     "data": {
      "text/plain": [
       "290585"
      ]
     },
     "execution_count": 17,
     "metadata": {},
     "output_type": "execute_result"
    }
   ],
   "source": [
    "df2.drop(indexes)\n",
    "df2.shape[0]"
   ]
  },
  {
   "cell_type": "markdown",
   "metadata": {},
   "source": [
    "#calculate the 'converted' success rate in population and saved it to a new variable named p_population, note 'converted'==1 means success"
   ]
  },
  {
   "cell_type": "code",
   "execution_count": 18,
   "metadata": {},
   "outputs": [
    {
     "data": {
      "text/plain": [
       "0.11959667567149027"
      ]
     },
     "execution_count": 18,
     "metadata": {},
     "output_type": "execute_result"
    }
   ],
   "source": [
    "p_population=df2['converted'].mean()\n",
    "p_population"
   ]
  },
  {
   "cell_type": "markdown",
   "metadata": {},
   "source": [
    "the probability of converted rate conditioned on group=='control' "
   ]
  },
  {
   "cell_type": "code",
   "execution_count": 19,
   "metadata": {},
   "outputs": [
    {
     "data": {
      "text/plain": [
       "0.1203863045004612"
      ]
     },
     "execution_count": 19,
     "metadata": {},
     "output_type": "execute_result"
    }
   ],
   "source": [
    "df2_control=df2.query(\"group == 'control'\")\n",
    "df2_control_converted=df2_control['converted'].mean()\n",
    "df2_control_converted"
   ]
  },
  {
   "cell_type": "markdown",
   "metadata": {},
   "source": [
    "the probability of converted rate conditioned on group =='treatment' "
   ]
  },
  {
   "cell_type": "code",
   "execution_count": 20,
   "metadata": {},
   "outputs": [
    {
     "data": {
      "text/plain": [
       "0.11880724790277405"
      ]
     },
     "execution_count": 20,
     "metadata": {},
     "output_type": "execute_result"
    }
   ],
   "source": [
    "df2_treatment=df2.query(\"group == 'treatment'\")\n",
    "df2_treatment_converted=df2_treatment['converted'].mean()\n",
    "df2_treatment_converted"
   ]
  },
  {
   "cell_type": "markdown",
   "metadata": {},
   "source": [
    "#calculate the difference of converted rate between these two groups and saved to a new variable named obs_diff"
   ]
  },
  {
   "cell_type": "code",
   "execution_count": 21,
   "metadata": {},
   "outputs": [
    {
     "data": {
      "text/plain": [
       "-0.0015790565976871451"
      ]
     },
     "execution_count": 21,
     "metadata": {},
     "output_type": "execute_result"
    }
   ],
   "source": [
    "obs_diff=df2_treatment_converted-df2_control_converted\n",
    "obs_diff"
   ]
  },
  {
   "cell_type": "markdown",
   "metadata": {},
   "source": [
    "how many individual received the new page"
   ]
  },
  {
   "cell_type": "code",
   "execution_count": 22,
   "metadata": {},
   "outputs": [
    {
     "data": {
      "text/html": [
       "<div>\n",
       "<style scoped>\n",
       "    .dataframe tbody tr th:only-of-type {\n",
       "        vertical-align: middle;\n",
       "    }\n",
       "\n",
       "    .dataframe tbody tr th {\n",
       "        vertical-align: top;\n",
       "    }\n",
       "\n",
       "    .dataframe thead th {\n",
       "        text-align: right;\n",
       "    }\n",
       "</style>\n",
       "<table border=\"1\" class=\"dataframe\">\n",
       "  <thead>\n",
       "    <tr style=\"text-align: right;\">\n",
       "      <th></th>\n",
       "      <th>user_id</th>\n",
       "      <th>timestamp</th>\n",
       "      <th>group</th>\n",
       "      <th>landing_page</th>\n",
       "      <th>converted</th>\n",
       "    </tr>\n",
       "  </thead>\n",
       "  <tbody>\n",
       "    <tr>\n",
       "      <th>2</th>\n",
       "      <td>661590</td>\n",
       "      <td>2017-01-11 16:55:06.154213</td>\n",
       "      <td>treatment</td>\n",
       "      <td>new_page</td>\n",
       "      <td>0</td>\n",
       "    </tr>\n",
       "    <tr>\n",
       "      <th>3</th>\n",
       "      <td>853541</td>\n",
       "      <td>2017-01-08 18:28:03.143765</td>\n",
       "      <td>treatment</td>\n",
       "      <td>new_page</td>\n",
       "      <td>0</td>\n",
       "    </tr>\n",
       "    <tr>\n",
       "      <th>6</th>\n",
       "      <td>679687</td>\n",
       "      <td>2017-01-19 03:26:46.940749</td>\n",
       "      <td>treatment</td>\n",
       "      <td>new_page</td>\n",
       "      <td>1</td>\n",
       "    </tr>\n",
       "    <tr>\n",
       "      <th>8</th>\n",
       "      <td>817355</td>\n",
       "      <td>2017-01-04 17:58:08.979471</td>\n",
       "      <td>treatment</td>\n",
       "      <td>new_page</td>\n",
       "      <td>1</td>\n",
       "    </tr>\n",
       "    <tr>\n",
       "      <th>9</th>\n",
       "      <td>839785</td>\n",
       "      <td>2017-01-15 18:11:06.610965</td>\n",
       "      <td>treatment</td>\n",
       "      <td>new_page</td>\n",
       "      <td>1</td>\n",
       "    </tr>\n",
       "    <tr>\n",
       "      <th>...</th>\n",
       "      <td>...</td>\n",
       "      <td>...</td>\n",
       "      <td>...</td>\n",
       "      <td>...</td>\n",
       "      <td>...</td>\n",
       "    </tr>\n",
       "    <tr>\n",
       "      <th>294462</th>\n",
       "      <td>677163</td>\n",
       "      <td>2017-01-03 19:41:51.902148</td>\n",
       "      <td>treatment</td>\n",
       "      <td>new_page</td>\n",
       "      <td>0</td>\n",
       "    </tr>\n",
       "    <tr>\n",
       "      <th>294465</th>\n",
       "      <td>925675</td>\n",
       "      <td>2017-01-07 20:38:26.346410</td>\n",
       "      <td>treatment</td>\n",
       "      <td>new_page</td>\n",
       "      <td>0</td>\n",
       "    </tr>\n",
       "    <tr>\n",
       "      <th>294468</th>\n",
       "      <td>643562</td>\n",
       "      <td>2017-01-02 19:20:05.460595</td>\n",
       "      <td>treatment</td>\n",
       "      <td>new_page</td>\n",
       "      <td>0</td>\n",
       "    </tr>\n",
       "    <tr>\n",
       "      <th>294472</th>\n",
       "      <td>822004</td>\n",
       "      <td>2017-01-04 03:36:46.071379</td>\n",
       "      <td>treatment</td>\n",
       "      <td>new_page</td>\n",
       "      <td>0</td>\n",
       "    </tr>\n",
       "    <tr>\n",
       "      <th>294477</th>\n",
       "      <td>715931</td>\n",
       "      <td>2017-01-16 12:40:24.467417</td>\n",
       "      <td>treatment</td>\n",
       "      <td>new_page</td>\n",
       "      <td>0</td>\n",
       "    </tr>\n",
       "  </tbody>\n",
       "</table>\n",
       "<p>145311 rows × 5 columns</p>\n",
       "</div>"
      ],
      "text/plain": [
       "        user_id                   timestamp      group landing_page  converted\n",
       "2        661590  2017-01-11 16:55:06.154213  treatment     new_page          0\n",
       "3        853541  2017-01-08 18:28:03.143765  treatment     new_page          0\n",
       "6        679687  2017-01-19 03:26:46.940749  treatment     new_page          1\n",
       "8        817355  2017-01-04 17:58:08.979471  treatment     new_page          1\n",
       "9        839785  2017-01-15 18:11:06.610965  treatment     new_page          1\n",
       "...         ...                         ...        ...          ...        ...\n",
       "294462   677163  2017-01-03 19:41:51.902148  treatment     new_page          0\n",
       "294465   925675  2017-01-07 20:38:26.346410  treatment     new_page          0\n",
       "294468   643562  2017-01-02 19:20:05.460595  treatment     new_page          0\n",
       "294472   822004  2017-01-04 03:36:46.071379  treatment     new_page          0\n",
       "294477   715931  2017-01-16 12:40:24.467417  treatment     new_page          0\n",
       "\n",
       "[145311 rows x 5 columns]"
      ]
     },
     "execution_count": 22,
     "metadata": {},
     "output_type": "execute_result"
    }
   ],
   "source": [
    "prob_new=df2.query(\"landing_page=='new_page'\")\n",
    "prob_new"
   ]
  },
  {
   "cell_type": "code",
   "execution_count": 23,
   "metadata": {},
   "outputs": [
    {
     "data": {
      "text/plain": [
       "145311"
      ]
     },
     "execution_count": 23,
     "metadata": {},
     "output_type": "execute_result"
    }
   ],
   "source": [
    "probability_new=df2.query(\"landing_page=='new_page'\").shape[0]\n",
    "probability_new"
   ]
  },
  {
   "cell_type": "code",
   "execution_count": 24,
   "metadata": {},
   "outputs": [
    {
     "data": {
      "text/plain": [
       "290585"
      ]
     },
     "execution_count": 24,
     "metadata": {},
     "output_type": "execute_result"
    }
   ],
   "source": [
    "df2.shape[0]"
   ]
  },
  {
   "cell_type": "code",
   "execution_count": 25,
   "metadata": {},
   "outputs": [
    {
     "data": {
      "text/plain": [
       "0.5000636646764286"
      ]
     },
     "execution_count": 25,
     "metadata": {},
     "output_type": "execute_result"
    }
   ],
   "source": [
    "probability_new_page=probability_new/df2.shape[0]\n",
    "probability_new_page"
   ]
  },
  {
   "cell_type": "markdown",
   "metadata": {},
   "source": [
    "#from the calculation of conversion rate for control and treatment group, we can see that conversion rate for control group is higher than conversion rate for treatment group. So the new treatment group users cannot lead to more conversions."
   ]
  },
  {
   "cell_type": "markdown",
   "metadata": {},
   "source": [
    "##if now I want to assume that the old page is better unless the new page proves to be definitely better at a type I error rate of 5%, my null hypothesis would be conversion rate of new page is smaller or equal than the conversion rate of old page. My alternative hypothesis would be conversion rate of new page is greater than conversion rate of old page. "
   ]
  },
  {
   "cell_type": "markdown",
   "metadata": {},
   "source": [
    "#                                  𝐻0: 𝑝𝑛𝑒𝑤 <= 𝑝𝑜𝑙𝑑\n",
    "#                                  𝐻1: 𝑝𝑛𝑒𝑤 > 𝑝𝑜𝑙𝑑"
   ]
  },
  {
   "cell_type": "markdown",
   "metadata": {},
   "source": [
    "## Null hypothesis testing "
   ]
  },
  {
   "cell_type": "markdown",
   "metadata": {},
   "source": [
    "#conversion rate of new_page under the null"
   ]
  },
  {
   "cell_type": "code",
   "execution_count": 26,
   "metadata": {},
   "outputs": [
    {
     "data": {
      "text/plain": [
       "0.11959667567149027"
      ]
     },
     "execution_count": 26,
     "metadata": {},
     "output_type": "execute_result"
    }
   ],
   "source": [
    "pnew=df2['converted'].mean()\n",
    "pnew"
   ]
  },
  {
   "cell_type": "markdown",
   "metadata": {},
   "source": [
    "#conversion rate of old_page under the null"
   ]
  },
  {
   "cell_type": "code",
   "execution_count": 27,
   "metadata": {},
   "outputs": [
    {
     "data": {
      "text/plain": [
       "0.11959667567149027"
      ]
     },
     "execution_count": 27,
     "metadata": {},
     "output_type": "execute_result"
    }
   ],
   "source": [
    "pold=df2['converted'].mean()\n",
    "pold"
   ]
  },
  {
   "cell_type": "markdown",
   "metadata": {},
   "source": [
    "#nnew is the number of individuals in the treatment group"
   ]
  },
  {
   "cell_type": "code",
   "execution_count": 28,
   "metadata": {},
   "outputs": [
    {
     "data": {
      "text/plain": [
       "145311"
      ]
     },
     "execution_count": 28,
     "metadata": {},
     "output_type": "execute_result"
    }
   ],
   "source": [
    "nnew=df2_treatment.shape[0]\n",
    "nnew"
   ]
  },
  {
   "cell_type": "markdown",
   "metadata": {},
   "source": [
    "#nold is the number of individuals in the control group"
   ]
  },
  {
   "cell_type": "code",
   "execution_count": 29,
   "metadata": {},
   "outputs": [
    {
     "data": {
      "text/plain": [
       "145274"
      ]
     },
     "execution_count": 29,
     "metadata": {},
     "output_type": "execute_result"
    }
   ],
   "source": [
    "nold=df2_control.shape[0]\n",
    "nold"
   ]
  },
  {
   "cell_type": "markdown",
   "metadata": {},
   "source": [
    "#Simulate sample for treatment group; saved the conversion rate to new_page_converted"
   ]
  },
  {
   "cell_type": "code",
   "execution_count": 30,
   "metadata": {},
   "outputs": [
    {
     "data": {
      "text/plain": [
       "0.5004163483838113"
      ]
     },
     "execution_count": 30,
     "metadata": {},
     "output_type": "execute_result"
    }
   ],
   "source": [
    "new_page_converted=np.random.choice([0,1],size=nnew).mean()\n",
    "new_page_converted"
   ]
  },
  {
   "cell_type": "markdown",
   "metadata": {},
   "source": [
    "#simulate sample for the control group; saved  the conversion rate to old_page_converted"
   ]
  },
  {
   "cell_type": "code",
   "execution_count": 31,
   "metadata": {},
   "outputs": [
    {
     "data": {
      "text/plain": [
       "0.5012115037790658"
      ]
     },
     "execution_count": 31,
     "metadata": {},
     "output_type": "execute_result"
    }
   ],
   "source": [
    "old_page_converted=np.random.choice([0,1],size=nold).mean()\n",
    "old_page_converted"
   ]
  },
  {
   "cell_type": "markdown",
   "metadata": {},
   "source": [
    "find the 'converted' rate difference between two simulated sample"
   ]
  },
  {
   "cell_type": "code",
   "execution_count": 32,
   "metadata": {},
   "outputs": [],
   "source": [
    "p_diff=new_page_converted-old_page_converted"
   ]
  },
  {
   "cell_type": "markdown",
   "metadata": {},
   "source": [
    "##now, using the same process above but this time, we want to use bootstaping the sample for 100000 times; save the result of each bootstrap in the new list called p_difffs"
   ]
  },
  {
   "cell_type": "code",
   "execution_count": 33,
   "metadata": {},
   "outputs": [
    {
     "data": {
      "text/plain": [
       "[0.00030660428843071186,\n",
       " 0.0004919692170510803,\n",
       " 0.0002446068196242379,\n",
       " -0.004676652292652905,\n",
       " -0.001070243017188055,\n",
       " -0.004897008085398724,\n",
       " -0.003768341702715672,\n",
       " -0.0017931273329099828,\n",
       " -0.002171317382941851,\n",
       " -0.0003406223866945779,\n",
       " -0.0008362708709339639,\n",
       " -0.0016003109751549505,\n",
       " 0.0006776969610468031,\n",
       " -0.00034073981969040545,\n",
       " -0.0008362866455154938,\n",
       " 0.00222621572160131,\n",
       " -0.002653370546448486,\n",
       " -0.002357225658259743,\n",
       " 0.002969515803929179,\n",
       " 0.0022609261487217536,\n",
       " 0.00032718831723971276,\n",
       " 0.0014693255767345703,\n",
       " 0.00139371701261376,\n",
       " -0.0024536198152870226,\n",
       " -0.0007539102174600743,\n",
       " -0.0002237072991844724,\n",
       " 0.0012490030858830492,\n",
       " -0.0020272361922041293,\n",
       " -0.003734071211147161,\n",
       " 0.0001684724361187273,\n",
       " -0.0010084926834923458,\n",
       " 0.0002447032198447663,\n",
       " -0.0019445267452050108,\n",
       " -0.0006847294874051113,\n",
       " -0.00045750592504151255,\n",
       " -0.0015657600465813215,\n",
       " 0.001214764143477709,\n",
       " 0.0019444759159977787,\n",
       " 0.0011529244204865896,\n",
       " 0.0014624525489229656,\n",
       " 0.00033350572923473987,\n",
       " 0.002047946417665425,\n",
       " -3.7439713953701936e-05,\n",
       " 0.0032243208668343293,\n",
       " -0.00321075008433952,\n",
       " -0.001104515261487804,\n",
       " 0.0018685623766339088,\n",
       " 9.28183009845096e-05,\n",
       " 0.0010843396190676202,\n",
       " 0.0021644776570247104,\n",
       " -0.0015384659939700063,\n",
       " 0.0011596484661391404,\n",
       " -0.00045807731543967556,\n",
       " -0.0006641945350719936,\n",
       " 0.0032247415223420894,\n",
       " 0.0030943555580202897,\n",
       " -0.0008157096276316667,\n",
       " 0.0019030169049870649,\n",
       " -0.000711944667108666,\n",
       " 0.0017579752175065355,\n",
       " 0.0019931742756582604,\n",
       " 0.0010771931651759603,\n",
       " -0.0015108582024592199,\n",
       " -0.0009396502305749621,\n",
       " 0.001090918188023704,\n",
       " 0.003224688940403675,\n",
       " 0.0031006011080326745,\n",
       " -0.002838979104717143,\n",
       " 0.003548161183098031,\n",
       " -0.0018689900430668427,\n",
       " -0.0010014180915833282,\n",
       " 0.002521927685163461,\n",
       " 0.0035687206736691457,\n",
       " -0.001462415741566081,\n",
       " 0.0009391314221153246,\n",
       " -7.89881142599369e-05,\n",
       " -0.0006161867515369623,\n",
       " 0.0013937748527460547,\n",
       " -0.0008635579126201609,\n",
       " -0.0038644852191695445,\n",
       " -0.0014074648209680407,\n",
       " -0.0010768198334129009,\n",
       " 8.584887295248755e-05,\n",
       " -0.0012423596658694969,\n",
       " 0.0035821529903926064,\n",
       " -0.0008500169265570623,\n",
       " -6.54050626461844e-05,\n",
       " 0.0011872965704694538,\n",
       " 0.0006500190602848344,\n",
       " -0.002274616116943684,\n",
       " 0.0005817777941971025,\n",
       " 0.0031150868162569956,\n",
       " -0.001469081947086337,\n",
       " 0.00035489250897102753,\n",
       " 0.0021376305508903903,\n",
       " 0.0011320178891216504,\n",
       " 0.00035462959927867743,\n",
       " -0.0018410912981631222,\n",
       " -0.0024469168024098265,\n",
       " -0.001070085271372645,\n",
       " 0.0007397277317476858,\n",
       " -0.00413982698713905,\n",
       " -0.0008981982304892,\n",
       " 0.0033550468610250017,\n",
       " 0.0027563905961764945,\n",
       " 0.0001824919178218254,\n",
       " 0.0031973878768672415,\n",
       " -0.0018684957728452023,\n",
       " 0.0018067927628941938,\n",
       " 5.84093436447608e-05,\n",
       " 0.0025159082374863195,\n",
       " -0.0011873403887515122,\n",
       " 0.0012217020223466712,\n",
       " 0.002639698105539212,\n",
       " 0.001173164913964242,\n",
       " -0.0012355988128600615,\n",
       " 0.00015472638049562892,\n",
       " -0.003727182408754137,\n",
       " -0.001022520928851911,\n",
       " 0.001765463453998195,\n",
       " -0.00035429658033503397,\n",
       " 0.0008297150874845838,\n",
       " -9.259395138039306e-05,\n",
       " 0.0004096366072777191,\n",
       " -0.0030520955488133605,\n",
       " -0.0022674889430963074,\n",
       " 0.0037950871504355277,\n",
       " -0.002377720297773278,\n",
       " -0.001958207949770696,\n",
       " -0.0031209537763124406,\n",
       " 0.0015523294825890432,\n",
       " -0.0009395888849799694,\n",
       " 0.0015796883862577715,\n",
       " 0.00027195345417402317,\n",
       " -0.00031315306095502926,\n",
       " -0.000980735909822561,\n",
       " -0.000691495598608427,\n",
       " -0.0009597767965191517,\n",
       " -0.001744711162986079,\n",
       " 6.547867735995361e-05,\n",
       " -0.001531252936289751,\n",
       " 0.0006295244207711326,\n",
       " 0.0006565362836459254,\n",
       " -0.0007673074795579993,\n",
       " -0.0008912901480519486,\n",
       " -0.0019174132239158093,\n",
       " 0.002068455079029252,\n",
       " -0.0008086998867801176,\n",
       " 0.00032022590013275343,\n",
       " 0.0005542278428186109,\n",
       " 0.00246749206756236,\n",
       " 0.0021441197305511195,\n",
       " 0.0017859247916174326,\n",
       " 0.00032702881869300926,\n",
       " -0.0012285855665459255,\n",
       " 0.0018204739674597126,\n",
       " -0.003266300439036085,\n",
       " 0.00014860001621036512,\n",
       " -0.00038893689820407307,\n",
       " 0.001070351686527582,\n",
       " -0.0006022321208912218,\n",
       " 0.00244631386284877,\n",
       " 0.0018479310240802627,\n",
       " 0.00023752521679010208,\n",
       " 0.002721583768835578,\n",
       " 0.0012698622935033432,\n",
       " 0.005193121424424463,\n",
       " -0.0003476584185152509,\n",
       " 0.0027363902268845997,\n",
       " 0.00038903329842460144,\n",
       " -0.0003128042674298004,\n",
       " 0.0026533722991797792,\n",
       " 0.0011250659884024516,\n",
       " -0.003114904532203644,\n",
       " 0.002343754781447993,\n",
       " -0.00017568724653038714,\n",
       " 0.0005192860551690437,\n",
       " 0.0009260251134102782,\n",
       " -0.0008912743734704187,\n",
       " 0.0018000511899287641,\n",
       " 0.0009121651302538281,\n",
       " 0.000815967279130192,\n",
       " 0.0013731399947298772,\n",
       " -0.0024672379215264773,\n",
       " -0.00018925101810002287,\n",
       " -0.002426306482631646,\n",
       " -0.0001479024291600184,\n",
       " 0.0008154064051197896,\n",
       " -0.001551819437785873,\n",
       " 0.0025571043388047943,\n",
       " -0.0009187366882847381,\n",
       " -0.0014416581923600846,\n",
       " 0.0020406001524076456,\n",
       " -0.0032587578678746065,\n",
       " -0.0010978455505050722,\n",
       " -0.0023707578806663743,\n",
       " -0.0014209654942116678,\n",
       " 0.0007807871200261607,\n",
       " 0.000657517813164088,\n",
       " -4.4686073528366066e-05,\n",
       " 0.0010357236377774859,\n",
       " 0.0010014706735217982,\n",
       " -0.00045064691908025534,\n",
       " -5.180448371944202e-05,\n",
       " -0.00021672209657080943,\n",
       " -0.00034740076701683664,\n",
       " 0.0015655760097966764,\n",
       " -0.003589441415518091,\n",
       " 0.0004231250114022922,\n",
       " -0.0017723224599595078,\n",
       " -0.0011799573161367927,\n",
       " 0.00102871039146335,\n",
       " -0.00018245511046488527,\n",
       " -0.0009115604379613673,\n",
       " 0.0019925748415596245,\n",
       " -0.004270900022123603,\n",
       " 0.00018930535276978633,\n",
       " -0.00023034721373543787,\n",
       " 0.0003478529716877121,\n",
       " -0.0009188418521617336,\n",
       " -0.0029082036530541644,\n",
       " -0.00010680448079336546,\n",
       " -0.0006572005688020299,\n",
       " -0.000540324041380047,\n",
       " 0.0004300190719892516,\n",
       " 0.0013040188575385026,\n",
       " -0.0003198367937880531,\n",
       " -2.4168648508071655e-05,\n",
       " 0.00139370123803223,\n",
       " 0.0013043851783764437,\n",
       " 0.0005883861595850082,\n",
       " -0.003279420769591368,\n",
       " -0.0010217935453697424,\n",
       " -0.000595336307572969,\n",
       " 0.0010430120629029704,\n",
       " -0.0023504244924307804,\n",
       " -0.0009256622980348128,\n",
       " -0.002075156339175155,\n",
       " -8.620993559660395e-05,\n",
       " -0.000230436603030848,\n",
       " 0.0020335834006309783,\n",
       " 0.0009256920944665792,\n",
       " 0.0007877916026839404,\n",
       " 0.0024397282829675127,\n",
       " 0.0026464607112799965,\n",
       " -0.0005675129301144222,\n",
       " -0.0012289659092341587,\n",
       " 0.0008640942483925107,\n",
       " 0.0012696291802428705,\n",
       " 0.002853052921089949,\n",
       " -0.0016350091331563954,\n",
       " 0.0010702500281131178,\n",
       " 7.90810090178784e-05,\n",
       " -0.0009465635712059273,\n",
       " 0.00043702004918433346,\n",
       " 0.004284817845412403,\n",
       " -0.004312089112516959,\n",
       " -0.0004713588972728999,\n",
       " -0.0016348198381778145,\n",
       " 0.00020260621464718298,\n",
       " 0.0018759664820240385,\n",
       " 0.0017652303407376113,\n",
       " -0.0012424069896140866,\n",
       " 0.000863834844162692,\n",
       " -0.004064072946321773,\n",
       " -0.0021570717989033428,\n",
       " -0.001022017894973859,\n",
       " -0.002494999953390087,\n",
       " -0.0006363361029878556,\n",
       " 0.0009463269524827567,\n",
       " -0.004118983554100342,\n",
       " -0.0001547666933151559,\n",
       " -0.0019376747501688718,\n",
       " -0.0038855179471868895,\n",
       " 0.0003059733051690161,\n",
       " 0.0005748714644912001,\n",
       " -0.0008642870488335674,\n",
       " -0.0011802447640670288,\n",
       " 0.000664436411988989,\n",
       " -0.0042983097549995075,\n",
       " 0.0007468198509695823,\n",
       " -0.00025783932498163464,\n",
       " -0.0013732469113380552,\n",
       " -0.00230932829679531,\n",
       " -0.00114618460025262,\n",
       " -0.0009118584022794196,\n",
       " 0.0006916182897982459,\n",
       " 0.0012835750472320884,\n",
       " 0.0002373306636177519,\n",
       " -0.0014416722142103766,\n",
       " 0.002453798593877843,\n",
       " 0.00041004499366648073,\n",
       " 0.0014077435052419762,\n",
       " 0.0012077771881327526,\n",
       " 0.00021054139761583768,\n",
       " -0.0010567107947813126,\n",
       " -0.0005884685379553001,\n",
       " 0.0005332494494710849,\n",
       " 0.001063859001404266,\n",
       " 0.003066342885583273,\n",
       " -0.0021787302519883367,\n",
       " -0.0006711849958794813,\n",
       " -0.0005605575239326366,\n",
       " -0.0013797658874306062,\n",
       " 0.001765267148094607,\n",
       " -0.0013384015239090163,\n",
       " 0.00014078577170018036,\n",
       " 0.001503655661166614,\n",
       " 0.0001411170379125859,\n",
       " -0.002515853902816667,\n",
       " 0.0018749796943120511,\n",
       " 0.0011255953132496832,\n",
       " -0.0008018917100259815,\n",
       " -0.0035480910738467375,\n",
       " 0.0013112073769808719,\n",
       " -0.0017727220826918577,\n",
       " -3.075773385191605e-05,\n",
       " 0.0015938253009568082,\n",
       " 0.00018215539341559506,\n",
       " -0.000822712357558153,\n",
       " -0.006067387625128595,\n",
       " -0.0003754449886169686,\n",
       " 0.0001618518016118231,\n",
       " -0.0019030098940619466,\n",
       " 0.00023705548480634775,\n",
       " 0.0029765097701991983,\n",
       " -0.0004369131325761555,\n",
       " -0.0016897339514188592,\n",
       " -0.002095717582477452,\n",
       " -0.0009531228601178943,\n",
       " -0.0020203561534674064,\n",
       " 0.0008157324131383148,\n",
       " 0.0026254963397827624,\n",
       " 0.002590768385349551,\n",
       " -0.0001892369962497864,\n",
       " -0.0012908073849564605,\n",
       " -0.0013663949163019717,\n",
       " -0.0016759668630204616,\n",
       " 0.0015934397000746947,\n",
       " -0.0033897064589381576,\n",
       " -0.0005748118716275563,\n",
       " 0.0018963559576606337,\n",
       " -0.001365961991675213,\n",
       " -0.0012005869159590898,\n",
       " -0.0010562953974674327,\n",
       " 0.0015862371587820334,\n",
       " 0.0012770052419323608,\n",
       " -0.0004509799380238988,\n",
       " 0.0011529051404424728,\n",
       " 0.0008226948302452741,\n",
       " -0.0012355111762958337,\n",
       " 0.0010217024033430944,\n",
       " 0.0006918075847766603,\n",
       " 0.0009122878214435914,\n",
       " -0.0010703218900957046,\n",
       " 0.0013115035885675752,\n",
       " 0.0006230142083351042,\n",
       " -0.0006982932589748025,\n",
       " -0.001435144474461525,\n",
       " 2.4112561107070274e-05,\n",
       " -0.0016757495243414633,\n",
       " -0.0005403257941114514,\n",
       " -0.0032038051945454393,\n",
       " -0.001655323241347817,\n",
       " -0.0007057289135279365,\n",
       " -0.0004989141068452163,\n",
       " 0.0007603538261073961,\n",
       " -0.0006849503315466965,\n",
       " -0.00029239200628655704,\n",
       " -0.00047844926376350294,\n",
       " 0.0036927103530882133,\n",
       " 0.0031075424923643347,\n",
       " 0.0005813168258698154,\n",
       " 0.000395843227910031,\n",
       " -0.0007948626891303157,\n",
       " 0.001221710786003083,\n",
       " -0.0002717641591954978,\n",
       " -0.0031969286612713033,\n",
       " 0.00283924551987208,\n",
       " 0.0026118466843801924,\n",
       " 0.003382694965355315,\n",
       " -0.0006708011477286613,\n",
       " -0.00046490477223781745,\n",
       " -0.0010905904272738853,\n",
       " 0.003066281539988336,\n",
       " -0.00260535575198817,\n",
       " 0.0009737296744335433,\n",
       " 0.0002996506349802197,\n",
       " -0.001145928701485277,\n",
       " 0.0016621822473091297,\n",
       " 0.00029255325756455397,\n",
       " 0.0016282500328781424,\n",
       " 0.002859736653922973,\n",
       " 0.001979217892281282,\n",
       " 0.00032006289612351857,\n",
       " -0.001187208933905337,\n",
       " -0.0015384432084634136,\n",
       " -0.0008495892601241284,\n",
       " 0.0018343584888542153,\n",
       " 0.00015458090379927292,\n",
       " 0.0010705812943255233,\n",
       " -0.0004921287155977838,\n",
       " -0.001992620412573032,\n",
       " 0.0014557197396140586,\n",
       " 0.0012832455337510318,\n",
       " 0.0022953105678235053,\n",
       " -0.0017310124311076258,\n",
       " -0.0038437977792149525,\n",
       " -0.00046449112765512,\n",
       " 0.001544835987903559,\n",
       " -0.002164407547773417,\n",
       " -0.0013526225697095828,\n",
       " 0.0006021585061773416,\n",
       " -0.0025083902045628936,\n",
       " 0.002123321868525707,\n",
       " 0.001593522078444931,\n",
       " -0.001379867545845015,\n",
       " -0.0026808416249192724,\n",
       " -0.0026188792107385006,\n",
       " -0.0002308695276574957,\n",
       " 0.0007056447824264067,\n",
       " 3.8061933558930505e-05,\n",
       " -0.0014621966501557893,\n",
       " 0.00017589056335903797,\n",
       " -0.0013452447552887437,\n",
       " 0.0005953503294232609,\n",
       " 0.003108313694128506,\n",
       " 0.005172451511782639,\n",
       " 0.00031984029925069546,\n",
       " -0.0011114917004449443,\n",
       " -0.0018068874103834287,\n",
       " 0.0007186406690606884,\n",
       " 0.001648483515430621,\n",
       " 0.0027635721046937456,\n",
       " -0.0015868663893123802,\n",
       " 0.0020751931465320395,\n",
       " -0.0010702219844125893,\n",
       " -0.0010013076695125078,\n",
       " -0.0017793619972428232,\n",
       " -0.001104963960696037,\n",
       " -0.0010360251075579585,\n",
       " -0.0003338878246542665,\n",
       " 0.0026668414232602355,\n",
       " -0.0013387818665972495,\n",
       " -0.0005058537384454165,\n",
       " -0.0002304260866431429,\n",
       " 0.002983908617395503,\n",
       " 0.002350566463664605,\n",
       " -0.0033343979811585878,\n",
       " -0.0021300774633412622,\n",
       " 0.0036238100600383127,\n",
       " 0.0017656650180956635,\n",
       " -0.00033379317716503154,\n",
       " 0.00036116434995270286,\n",
       " -0.0007740052342413151,\n",
       " 0.00279791270551355,\n",
       " 0.0005813571386893424,\n",
       " 0.0004857026342632298,\n",
       " -0.002529724402360767,\n",
       " -0.00292863519424158,\n",
       " 0.0005745699947106164,\n",
       " 0.002199293248021983,\n",
       " 0.0009532350349199525,\n",
       " 0.00025826348595192616,\n",
       " 0.0033831033517440767,\n",
       " -0.0014693623840915104,\n",
       " -0.0010153394203346044,\n",
       " -0.0045528273699743105,\n",
       " 0.00026515579380759213,\n",
       " -0.0009257481818676361,\n",
       " 0.0002169937699195712,\n",
       " 0.0008841962760988142,\n",
       " 1.6501633425702877e-05,\n",
       " 0.0012283664751355783,\n",
       " 0.003320574805359078,\n",
       " -0.00628033931248434,\n",
       " 0.0008360745650304313,\n",
       " 0.0011253797273019783,\n",
       " 0.0005333668824670235,\n",
       " -0.0017653319991519645,\n",
       " -0.002460569963274928,\n",
       " 0.001366238923217744,\n",
       " -0.0006229546154714605,\n",
       " 0.0010354729972040788,\n",
       " 0.0007465797267838248,\n",
       " 0.0003546068137720293,\n",
       " 0.00276294637962593,\n",
       " -0.0018141092317200957,\n",
       " -0.0001687704004367241,\n",
       " -0.00014083309544482558,\n",
       " -0.0014969456373643553,\n",
       " 0.000994688787737008,\n",
       " 0.0012010969607622601,\n",
       " 0.0011113777729117036,\n",
       " 0.0011460145853181558,\n",
       " -3.5916306242445017e-06,\n",
       " -0.00040944380683666237,\n",
       " 0.0009327491590627734,\n",
       " -0.0014281662827730357,\n",
       " 0.0016417016296458309,\n",
       " 0.00040280564501693483,\n",
       " -0.0006575020385826136,\n",
       " 0.0008702118490213628,\n",
       " -0.0004225027917970636,\n",
       " 0.0014142607286032338,\n",
       " -0.002164465387905712,\n",
       " 0.00019605218392892976,\n",
       " -0.0011664356101178663,\n",
       " 0.0008980019245855564,\n",
       " 0.0005266971714842361,\n",
       " 0.0023642792173933502,\n",
       " 0.0022060909083883584,\n",
       " 0.0015866788470652593,\n",
       " -0.003217705490521361,\n",
       " -0.001180760067064024,\n",
       " -0.00019610651859874872,\n",
       " 0.0012079472030671612,\n",
       " -0.004195054839279622,\n",
       " -0.0021099175955026084,\n",
       " -0.0027977882615924377,\n",
       " 0.0005474494624962967,\n",
       " 0.0027701541791124162,\n",
       " 0.0020684603372231325,\n",
       " -0.0031278022658861038,\n",
       " 0.004580408870515917,\n",
       " 0.0009258200438502784,\n",
       " -0.0013040276211949142,\n",
       " -0.0014490430177060976,\n",
       " 0.004084832248259063,\n",
       " -0.0022889107774582973,\n",
       " 0.0003201628018065783,\n",
       " -0.0030793510413364422,\n",
       " -0.0003334864491906231,\n",
       " 0.001724460153120777,\n",
       " 0.002440194509488569,\n",
       " -0.0029148803749620145,\n",
       " -0.0015107758240889835,\n",
       " 0.0014623859451342591,\n",
       " 5.152229398297514e-05,\n",
       " 0.0001961363150305706,\n",
       " -0.0007398521756687981,\n",
       " 0.0024539370596490806,\n",
       " -0.0015860268310281533,\n",
       " -0.0018755843866044564,\n",
       " -0.001669183224504267,\n",
       " 0.0004852066113103515,\n",
       " 0.0012973263610490116,\n",
       " -0.0005402276411595741,\n",
       " -0.00048523640774211785,\n",
       " 0.002185137053278774,\n",
       " 0.004208488908734487,\n",
       " 0.003575665563463226,\n",
       " -0.0020404757084865888,\n",
       " 0.0006366340673057969,\n",
       " 0.0021987130939674637,\n",
       " 0.0034172897122110024,\n",
       " -0.000429796475116373,\n",
       " 0.0014281154535658591,\n",
       " -0.0011392432159209598,\n",
       " -0.002474417677312435,\n",
       " -0.000643470287760517,\n",
       " -0.002137001320360099,\n",
       " -0.0010085242326555166,\n",
       " -0.0016754760982613526,\n",
       " 0.0024121678152013715,\n",
       " -0.0008838492353049898,\n",
       " -0.0030321687942352904,\n",
       " -0.000691481576758135,\n",
       " -0.000457586550680511,\n",
       " 0.0027013976100278003,\n",
       " -0.002171291091972616,\n",
       " -0.0016348286018342817,\n",
       " 0.0027361676300116655,\n",
       " 0.0009327193626310626,\n",
       " 0.0032728071460096375,\n",
       " 0.001084227444265562,\n",
       " 0.001131988092689884,\n",
       " 6.50247199578402e-05,\n",
       " 1.0319181739326666e-05,\n",
       " 0.0008293697994218863,\n",
       " -7.874273188035463e-05,\n",
       " -0.0007398381538185062,\n",
       " -9.954409936835384e-05,\n",
       " -0.0008365285224324337,\n",
       " -0.0024880638272524735,\n",
       " 0.002116383989656634,\n",
       " 0.0005267234624534711,\n",
       " -0.0004297509041030212,\n",
       " 7.220973393762264e-05,\n",
       " -0.00077437856600443,\n",
       " -0.0018205370657859432,\n",
       " 0.0013248184722952083,\n",
       " -0.0019787253747909905,\n",
       " -0.0009947080677810138,\n",
       " -0.0022744005309960347,\n",
       " 0.0013111775805491055,\n",
       " 0.0010638011612719156,\n",
       " 0.0015658301558325594,\n",
       " -0.00195134719107809,\n",
       " -0.0010218426218456256,\n",
       " 0.0014009213066376591,\n",
       " 0.0038646902887295442,\n",
       " -0.004477721839731552,\n",
       " 0.002350238702914842,\n",
       " 0.0012424560660900807,\n",
       " 0.0023369255719185023,\n",
       " 0.0025159134956802,\n",
       " -0.0018204827311161242,\n",
       " 0.0008631670535440561,\n",
       " -0.0005744192598203801,\n",
       " 0.0012972580045289561,\n",
       " 0.0008502728253242942,\n",
       " -0.0021163629568813347,\n",
       " -0.003485900804599207,\n",
       " 0.0018482675484865485,\n",
       " 0.0009740293914828335,\n",
       " -0.00019628179172703764,\n",
       " -0.004305273924837705,\n",
       " 0.0006297487703753601,\n",
       " 0.0009049748580801653,\n",
       " -0.001111537271458296,\n",
       " -0.0015107793295515703,\n",
       " 1.706601289863663e-05,\n",
       " 0.001318040091972894,\n",
       " -0.001483274949186375,\n",
       " 0.00017575385031903812,\n",
       " -0.00038849345718966477,\n",
       " 2.4270306922480334e-05,\n",
       " -0.000994396081612836,\n",
       " -0.0005470358179137103,\n",
       " -0.0011254358147029797,\n",
       " 0.0004708593688573792,\n",
       " -0.0031624741329182027,\n",
       " -0.001448874755503038,\n",
       " 0.0014624297634163175,\n",
       " -0.002253926924257854,\n",
       " -0.00076758090563811,\n",
       " 0.003004007139639331,\n",
       " -0.0010770880012990203,\n",
       " 0.0029355958586173014,\n",
       " -8.556843594731411e-05,\n",
       " 0.0007399257903826784,\n",
       " 9.974916892840913e-05,\n",
       " -0.0007744276424803687,\n",
       " 0.0036309687830489157,\n",
       " 0.0019515767988760868,\n",
       " -0.0014624087306410183,\n",
       " 0.0005053401881797148,\n",
       " 0.00015478597335916167,\n",
       " 0.0013659900353757415,\n",
       " -0.0007534597655205477,\n",
       " -0.00272865485528212,\n",
       " -0.002247329075257598,\n",
       " -0.0002094967697715,\n",
       " 0.0005336490722034903,\n",
       " -0.001744590224527609,\n",
       " -0.0017311070785969163,\n",
       " 0.0008910587875227138,\n",
       " 0.00025802511449757315,\n",
       " -0.0021375411615949247,\n",
       " -0.0021853403701075913,\n",
       " -0.0028460869985204584,\n",
       " 0.0008288071726803015,\n",
       " -0.0001749335720788725,\n",
       " 0.0019306019109912032,\n",
       " -0.00026500681164853823,\n",
       " 0.0013112371734125827,\n",
       " -0.0011456272317046934,\n",
       " -0.0030593734575511955,\n",
       " 0.0007603871280018604,\n",
       " 0.0013590661783570157,\n",
       " -0.00012731138942584375,\n",
       " -0.001214669495988474,\n",
       " -5.874236258840426e-05,\n",
       " -0.001572436768489227,\n",
       " 0.0015451024030584959,\n",
       " -0.0032106992551323432,\n",
       " -0.0027216398562366906,\n",
       " 0.0016758669573373464,\n",
       " 0.0022610891527309884,\n",
       " 0.00040262160823228976,\n",
       " 0.0002922552932465017,\n",
       " 0.0024674254637736537,\n",
       " 0.002550229558262007,\n",
       " -3.764478351370171e-05,\n",
       " 0.003389748524488978,\n",
       " 0.0014826001476426764,\n",
       " -0.0009673106040242185,\n",
       " 0.002990282116791587,\n",
       " -0.0005956027227279614,\n",
       " 0.00011324984217198075,\n",
       " 0.0010565390271157216,\n",
       " -0.0003065499537608929,\n",
       " 0.00200643482471613,\n",
       " -0.001021763748937976,\n",
       " -0.002103020029453173,\n",
       " -0.0009049993963181624,\n",
       " 0.000780965898616981,\n",
       " -0.001373586941206928,\n",
       " -0.00177941808464388,\n",
       " 0.001648166271068452,\n",
       " 0.0006778757396377344,\n",
       " -0.0020343633660515614,\n",
       " -0.0008842225670680492,\n",
       " 0.0015659230505906119,\n",
       " 0.00022387906685006342,\n",
       " -0.00010656786207019486,\n",
       " 0.0027769115266593203,\n",
       " -0.0005333756461233796,\n",
       " 0.00149731371093359,\n",
       " -0.0027222778504235046,\n",
       " 0.0013866757225990956,\n",
       " 0.0021027641306859413,\n",
       " -0.0007540434250374872,\n",
       " -0.00023045413034367135,\n",
       " -0.0021308381487178396,\n",
       " -0.00026547654363218154,\n",
       " -0.0012770034892010118,\n",
       " 0.0011867619874282864,\n",
       " -0.002818296922956265,\n",
       " 0.0018547847718477506,\n",
       " 0.00414700499019377,\n",
       " -0.0013318387295344625,\n",
       " 0.0026600139664620936,\n",
       " 0.0011940802089855374,\n",
       " -0.001008126362654349,\n",
       " -0.0020196936210427063,\n",
       " 0.003169804623594452,\n",
       " 0.0003268921056530094,\n",
       " 0.0022541460156680904,\n",
       " -0.0021925218786248424,\n",
       " -0.001517668131944594,\n",
       " 0.001511357730874685,\n",
       " 0.002013434049179974,\n",
       " 0.0016689273257370352,\n",
       " 0.0009394030954640864,\n",
       " -0.00035434039861714783,\n",
       " 0.0020407841891922907,\n",
       " 0.0011047939457616285,\n",
       " 0.0008292961847080615,\n",
       " 0.0002028919098461257,\n",
       " 0.0014144903364011752,\n",
       " 1.0468163898380567e-05,\n",
       " 0.0002858169427930046,\n",
       " -0.001861822556399828,\n",
       " 0.0017242182762037261,\n",
       " -0.0018132574043169258,\n",
       " -0.0005949787503913839,\n",
       " 0.003189996040596166,\n",
       " -0.0023777097813856285,\n",
       " -0.0010978911215183684,\n",
       " 0.002185669883588648,\n",
       " 0.0007329914169762475,\n",
       " -0.0034998151224254204,\n",
       " 0.0015381855569649439,\n",
       " 0.00025118889404290856,\n",
       " -0.0007812901539041572,\n",
       " -0.0023366661676886835,\n",
       " -0.0006920073961429463,\n",
       " -0.0014759900295234774,\n",
       " 0.00082942939228553,\n",
       " -0.0018756036666485176,\n",
       " 0.0013385645279182512,\n",
       " -0.0006090420503765959,\n",
       " -0.003438038497760587,\n",
       " -5.8132412102118725e-05,\n",
       " -0.002990501208201879,\n",
       " 0.0024536653863003743,\n",
       " 0.00024434566266323676,\n",
       " 0.0006712288141615952,\n",
       " -0.0024672782343460042,\n",
       " 0.0008227386485273325,\n",
       " -0.004387946564479828,\n",
       " -0.002191684073071798,\n",
       " -0.0019305808782157374,\n",
       " 0.0015385063067895888,\n",
       " -0.001297939816997884,\n",
       " 3.758694338140689e-05,\n",
       " -0.0009670161451687531,\n",
       " 0.0023295722957356046,\n",
       " 0.002832021945803953,\n",
       " 0.0006577982501692614,\n",
       " -0.0019651300540581285,\n",
       " -0.0009117620020588912,\n",
       " 0.0032788634010435525,\n",
       " -0.00046489075038746996,\n",
       " 0.0030110957533985294,\n",
       " -0.00027860388511269374,\n",
       " 0.003417629742079764,\n",
       " -0.000794654114107729,\n",
       " 0.0012562231544885338,\n",
       " -0.0010425160399500366,\n",
       " -0.001964672591193428,\n",
       " 0.002239851355153699,\n",
       " 0.0014490114685430378,\n",
       " 0.00010712698334930382,\n",
       " -0.0010082753448133475,\n",
       " -0.002502137643625335,\n",
       " -0.006046644097772946,\n",
       " -0.0014214615171646017,\n",
       " -0.0005125514931287878,\n",
       " -0.0015865508976816156,\n",
       " 0.0001272570547561358,\n",
       " 0.0012077386280445745,\n",
       " -0.0006435631825184585,\n",
       " -0.0013656254672689827,\n",
       " 0.0018622081572819416,\n",
       " -0.0016691902354293298,\n",
       " -0.003149031299806926,\n",
       " 2.3993375379949278e-05,\n",
       " -0.0023506786384666634,\n",
       " -0.0022195197196493432,\n",
       " 0.0011319705653769496,\n",
       " 0.0031899890296710476,\n",
       " 0.0002305698106083165,\n",
       " -0.0016760036703773462,\n",
       " -0.0006158519798619699,\n",
       " -0.0014761635499204728,\n",
       " 0.0001616905503338817,\n",
       " 0.0003201890927758688,\n",
       " -0.0031074758885755727,\n",
       " -0.0007533510961810208,\n",
       " -0.0019442235226931337,\n",
       " 0.002260773661100113,\n",
       " -0.0005266691277837632,\n",
       " 0.0007743031985593118,\n",
       " 0.0004779584990043384,\n",
       " 3.7458993997874224e-05,\n",
       " 0.0012902990928846947,\n",
       " 0.0010771125395370174,\n",
       " -0.00025133086527684423,\n",
       " 0.0022472519550811865,\n",
       " 0.00012743057515307576,\n",
       " 0.0008083686205677676,\n",
       " -0.000120745089588703,\n",
       " -0.00011368276679868394,\n",
       " -0.001449004457617975,\n",
       " 0.000664036789256639,\n",
       " 0.0009807727171794456,\n",
       " -0.0004161240342070993,\n",
       " -0.0023021432828155275,\n",
       " -0.0005061271645254717,\n",
       " 0.0007327547982530769,\n",
       " 0.002027195879384658,\n",
       " 3.493477672478207e-06,\n",
       " 0.0007605659065926251,\n",
       " 0.002508349891743422,\n",
       " 0.002068448068104134,\n",
       " 0.0005330233471357859,\n",
       " 0.0008706202354101245,\n",
       " 0.001758413400327119,\n",
       " 0.0015522944279633966,\n",
       " -0.0016685627576302764,\n",
       " 0.000265066404512182,\n",
       " -0.003231292047597756,\n",
       " 0.0006780317327217955,\n",
       " -0.00038222161620793393,\n",
       " -0.0016831080587181857,\n",
       " 1.0513734911732353e-05,\n",
       " 0.001999603862455346,\n",
       " 0.002199168804100926,\n",
       " 0.0025154192254585594,\n",
       " 0.002866774438475106,\n",
       " -0.00025129756338237996,\n",
       " 0.0039060546522511896,\n",
       " -0.0007606500376942105,\n",
       " 0.0003270778951688924,\n",
       " -2.4033688199365244e-05,\n",
       " -0.0009186350298704404,\n",
       " 0.0003819920084099926,\n",
       " 0.0021511803006099006,\n",
       " 0.0022061680285648255,\n",
       " 0.0036030069398190756,\n",
       " -0.004050449581888493,\n",
       " 0.0013387941357163036,\n",
       " -0.003087014550956335,\n",
       " 0.0017653022027202536,\n",
       " 0.0029146612835517782,\n",
       " 0.0014075962758142713,\n",
       " -0.00037501907491532815,\n",
       " -0.0006024389431825705,\n",
       " 0.0013934541029213543,\n",
       " -0.0019444391086409496,\n",
       " 0.0013037103768327452,\n",
       " 0.0018480098969880232,\n",
       " -0.0008229612454001556,\n",
       " 0.0008843066981696346,\n",
       " -0.0007259466214989407,\n",
       " -0.0005883546104219484,\n",
       " -0.001910119540596611,\n",
       " 0.00021669230013898755,\n",
       " 0.0017442870020157875,\n",
       " -0.0016827943198186035,\n",
       " -0.00029947360912063736,\n",
       " 3.110126918326461e-05,\n",
       " -0.0032728597279479965,\n",
       " 0.0018273031769892034,\n",
       " -0.004408493785931944,\n",
       " -0.00047805489922486677,\n",
       " 0.0016139185650067556,\n",
       " 0.004284747736161054,\n",
       " 0.00045771625279550365,\n",
       " 0.001978462465098585,\n",
       " -0.001813839311102572,\n",
       " -0.0003818850918017036,\n",
       " -0.0030179109410778393,\n",
       " 0.0018341814629946884,\n",
       " -0.00016182901610517497,\n",
       " -0.001847934529542794,\n",
       " 0.001331730060194991,\n",
       " -0.0022884708419063093,\n",
       " -0.0006850186880666964,\n",
       " 0.004160479372468051,\n",
       " -0.0014419386293653136,\n",
       " 0.0003541546091011538,\n",
       " -0.0014966914913283613,\n",
       " -0.0004028196668671713,\n",
       " -0.0006568745607835047,\n",
       " -0.0007123688280789575,\n",
       " 0.0017860124281815493,\n",
       " 0.0027362149537563107,\n",
       " -0.000512784606389316,\n",
       " 0.0005745787583670836,\n",
       " -0.0017315049485979728,\n",
       " -0.00032008743436151565,\n",
       " 0.000629806610507655,\n",
       " 0.001462668134870726,\n",
       " 0.0015246428181704963,\n",
       " 0.002948991367983822,\n",
       " -0.0005954099222868492,\n",
       " 0.0020198811632898828,\n",
       " -0.00024417038953494785,\n",
       " 0.0012563037801274768,\n",
       " -0.0025086057905105985,\n",
       " 0.0005472882112183552,\n",
       " 0.0024395652789581668,\n",
       " -0.002605336471944053,\n",
       " -7.225530495097443e-05,\n",
       " 0.00014769560686866967,\n",
       " -0.0001618921144314056,\n",
       " -0.0005609343611583939,\n",
       " 0.001985766664805544,\n",
       " -0.0012906321118283381,\n",
       " 0.0017930484600023333,\n",
       " -0.004270461839302964,\n",
       " 0.0016275752313343883,\n",
       " -0.0027017113489272715,\n",
       " -0.0002992790559483427,\n",
       " -0.003369232852199977,\n",
       " -0.00024394779266206923,\n",
       " -0.0027498085217577684,\n",
       " -0.0008362095253390822,\n",
       " 0.0013253898626932048,\n",
       " -0.0010634663895969787,\n",
       " 0.003651218040182924,\n",
       " 0.00031304439161550235,\n",
       " -0.0003064482953465397,\n",
       " 0.0018688270390576078,\n",
       " 0.0011730930519816551,\n",
       " 0.0011531750610599967,\n",
       " 0.002343691683121818,\n",
       " 0.0010286805950315836,\n",
       " -0.001414416721687295,\n",
       " 0.0012627596578937972,\n",
       " 0.00040961732723360234,\n",
       " 0.002329999962168483,\n",
       " 0.0014829156392734966,\n",
       " 0.0010838471015772733,\n",
       " -0.00024400037460053925,\n",
       " 0.0007122584060083037,\n",
       " 0.0010221055315379757,\n",
       " -0.0010563392157495466,\n",
       " 0.00018185567636641586,\n",
       " -0.0027629218413879886,\n",
       " -0.002281394497266054,\n",
       " -9.242218371474653e-05,\n",
       " 0.0015594216018108842,\n",
       " -0.0015657495301936164,\n",
       " 0.0016142761221883406,\n",
       " 0.0003749016419194451,\n",
       " 0.003169759052581045,\n",
       " -0.0018001966666251201,\n",
       " 0.001930631707422914,\n",
       " 0.003093338973876536,\n",
       " -0.001069962580182826,\n",
       " 0.0025913362702851273,\n",
       " 0.0015519438817069853,\n",
       " 0.002412825089432191,\n",
       " -0.0015037205122240827,\n",
       " 0.00032000505599122375,\n",
       " 0.004112138569989265,\n",
       " 0.00029915285929593693,\n",
       " 0.00027199551972473257,\n",
       " -0.0011803832298384331,\n",
       " 4.479474286789298e-05,\n",
       " 0.0023091495182046007,\n",
       " 0.0017859773735559026,\n",
       " -0.001276775634134364,\n",
       " -0.001097849055967548,\n",
       " 0.0019303354958363217,\n",
       " ...]"
      ]
     },
     "execution_count": 33,
     "metadata": {},
     "output_type": "execute_result"
    }
   ],
   "source": [
    "p_diffs = []\n",
    "for _ in range(10000):\n",
    "    old_page_conver=np.random.choice([0,1],size=nold).mean()\n",
    "    new_page_conver=np.random.choice([0,1],size=nnew).mean()\n",
    "    p_diffs.append(new_page_conver - old_page_conver)\n",
    "    \n",
    "p_diffs"
   ]
  },
  {
   "cell_type": "markdown",
   "metadata": {},
   "source": [
    "#histgram for p_diffs"
   ]
  },
  {
   "cell_type": "code",
   "execution_count": 34,
   "metadata": {},
   "outputs": [
    {
     "data": {
      "text/plain": [
       "<matplotlib.lines.Line2D at 0x143e96199d0>"
      ]
     },
     "execution_count": 34,
     "metadata": {},
     "output_type": "execute_result"
    },
    {
     "data": {
      "image/png": "[encoded data removed]",
      "text/plain": [
       "<Figure size 432x288 with 1 Axes>"
      ]
     },
     "metadata": {
      "needs_background": "light"
     },
     "output_type": "display_data"
    }
   ],
   "source": [
    "plt.hist(p_diffs)\n",
    "plt.axvline(x=obs_diff, color='red')\n"
   ]
  },
  {
   "cell_type": "markdown",
   "metadata": {},
   "source": [
    "#convert list number in p_diffs to array list to do calculation"
   ]
  },
  {
   "cell_type": "code",
   "execution_count": 35,
   "metadata": {},
   "outputs": [],
   "source": [
    "diffs=np.array(p_diffs)"
   ]
  },
  {
   "cell_type": "code",
   "execution_count": 36,
   "metadata": {},
   "outputs": [
    {
     "data": {
      "text/plain": [
       "0.8027"
      ]
     },
     "execution_count": 36,
     "metadata": {},
     "output_type": "execute_result"
    }
   ],
   "source": [
    "(diffs > obs_diff).mean()"
   ]
  },
  {
   "cell_type": "markdown",
   "metadata": {},
   "source": [
    "#There are 80% of p_diffs greater than the actual difference observed in the df2. The value we calculated above is p value which is the conditional probability of the data given the null hypothesis is true. The smaller the p_diffs, more likely to reject the null hypothesis. To see whether reject the null hypothesis or not, compare the p value to type I error we set. Here because our type I error is 0.05, our p value is 0.8, so our p value is too big. So in this case, we cannot reject the null hypothesis.\n"
   ]
  },
  {
   "cell_type": "markdown",
   "metadata": {},
   "source": [
    "# Using Built-in Methods for Hypothesis Testing<br>\n",
    "We could also use a built-in to achieve similar results.\n"
   ]
  },
  {
   "cell_type": "code",
   "execution_count": 37,
   "metadata": {},
   "outputs": [],
   "source": [
    "import statsmodels.api as sm\n",
    "\n",
    "# number of conversions with the old_page\n",
    "convert_old = df2_control.query('converted==1').shape[0]\n",
    "\n",
    "# number of conversions with the new_page\n",
    "convert_new =df2_treatment.query('converted==1').shape[0]\n",
    "\n",
    "# number of individuals who were shown the old_page\n",
    "n_old = nold\n",
    "# number of individuals who received new_page\n",
    "n_new =nnew"
   ]
  },
  {
   "cell_type": "code",
   "execution_count": 38,
   "metadata": {},
   "outputs": [
    {
     "name": "stdout",
     "output_type": "stream",
     "text": [
      "-1.3116075339133115 0.905173705140591\n"
     ]
    }
   ],
   "source": [
    "z_score, p_value = sm.stats.proportions_ztest([convert_new, convert_old], [n_new, n_old], alternative= 'larger')\n",
    "print(z_score, p_value)\n"
   ]
  },
  {
   "cell_type": "markdown",
   "metadata": {},
   "source": [
    "#p value and z score calculated using built-in methods are 0.9 and -1.31. The p value calculated using this method is also very big. Using this method we also cannot reject the null hypothesis. "
   ]
  },
  {
   "cell_type": "markdown",
   "metadata": {},
   "source": [
    "<a id='regression'></a>\n",
    "### Part III - A regression approach\n",
    "\n",
    "In this final part, we will see that the result achieved in the A/B test in Part II above can also be achieved by performing regression.<br><br> "
   ]
  },
  {
   "cell_type": "markdown",
   "metadata": {},
   "source": [
    "#because my dependent variable is conversion or not conversion, I need to use logistic regression; to perfrom this regression, first I am going to create intercept and dummy variable for two groups, new_page would be 1 and old_page would be 0"
   ]
  },
  {
   "cell_type": "code",
   "execution_count": 39,
   "metadata": {},
   "outputs": [],
   "source": [
    "import statsmodels.api as sm "
   ]
  },
  {
   "cell_type": "code",
   "execution_count": 40,
   "metadata": {},
   "outputs": [],
   "source": [
    "df2['intercept']=1"
   ]
  },
  {
   "cell_type": "markdown",
   "metadata": {},
   "source": [
    "#below, created the dummy variables (new_page and old_page) for the categorical variable named landing_page, the columns created are named as ab_page and ab_page1, later drop any of the column, here I choose drop ab_page1, only ab_page left (in which, 1 means new_page, and 0 means old_page)  "
   ]
  },
  {
   "cell_type": "code",
   "execution_count": 41,
   "metadata": {},
   "outputs": [
    {
     "data": {
      "text/html": [
       "<div>\n",
       "<style scoped>\n",
       "    .dataframe tbody tr th:only-of-type {\n",
       "        vertical-align: middle;\n",
       "    }\n",
       "\n",
       "    .dataframe tbody tr th {\n",
       "        vertical-align: top;\n",
       "    }\n",
       "\n",
       "    .dataframe thead th {\n",
       "        text-align: right;\n",
       "    }\n",
       "</style>\n",
       "<table border=\"1\" class=\"dataframe\">\n",
       "  <thead>\n",
       "    <tr style=\"text-align: right;\">\n",
       "      <th></th>\n",
       "      <th>user_id</th>\n",
       "      <th>timestamp</th>\n",
       "      <th>group</th>\n",
       "      <th>landing_page</th>\n",
       "      <th>converted</th>\n",
       "      <th>intercept</th>\n",
       "      <th>ab_page</th>\n",
       "    </tr>\n",
       "  </thead>\n",
       "  <tbody>\n",
       "    <tr>\n",
       "      <th>2</th>\n",
       "      <td>661590</td>\n",
       "      <td>2017-01-11 16:55:06.154213</td>\n",
       "      <td>treatment</td>\n",
       "      <td>new_page</td>\n",
       "      <td>0</td>\n",
       "      <td>1</td>\n",
       "      <td>1</td>\n",
       "    </tr>\n",
       "    <tr>\n",
       "      <th>3</th>\n",
       "      <td>853541</td>\n",
       "      <td>2017-01-08 18:28:03.143765</td>\n",
       "      <td>treatment</td>\n",
       "      <td>new_page</td>\n",
       "      <td>0</td>\n",
       "      <td>1</td>\n",
       "      <td>1</td>\n",
       "    </tr>\n",
       "    <tr>\n",
       "      <th>6</th>\n",
       "      <td>679687</td>\n",
       "      <td>2017-01-19 03:26:46.940749</td>\n",
       "      <td>treatment</td>\n",
       "      <td>new_page</td>\n",
       "      <td>1</td>\n",
       "      <td>1</td>\n",
       "      <td>1</td>\n",
       "    </tr>\n",
       "    <tr>\n",
       "      <th>8</th>\n",
       "      <td>817355</td>\n",
       "      <td>2017-01-04 17:58:08.979471</td>\n",
       "      <td>treatment</td>\n",
       "      <td>new_page</td>\n",
       "      <td>1</td>\n",
       "      <td>1</td>\n",
       "      <td>1</td>\n",
       "    </tr>\n",
       "    <tr>\n",
       "      <th>9</th>\n",
       "      <td>839785</td>\n",
       "      <td>2017-01-15 18:11:06.610965</td>\n",
       "      <td>treatment</td>\n",
       "      <td>new_page</td>\n",
       "      <td>1</td>\n",
       "      <td>1</td>\n",
       "      <td>1</td>\n",
       "    </tr>\n",
       "    <tr>\n",
       "      <th>...</th>\n",
       "      <td>...</td>\n",
       "      <td>...</td>\n",
       "      <td>...</td>\n",
       "      <td>...</td>\n",
       "      <td>...</td>\n",
       "      <td>...</td>\n",
       "      <td>...</td>\n",
       "    </tr>\n",
       "    <tr>\n",
       "      <th>294471</th>\n",
       "      <td>718310</td>\n",
       "      <td>2017-01-21 22:44:20.378320</td>\n",
       "      <td>control</td>\n",
       "      <td>old_page</td>\n",
       "      <td>0</td>\n",
       "      <td>1</td>\n",
       "      <td>0</td>\n",
       "    </tr>\n",
       "    <tr>\n",
       "      <th>294473</th>\n",
       "      <td>751197</td>\n",
       "      <td>2017-01-03 22:28:38.630509</td>\n",
       "      <td>control</td>\n",
       "      <td>old_page</td>\n",
       "      <td>0</td>\n",
       "      <td>1</td>\n",
       "      <td>0</td>\n",
       "    </tr>\n",
       "    <tr>\n",
       "      <th>294474</th>\n",
       "      <td>945152</td>\n",
       "      <td>2017-01-12 00:51:57.078372</td>\n",
       "      <td>control</td>\n",
       "      <td>old_page</td>\n",
       "      <td>0</td>\n",
       "      <td>1</td>\n",
       "      <td>0</td>\n",
       "    </tr>\n",
       "    <tr>\n",
       "      <th>294475</th>\n",
       "      <td>734608</td>\n",
       "      <td>2017-01-22 11:45:03.439544</td>\n",
       "      <td>control</td>\n",
       "      <td>old_page</td>\n",
       "      <td>0</td>\n",
       "      <td>1</td>\n",
       "      <td>0</td>\n",
       "    </tr>\n",
       "    <tr>\n",
       "      <th>294476</th>\n",
       "      <td>697314</td>\n",
       "      <td>2017-01-15 01:20:28.957438</td>\n",
       "      <td>control</td>\n",
       "      <td>old_page</td>\n",
       "      <td>0</td>\n",
       "      <td>1</td>\n",
       "      <td>0</td>\n",
       "    </tr>\n",
       "  </tbody>\n",
       "</table>\n",
       "<p>290585 rows × 7 columns</p>\n",
       "</div>"
      ],
      "text/plain": [
       "        user_id                   timestamp      group landing_page  \\\n",
       "2        661590  2017-01-11 16:55:06.154213  treatment     new_page   \n",
       "3        853541  2017-01-08 18:28:03.143765  treatment     new_page   \n",
       "6        679687  2017-01-19 03:26:46.940749  treatment     new_page   \n",
       "8        817355  2017-01-04 17:58:08.979471  treatment     new_page   \n",
       "9        839785  2017-01-15 18:11:06.610965  treatment     new_page   \n",
       "...         ...                         ...        ...          ...   \n",
       "294471   718310  2017-01-21 22:44:20.378320    control     old_page   \n",
       "294473   751197  2017-01-03 22:28:38.630509    control     old_page   \n",
       "294474   945152  2017-01-12 00:51:57.078372    control     old_page   \n",
       "294475   734608  2017-01-22 11:45:03.439544    control     old_page   \n",
       "294476   697314  2017-01-15 01:20:28.957438    control     old_page   \n",
       "\n",
       "        converted  intercept  ab_page  \n",
       "2               0          1        1  \n",
       "3               0          1        1  \n",
       "6               1          1        1  \n",
       "8               1          1        1  \n",
       "9               1          1        1  \n",
       "...           ...        ...      ...  \n",
       "294471          0          1        0  \n",
       "294473          0          1        0  \n",
       "294474          0          1        0  \n",
       "294475          0          1        0  \n",
       "294476          0          1        0  \n",
       "\n",
       "[290585 rows x 7 columns]"
      ]
     },
     "execution_count": 41,
     "metadata": {},
     "output_type": "execute_result"
    }
   ],
   "source": [
    "df2[['ab_page', 'ab_page1']]=pd.get_dummies(df['landing_page'])\n",
    "df2=df2.drop('ab_page1', axis=1)\n",
    "df2"
   ]
  },
  {
   "cell_type": "markdown",
   "metadata": {},
   "source": [
    "Use statmodels to fit regression model to predict whether ot not an individual converts"
   ]
  },
  {
   "cell_type": "code",
   "execution_count": 42,
   "metadata": {},
   "outputs": [
    {
     "name": "stdout",
     "output_type": "stream",
     "text": [
      "Optimization terminated successfully.\n",
      "         Current function value: 0.366118\n",
      "         Iterations 6\n"
     ]
    },
    {
     "data": {
      "text/html": [
       "<table class=\"simpletable\">\n",
       "<caption>Logit Regression Results</caption>\n",
       "<tr>\n",
       "  <th>Dep. Variable:</th>       <td>converted</td>    <th>  No. Observations:  </th>   <td>290585</td>   \n",
       "</tr>\n",
       "<tr>\n",
       "  <th>Model:</th>                 <td>Logit</td>      <th>  Df Residuals:      </th>   <td>290583</td>   \n",
       "</tr>\n",
       "<tr>\n",
       "  <th>Method:</th>                 <td>MLE</td>       <th>  Df Model:          </th>   <td>     1</td>   \n",
       "</tr>\n",
       "<tr>\n",
       "  <th>Date:</th>            <td>Thu, 13 Jan 2022</td> <th>  Pseudo R-squ.:     </th>  <td>8.085e-06</td> \n",
       "</tr>\n",
       "<tr>\n",
       "  <th>Time:</th>                <td>06:09:57</td>     <th>  Log-Likelihood:    </th> <td>-1.0639e+05</td>\n",
       "</tr>\n",
       "<tr>\n",
       "  <th>converged:</th>             <td>True</td>       <th>  LL-Null:           </th> <td>-1.0639e+05</td>\n",
       "</tr>\n",
       "<tr>\n",
       "  <th>Covariance Type:</th>     <td>nonrobust</td>    <th>  LLR p-value:       </th>   <td>0.1897</td>   \n",
       "</tr>\n",
       "</table>\n",
       "<table class=\"simpletable\">\n",
       "<tr>\n",
       "      <td></td>         <th>coef</th>     <th>std err</th>      <th>z</th>      <th>P>|z|</th>  <th>[0.025</th>    <th>0.975]</th>  \n",
       "</tr>\n",
       "<tr>\n",
       "  <th>intercept</th> <td>   -1.9888</td> <td>    0.008</td> <td> -246.669</td> <td> 0.000</td> <td>   -2.005</td> <td>   -1.973</td>\n",
       "</tr>\n",
       "<tr>\n",
       "  <th>ab_page</th>   <td>   -0.0150</td> <td>    0.011</td> <td>   -1.312</td> <td> 0.190</td> <td>   -0.037</td> <td>    0.007</td>\n",
       "</tr>\n",
       "</table>"
      ],
      "text/plain": [
       "<class 'statsmodels.iolib.summary.Summary'>\n",
       "\"\"\"\n",
       "                           Logit Regression Results                           \n",
       "==============================================================================\n",
       "Dep. Variable:              converted   No. Observations:               290585\n",
       "Model:                          Logit   Df Residuals:                   290583\n",
       "Method:                           MLE   Df Model:                            1\n",
       "Date:                Thu, 13 Jan 2022   Pseudo R-squ.:               8.085e-06\n",
       "Time:                        06:09:57   Log-Likelihood:            -1.0639e+05\n",
       "converged:                       True   LL-Null:                   -1.0639e+05\n",
       "Covariance Type:            nonrobust   LLR p-value:                    0.1897\n",
       "==============================================================================\n",
       "                 coef    std err          z      P>|z|      [0.025      0.975]\n",
       "------------------------------------------------------------------------------\n",
       "intercept     -1.9888      0.008   -246.669      0.000      -2.005      -1.973\n",
       "ab_page       -0.0150      0.011     -1.312      0.190      -0.037       0.007\n",
       "==============================================================================\n",
       "\"\"\""
      ]
     },
     "execution_count": 42,
     "metadata": {},
     "output_type": "execute_result"
    }
   ],
   "source": [
    "logit_mod=sm.Logit(df2['converted'],df2[['intercept', 'ab_page']])\n",
    "results=logit_mod.fit()\n",
    "results.summary()\n"
   ]
  },
  {
   "cell_type": "markdown",
   "metadata": {},
   "source": [
    "To inteprete the coefficient in logistic regression, first need to exponentiate the coefficient of each indepedent variable"
   ]
  },
  {
   "cell_type": "code",
   "execution_count": 43,
   "metadata": {},
   "outputs": [
    {
     "data": {
      "text/plain": [
       "0.9851119396030626"
      ]
     },
     "execution_count": 43,
     "metadata": {},
     "output_type": "execute_result"
    }
   ],
   "source": [
    "np.exp(-0.015)"
   ]
  },
  {
   "cell_type": "markdown",
   "metadata": {},
   "source": [
    "#here 0.985 means that conversion rate is 0.98 times more likely on new_page than old_page holding all else constant"
   ]
  },
  {
   "cell_type": "markdown",
   "metadata": {},
   "source": [
    "#p value associated with the page is 0.19, which is big. The p valve found in the regression is different from the p value in the A/B test, because the p value in the regression is the p value for the coefficient for variable ab_page. In regression, p value is always given for testing if parameter of intercept and slope are equal to 0 in null hypothesis. The null and alternative hypothesis test are two-sided. "
   ]
  },
  {
   "cell_type": "markdown",
   "metadata": {},
   "source": [
    "p_value is 0.19 which is significantly bigger than type I error, so there is no signicant relationship between landing_page and conversion rate. "
   ]
  },
  {
   "cell_type": "markdown",
   "metadata": {},
   "source": [
    "#Because landing_page does not influence whether or not an individual converts, so we can consider other factors that may lead to the conversion. Once we decide to add other fators, our regression would be complicated. "
   ]
  },
  {
   "cell_type": "markdown",
   "metadata": {},
   "source": [
    "read countries.csv file and saved it to a new dataframe called df3"
   ]
  },
  {
   "cell_type": "code",
   "execution_count": 44,
   "metadata": {},
   "outputs": [
    {
     "data": {
      "text/html": [
       "<div>\n",
       "<style scoped>\n",
       "    .dataframe tbody tr th:only-of-type {\n",
       "        vertical-align: middle;\n",
       "    }\n",
       "\n",
       "    .dataframe tbody tr th {\n",
       "        vertical-align: top;\n",
       "    }\n",
       "\n",
       "    .dataframe thead th {\n",
       "        text-align: right;\n",
       "    }\n",
       "</style>\n",
       "<table border=\"1\" class=\"dataframe\">\n",
       "  <thead>\n",
       "    <tr style=\"text-align: right;\">\n",
       "      <th></th>\n",
       "      <th>user_id</th>\n",
       "      <th>country</th>\n",
       "    </tr>\n",
       "  </thead>\n",
       "  <tbody>\n",
       "    <tr>\n",
       "      <th>0</th>\n",
       "      <td>834778</td>\n",
       "      <td>UK</td>\n",
       "    </tr>\n",
       "    <tr>\n",
       "      <th>1</th>\n",
       "      <td>928468</td>\n",
       "      <td>US</td>\n",
       "    </tr>\n",
       "    <tr>\n",
       "      <th>2</th>\n",
       "      <td>822059</td>\n",
       "      <td>UK</td>\n",
       "    </tr>\n",
       "    <tr>\n",
       "      <th>3</th>\n",
       "      <td>711597</td>\n",
       "      <td>UK</td>\n",
       "    </tr>\n",
       "    <tr>\n",
       "      <th>4</th>\n",
       "      <td>710616</td>\n",
       "      <td>UK</td>\n",
       "    </tr>\n",
       "    <tr>\n",
       "      <th>...</th>\n",
       "      <td>...</td>\n",
       "      <td>...</td>\n",
       "    </tr>\n",
       "    <tr>\n",
       "      <th>290579</th>\n",
       "      <td>653118</td>\n",
       "      <td>US</td>\n",
       "    </tr>\n",
       "    <tr>\n",
       "      <th>290580</th>\n",
       "      <td>878226</td>\n",
       "      <td>UK</td>\n",
       "    </tr>\n",
       "    <tr>\n",
       "      <th>290581</th>\n",
       "      <td>799368</td>\n",
       "      <td>UK</td>\n",
       "    </tr>\n",
       "    <tr>\n",
       "      <th>290582</th>\n",
       "      <td>655535</td>\n",
       "      <td>CA</td>\n",
       "    </tr>\n",
       "    <tr>\n",
       "      <th>290583</th>\n",
       "      <td>934996</td>\n",
       "      <td>UK</td>\n",
       "    </tr>\n",
       "  </tbody>\n",
       "</table>\n",
       "<p>290584 rows × 2 columns</p>\n",
       "</div>"
      ],
      "text/plain": [
       "        user_id country\n",
       "0        834778      UK\n",
       "1        928468      US\n",
       "2        822059      UK\n",
       "3        711597      UK\n",
       "4        710616      UK\n",
       "...         ...     ...\n",
       "290579   653118      US\n",
       "290580   878226      UK\n",
       "290581   799368      UK\n",
       "290582   655535      CA\n",
       "290583   934996      UK\n",
       "\n",
       "[290584 rows x 2 columns]"
      ]
     },
     "execution_count": 44,
     "metadata": {},
     "output_type": "execute_result"
    }
   ],
   "source": [
    "df3=pd.read_csv('countries (1).csv')\n",
    "df3"
   ]
  },
  {
   "cell_type": "markdown",
   "metadata": {},
   "source": [
    "#join df3 and df2 using the key 'user_id'; the joint data frame is named as df_merged"
   ]
  },
  {
   "cell_type": "code",
   "execution_count": 45,
   "metadata": {},
   "outputs": [
    {
     "data": {
      "text/html": [
       "<div>\n",
       "<style scoped>\n",
       "    .dataframe tbody tr th:only-of-type {\n",
       "        vertical-align: middle;\n",
       "    }\n",
       "\n",
       "    .dataframe tbody tr th {\n",
       "        vertical-align: top;\n",
       "    }\n",
       "\n",
       "    .dataframe thead th {\n",
       "        text-align: right;\n",
       "    }\n",
       "</style>\n",
       "<table border=\"1\" class=\"dataframe\">\n",
       "  <thead>\n",
       "    <tr style=\"text-align: right;\">\n",
       "      <th></th>\n",
       "      <th>timestamp</th>\n",
       "      <th>group</th>\n",
       "      <th>landing_page</th>\n",
       "      <th>converted</th>\n",
       "      <th>intercept</th>\n",
       "      <th>ab_page</th>\n",
       "      <th>country</th>\n",
       "    </tr>\n",
       "    <tr>\n",
       "      <th>user_id</th>\n",
       "      <th></th>\n",
       "      <th></th>\n",
       "      <th></th>\n",
       "      <th></th>\n",
       "      <th></th>\n",
       "      <th></th>\n",
       "      <th></th>\n",
       "    </tr>\n",
       "  </thead>\n",
       "  <tbody>\n",
       "    <tr>\n",
       "      <th>630000</th>\n",
       "      <td>2017-01-19 06:26:06.548941</td>\n",
       "      <td>treatment</td>\n",
       "      <td>new_page</td>\n",
       "      <td>0</td>\n",
       "      <td>1</td>\n",
       "      <td>1</td>\n",
       "      <td>US</td>\n",
       "    </tr>\n",
       "    <tr>\n",
       "      <th>630001</th>\n",
       "      <td>2017-01-16 03:16:42.560309</td>\n",
       "      <td>treatment</td>\n",
       "      <td>new_page</td>\n",
       "      <td>1</td>\n",
       "      <td>1</td>\n",
       "      <td>1</td>\n",
       "      <td>US</td>\n",
       "    </tr>\n",
       "    <tr>\n",
       "      <th>630002</th>\n",
       "      <td>2017-01-19 19:20:56.438330</td>\n",
       "      <td>control</td>\n",
       "      <td>old_page</td>\n",
       "      <td>0</td>\n",
       "      <td>1</td>\n",
       "      <td>0</td>\n",
       "      <td>US</td>\n",
       "    </tr>\n",
       "    <tr>\n",
       "      <th>630003</th>\n",
       "      <td>2017-01-12 10:09:31.510471</td>\n",
       "      <td>treatment</td>\n",
       "      <td>new_page</td>\n",
       "      <td>0</td>\n",
       "      <td>1</td>\n",
       "      <td>1</td>\n",
       "      <td>US</td>\n",
       "    </tr>\n",
       "    <tr>\n",
       "      <th>630004</th>\n",
       "      <td>2017-01-18 20:23:58.824994</td>\n",
       "      <td>treatment</td>\n",
       "      <td>new_page</td>\n",
       "      <td>0</td>\n",
       "      <td>1</td>\n",
       "      <td>1</td>\n",
       "      <td>US</td>\n",
       "    </tr>\n",
       "    <tr>\n",
       "      <th>...</th>\n",
       "      <td>...</td>\n",
       "      <td>...</td>\n",
       "      <td>...</td>\n",
       "      <td>...</td>\n",
       "      <td>...</td>\n",
       "      <td>...</td>\n",
       "      <td>...</td>\n",
       "    </tr>\n",
       "    <tr>\n",
       "      <th>945994</th>\n",
       "      <td>2017-01-03 14:41:21.565258</td>\n",
       "      <td>control</td>\n",
       "      <td>old_page</td>\n",
       "      <td>0</td>\n",
       "      <td>1</td>\n",
       "      <td>0</td>\n",
       "      <td>UK</td>\n",
       "    </tr>\n",
       "    <tr>\n",
       "      <th>945996</th>\n",
       "      <td>2017-01-09 18:58:19.952277</td>\n",
       "      <td>treatment</td>\n",
       "      <td>new_page</td>\n",
       "      <td>0</td>\n",
       "      <td>1</td>\n",
       "      <td>1</td>\n",
       "      <td>US</td>\n",
       "    </tr>\n",
       "    <tr>\n",
       "      <th>945997</th>\n",
       "      <td>2017-01-04 06:56:24.658147</td>\n",
       "      <td>control</td>\n",
       "      <td>old_page</td>\n",
       "      <td>0</td>\n",
       "      <td>1</td>\n",
       "      <td>0</td>\n",
       "      <td>US</td>\n",
       "    </tr>\n",
       "    <tr>\n",
       "      <th>945998</th>\n",
       "      <td>2017-01-16 07:08:02.207969</td>\n",
       "      <td>control</td>\n",
       "      <td>old_page</td>\n",
       "      <td>0</td>\n",
       "      <td>1</td>\n",
       "      <td>0</td>\n",
       "      <td>CA</td>\n",
       "    </tr>\n",
       "    <tr>\n",
       "      <th>945999</th>\n",
       "      <td>2017-01-16 04:56:21.132067</td>\n",
       "      <td>treatment</td>\n",
       "      <td>new_page</td>\n",
       "      <td>0</td>\n",
       "      <td>1</td>\n",
       "      <td>1</td>\n",
       "      <td>US</td>\n",
       "    </tr>\n",
       "  </tbody>\n",
       "</table>\n",
       "<p>290585 rows × 7 columns</p>\n",
       "</div>"
      ],
      "text/plain": [
       "                          timestamp      group landing_page  converted  \\\n",
       "user_id                                                                  \n",
       "630000   2017-01-19 06:26:06.548941  treatment     new_page          0   \n",
       "630001   2017-01-16 03:16:42.560309  treatment     new_page          1   \n",
       "630002   2017-01-19 19:20:56.438330    control     old_page          0   \n",
       "630003   2017-01-12 10:09:31.510471  treatment     new_page          0   \n",
       "630004   2017-01-18 20:23:58.824994  treatment     new_page          0   \n",
       "...                             ...        ...          ...        ...   \n",
       "945994   2017-01-03 14:41:21.565258    control     old_page          0   \n",
       "945996   2017-01-09 18:58:19.952277  treatment     new_page          0   \n",
       "945997   2017-01-04 06:56:24.658147    control     old_page          0   \n",
       "945998   2017-01-16 07:08:02.207969    control     old_page          0   \n",
       "945999   2017-01-16 04:56:21.132067  treatment     new_page          0   \n",
       "\n",
       "         intercept  ab_page country  \n",
       "user_id                              \n",
       "630000           1        1      US  \n",
       "630001           1        1      US  \n",
       "630002           1        0      US  \n",
       "630003           1        1      US  \n",
       "630004           1        1      US  \n",
       "...            ...      ...     ...  \n",
       "945994           1        0      UK  \n",
       "945996           1        1      US  \n",
       "945997           1        0      US  \n",
       "945998           1        0      CA  \n",
       "945999           1        1      US  \n",
       "\n",
       "[290585 rows x 7 columns]"
      ]
     },
     "execution_count": 45,
     "metadata": {},
     "output_type": "execute_result"
    }
   ],
   "source": [
    "df_merged=df2.set_index('user_id').join(df3.set_index('user_id'))\n",
    "df_merged"
   ]
  },
  {
   "cell_type": "code",
   "execution_count": 46,
   "metadata": {},
   "outputs": [
    {
     "data": {
      "text/html": [
       "<div>\n",
       "<style scoped>\n",
       "    .dataframe tbody tr th:only-of-type {\n",
       "        vertical-align: middle;\n",
       "    }\n",
       "\n",
       "    .dataframe tbody tr th {\n",
       "        vertical-align: top;\n",
       "    }\n",
       "\n",
       "    .dataframe thead th {\n",
       "        text-align: right;\n",
       "    }\n",
       "</style>\n",
       "<table border=\"1\" class=\"dataframe\">\n",
       "  <thead>\n",
       "    <tr style=\"text-align: right;\">\n",
       "      <th></th>\n",
       "      <th>timestamp</th>\n",
       "      <th>group</th>\n",
       "      <th>landing_page</th>\n",
       "      <th>converted</th>\n",
       "      <th>intercept</th>\n",
       "      <th>ab_page</th>\n",
       "      <th>country</th>\n",
       "      <th>CA</th>\n",
       "      <th>UK</th>\n",
       "    </tr>\n",
       "    <tr>\n",
       "      <th>user_id</th>\n",
       "      <th></th>\n",
       "      <th></th>\n",
       "      <th></th>\n",
       "      <th></th>\n",
       "      <th></th>\n",
       "      <th></th>\n",
       "      <th></th>\n",
       "      <th></th>\n",
       "      <th></th>\n",
       "    </tr>\n",
       "  </thead>\n",
       "  <tbody>\n",
       "    <tr>\n",
       "      <th>630000</th>\n",
       "      <td>2017-01-19 06:26:06.548941</td>\n",
       "      <td>treatment</td>\n",
       "      <td>new_page</td>\n",
       "      <td>0</td>\n",
       "      <td>1</td>\n",
       "      <td>1</td>\n",
       "      <td>US</td>\n",
       "      <td>0</td>\n",
       "      <td>0</td>\n",
       "    </tr>\n",
       "    <tr>\n",
       "      <th>630001</th>\n",
       "      <td>2017-01-16 03:16:42.560309</td>\n",
       "      <td>treatment</td>\n",
       "      <td>new_page</td>\n",
       "      <td>1</td>\n",
       "      <td>1</td>\n",
       "      <td>1</td>\n",
       "      <td>US</td>\n",
       "      <td>0</td>\n",
       "      <td>0</td>\n",
       "    </tr>\n",
       "    <tr>\n",
       "      <th>630002</th>\n",
       "      <td>2017-01-19 19:20:56.438330</td>\n",
       "      <td>control</td>\n",
       "      <td>old_page</td>\n",
       "      <td>0</td>\n",
       "      <td>1</td>\n",
       "      <td>0</td>\n",
       "      <td>US</td>\n",
       "      <td>0</td>\n",
       "      <td>0</td>\n",
       "    </tr>\n",
       "    <tr>\n",
       "      <th>630003</th>\n",
       "      <td>2017-01-12 10:09:31.510471</td>\n",
       "      <td>treatment</td>\n",
       "      <td>new_page</td>\n",
       "      <td>0</td>\n",
       "      <td>1</td>\n",
       "      <td>1</td>\n",
       "      <td>US</td>\n",
       "      <td>0</td>\n",
       "      <td>0</td>\n",
       "    </tr>\n",
       "    <tr>\n",
       "      <th>630004</th>\n",
       "      <td>2017-01-18 20:23:58.824994</td>\n",
       "      <td>treatment</td>\n",
       "      <td>new_page</td>\n",
       "      <td>0</td>\n",
       "      <td>1</td>\n",
       "      <td>1</td>\n",
       "      <td>US</td>\n",
       "      <td>0</td>\n",
       "      <td>0</td>\n",
       "    </tr>\n",
       "    <tr>\n",
       "      <th>...</th>\n",
       "      <td>...</td>\n",
       "      <td>...</td>\n",
       "      <td>...</td>\n",
       "      <td>...</td>\n",
       "      <td>...</td>\n",
       "      <td>...</td>\n",
       "      <td>...</td>\n",
       "      <td>...</td>\n",
       "      <td>...</td>\n",
       "    </tr>\n",
       "    <tr>\n",
       "      <th>945994</th>\n",
       "      <td>2017-01-03 14:41:21.565258</td>\n",
       "      <td>control</td>\n",
       "      <td>old_page</td>\n",
       "      <td>0</td>\n",
       "      <td>1</td>\n",
       "      <td>0</td>\n",
       "      <td>UK</td>\n",
       "      <td>0</td>\n",
       "      <td>1</td>\n",
       "    </tr>\n",
       "    <tr>\n",
       "      <th>945996</th>\n",
       "      <td>2017-01-09 18:58:19.952277</td>\n",
       "      <td>treatment</td>\n",
       "      <td>new_page</td>\n",
       "      <td>0</td>\n",
       "      <td>1</td>\n",
       "      <td>1</td>\n",
       "      <td>US</td>\n",
       "      <td>0</td>\n",
       "      <td>0</td>\n",
       "    </tr>\n",
       "    <tr>\n",
       "      <th>945997</th>\n",
       "      <td>2017-01-04 06:56:24.658147</td>\n",
       "      <td>control</td>\n",
       "      <td>old_page</td>\n",
       "      <td>0</td>\n",
       "      <td>1</td>\n",
       "      <td>0</td>\n",
       "      <td>US</td>\n",
       "      <td>0</td>\n",
       "      <td>0</td>\n",
       "    </tr>\n",
       "    <tr>\n",
       "      <th>945998</th>\n",
       "      <td>2017-01-16 07:08:02.207969</td>\n",
       "      <td>control</td>\n",
       "      <td>old_page</td>\n",
       "      <td>0</td>\n",
       "      <td>1</td>\n",
       "      <td>0</td>\n",
       "      <td>CA</td>\n",
       "      <td>1</td>\n",
       "      <td>0</td>\n",
       "    </tr>\n",
       "    <tr>\n",
       "      <th>945999</th>\n",
       "      <td>2017-01-16 04:56:21.132067</td>\n",
       "      <td>treatment</td>\n",
       "      <td>new_page</td>\n",
       "      <td>0</td>\n",
       "      <td>1</td>\n",
       "      <td>1</td>\n",
       "      <td>US</td>\n",
       "      <td>0</td>\n",
       "      <td>0</td>\n",
       "    </tr>\n",
       "  </tbody>\n",
       "</table>\n",
       "<p>290585 rows × 9 columns</p>\n",
       "</div>"
      ],
      "text/plain": [
       "                          timestamp      group landing_page  converted  \\\n",
       "user_id                                                                  \n",
       "630000   2017-01-19 06:26:06.548941  treatment     new_page          0   \n",
       "630001   2017-01-16 03:16:42.560309  treatment     new_page          1   \n",
       "630002   2017-01-19 19:20:56.438330    control     old_page          0   \n",
       "630003   2017-01-12 10:09:31.510471  treatment     new_page          0   \n",
       "630004   2017-01-18 20:23:58.824994  treatment     new_page          0   \n",
       "...                             ...        ...          ...        ...   \n",
       "945994   2017-01-03 14:41:21.565258    control     old_page          0   \n",
       "945996   2017-01-09 18:58:19.952277  treatment     new_page          0   \n",
       "945997   2017-01-04 06:56:24.658147    control     old_page          0   \n",
       "945998   2017-01-16 07:08:02.207969    control     old_page          0   \n",
       "945999   2017-01-16 04:56:21.132067  treatment     new_page          0   \n",
       "\n",
       "         intercept  ab_page country  CA  UK  \n",
       "user_id                                      \n",
       "630000           1        1      US   0   0  \n",
       "630001           1        1      US   0   0  \n",
       "630002           1        0      US   0   0  \n",
       "630003           1        1      US   0   0  \n",
       "630004           1        1      US   0   0  \n",
       "...            ...      ...     ...  ..  ..  \n",
       "945994           1        0      UK   0   1  \n",
       "945996           1        1      US   0   0  \n",
       "945997           1        0      US   0   0  \n",
       "945998           1        0      CA   1   0  \n",
       "945999           1        1      US   0   0  \n",
       "\n",
       "[290585 rows x 9 columns]"
      ]
     },
     "execution_count": 46,
     "metadata": {},
     "output_type": "execute_result"
    }
   ],
   "source": [
    "df_merged[['CA', 'UK', 'US']]=pd.get_dummies(df_merged['country'])\n",
    "df_merged\n",
    "df_merged.drop('US', axis=1)\n"
   ]
  },
  {
   "cell_type": "code",
   "execution_count": 47,
   "metadata": {},
   "outputs": [
    {
     "name": "stdout",
     "output_type": "stream",
     "text": [
      "Optimization terminated successfully.\n",
      "         Current function value: 0.366115\n",
      "         Iterations 6\n"
     ]
    },
    {
     "data": {
      "text/html": [
       "<table class=\"simpletable\">\n",
       "<caption>Logit Regression Results</caption>\n",
       "<tr>\n",
       "  <th>Dep. Variable:</th>       <td>converted</td>    <th>  No. Observations:  </th>   <td>290585</td>   \n",
       "</tr>\n",
       "<tr>\n",
       "  <th>Model:</th>                 <td>Logit</td>      <th>  Df Residuals:      </th>   <td>290582</td>   \n",
       "</tr>\n",
       "<tr>\n",
       "  <th>Method:</th>                 <td>MLE</td>       <th>  Df Model:          </th>   <td>     2</td>   \n",
       "</tr>\n",
       "<tr>\n",
       "  <th>Date:</th>            <td>Thu, 13 Jan 2022</td> <th>  Pseudo R-squ.:     </th>  <td>1.521e-05</td> \n",
       "</tr>\n",
       "<tr>\n",
       "  <th>Time:</th>                <td>06:10:00</td>     <th>  Log-Likelihood:    </th> <td>-1.0639e+05</td>\n",
       "</tr>\n",
       "<tr>\n",
       "  <th>converged:</th>             <td>True</td>       <th>  LL-Null:           </th> <td>-1.0639e+05</td>\n",
       "</tr>\n",
       "<tr>\n",
       "  <th>Covariance Type:</th>     <td>nonrobust</td>    <th>  LLR p-value:       </th>   <td>0.1983</td>   \n",
       "</tr>\n",
       "</table>\n",
       "<table class=\"simpletable\">\n",
       "<tr>\n",
       "      <td></td>         <th>coef</th>     <th>std err</th>      <th>z</th>      <th>P>|z|</th>  <th>[0.025</th>    <th>0.975]</th>  \n",
       "</tr>\n",
       "<tr>\n",
       "  <th>intercept</th> <td>   -1.9967</td> <td>    0.007</td> <td> -292.315</td> <td> 0.000</td> <td>   -2.010</td> <td>   -1.983</td>\n",
       "</tr>\n",
       "<tr>\n",
       "  <th>UK</th>        <td>    0.0099</td> <td>    0.013</td> <td>    0.746</td> <td> 0.456</td> <td>   -0.016</td> <td>    0.036</td>\n",
       "</tr>\n",
       "<tr>\n",
       "  <th>CA</th>        <td>   -0.0408</td> <td>    0.027</td> <td>   -1.518</td> <td> 0.129</td> <td>   -0.093</td> <td>    0.012</td>\n",
       "</tr>\n",
       "</table>"
      ],
      "text/plain": [
       "<class 'statsmodels.iolib.summary.Summary'>\n",
       "\"\"\"\n",
       "                           Logit Regression Results                           \n",
       "==============================================================================\n",
       "Dep. Variable:              converted   No. Observations:               290585\n",
       "Model:                          Logit   Df Residuals:                   290582\n",
       "Method:                           MLE   Df Model:                            2\n",
       "Date:                Thu, 13 Jan 2022   Pseudo R-squ.:               1.521e-05\n",
       "Time:                        06:10:00   Log-Likelihood:            -1.0639e+05\n",
       "converged:                       True   LL-Null:                   -1.0639e+05\n",
       "Covariance Type:            nonrobust   LLR p-value:                    0.1983\n",
       "==============================================================================\n",
       "                 coef    std err          z      P>|z|      [0.025      0.975]\n",
       "------------------------------------------------------------------------------\n",
       "intercept     -1.9967      0.007   -292.315      0.000      -2.010      -1.983\n",
       "UK             0.0099      0.013      0.746      0.456      -0.016       0.036\n",
       "CA            -0.0408      0.027     -1.518      0.129      -0.093       0.012\n",
       "==============================================================================\n",
       "\"\"\""
      ]
     },
     "execution_count": 47,
     "metadata": {},
     "output_type": "execute_result"
    }
   ],
   "source": [
    "df_merged['intercept']=1\n",
    "logit_mod=sm.Logit(df_merged['converted'], df_merged[['intercept', 'UK', 'CA']])\n",
    "results=logit_mod.fit()\n",
    "results.summary()"
   ]
  },
  {
   "cell_type": "markdown",
   "metadata": {},
   "source": [
    "#to inteprete coefficient in logistic regression, first need to exponentiate each coefficient"
   ]
  },
  {
   "cell_type": "code",
   "execution_count": 48,
   "metadata": {},
   "outputs": [
    {
     "data": {
      "text/plain": [
       "(1.0099491671175422, 0.9600211149716509)"
      ]
     },
     "execution_count": 48,
     "metadata": {},
     "output_type": "execute_result"
    }
   ],
   "source": [
    "np.exp(0.0099), np.exp(-0.0408)"
   ]
  },
  {
   "cell_type": "markdown",
   "metadata": {},
   "source": [
    "#slope intepretation for UK: conversion is 1 time as likely in UK than US holding all else constant\n",
    "#slope intepreation for CA: conversion is 0.96 time as likely in CA than US holding all else constant"
   ]
  },
  {
   "cell_type": "markdown",
   "metadata": {},
   "source": [
    "Now, after looking at the individual factors of country and page on conversion, now take look at an interaction between page and country, we need to create the  interation  term for UK and ab_page, CA and ab_page. To add interaction term in the regression, we also need to keep our lower term (here is ab_page, UK, CA) "
   ]
  },
  {
   "cell_type": "code",
   "execution_count": 49,
   "metadata": {},
   "outputs": [
    {
     "name": "stdout",
     "output_type": "stream",
     "text": [
      "Optimization terminated successfully.\n",
      "         Current function value: 0.366108\n",
      "         Iterations 6\n"
     ]
    },
    {
     "data": {
      "text/html": [
       "<table class=\"simpletable\">\n",
       "<caption>Logit Regression Results</caption>\n",
       "<tr>\n",
       "  <th>Dep. Variable:</th>       <td>converted</td>    <th>  No. Observations:  </th>   <td>290585</td>   \n",
       "</tr>\n",
       "<tr>\n",
       "  <th>Model:</th>                 <td>Logit</td>      <th>  Df Residuals:      </th>   <td>290579</td>   \n",
       "</tr>\n",
       "<tr>\n",
       "  <th>Method:</th>                 <td>MLE</td>       <th>  Df Model:          </th>   <td>     5</td>   \n",
       "</tr>\n",
       "<tr>\n",
       "  <th>Date:</th>            <td>Thu, 13 Jan 2022</td> <th>  Pseudo R-squ.:     </th>  <td>3.483e-05</td> \n",
       "</tr>\n",
       "<tr>\n",
       "  <th>Time:</th>                <td>06:10:03</td>     <th>  Log-Likelihood:    </th> <td>-1.0639e+05</td>\n",
       "</tr>\n",
       "<tr>\n",
       "  <th>converged:</th>             <td>True</td>       <th>  LL-Null:           </th> <td>-1.0639e+05</td>\n",
       "</tr>\n",
       "<tr>\n",
       "  <th>Covariance Type:</th>     <td>nonrobust</td>    <th>  LLR p-value:       </th>   <td>0.1918</td>   \n",
       "</tr>\n",
       "</table>\n",
       "<table class=\"simpletable\">\n",
       "<tr>\n",
       "      <td></td>         <th>coef</th>     <th>std err</th>      <th>z</th>      <th>P>|z|</th>  <th>[0.025</th>    <th>0.975]</th>  \n",
       "</tr>\n",
       "<tr>\n",
       "  <th>intercept</th> <td>   -1.9865</td> <td>    0.010</td> <td> -206.344</td> <td> 0.000</td> <td>   -2.005</td> <td>   -1.968</td>\n",
       "</tr>\n",
       "<tr>\n",
       "  <th>ab_page</th>   <td>   -0.0206</td> <td>    0.014</td> <td>   -1.506</td> <td> 0.132</td> <td>   -0.047</td> <td>    0.006</td>\n",
       "</tr>\n",
       "<tr>\n",
       "  <th>UK</th>        <td>   -0.0057</td> <td>    0.019</td> <td>   -0.306</td> <td> 0.760</td> <td>   -0.043</td> <td>    0.031</td>\n",
       "</tr>\n",
       "<tr>\n",
       "  <th>CA</th>        <td>   -0.0175</td> <td>    0.038</td> <td>   -0.465</td> <td> 0.642</td> <td>   -0.091</td> <td>    0.056</td>\n",
       "</tr>\n",
       "<tr>\n",
       "  <th>ab_UK</th>     <td>    0.0314</td> <td>    0.027</td> <td>    1.181</td> <td> 0.238</td> <td>   -0.021</td> <td>    0.084</td>\n",
       "</tr>\n",
       "<tr>\n",
       "  <th>ab_CA</th>     <td>   -0.0469</td> <td>    0.054</td> <td>   -0.872</td> <td> 0.383</td> <td>   -0.152</td> <td>    0.059</td>\n",
       "</tr>\n",
       "</table>"
      ],
      "text/plain": [
       "<class 'statsmodels.iolib.summary.Summary'>\n",
       "\"\"\"\n",
       "                           Logit Regression Results                           \n",
       "==============================================================================\n",
       "Dep. Variable:              converted   No. Observations:               290585\n",
       "Model:                          Logit   Df Residuals:                   290579\n",
       "Method:                           MLE   Df Model:                            5\n",
       "Date:                Thu, 13 Jan 2022   Pseudo R-squ.:               3.483e-05\n",
       "Time:                        06:10:03   Log-Likelihood:            -1.0639e+05\n",
       "converged:                       True   LL-Null:                   -1.0639e+05\n",
       "Covariance Type:            nonrobust   LLR p-value:                    0.1918\n",
       "==============================================================================\n",
       "                 coef    std err          z      P>|z|      [0.025      0.975]\n",
       "------------------------------------------------------------------------------\n",
       "intercept     -1.9865      0.010   -206.344      0.000      -2.005      -1.968\n",
       "ab_page       -0.0206      0.014     -1.506      0.132      -0.047       0.006\n",
       "UK            -0.0057      0.019     -0.306      0.760      -0.043       0.031\n",
       "CA            -0.0175      0.038     -0.465      0.642      -0.091       0.056\n",
       "ab_UK          0.0314      0.027      1.181      0.238      -0.021       0.084\n",
       "ab_CA         -0.0469      0.054     -0.872      0.383      -0.152       0.059\n",
       "==============================================================================\n",
       "\"\"\""
      ]
     },
     "execution_count": 49,
     "metadata": {},
     "output_type": "execute_result"
    }
   ],
   "source": [
    "df_merged['ab_UK'] = df_merged['ab_page'] * df_merged['UK']\n",
    "df_merged['ab_CA'] = df_merged['ab_page'] * df_merged['CA']\n",
    "lm3 = sm.Logit(df_merged['converted'], df_merged[['intercept', 'ab_page', 'UK' , 'CA', 'ab_UK', 'ab_CA']])\n",
    "results = lm3.fit()\n",
    "results.summary()"
   ]
  },
  {
   "cell_type": "markdown",
   "metadata": {},
   "source": [
    "#the p value for interaction term (ab_UK and ab_CA) is too big to be significant compare to the type I error 0.05. In regression, the null hypothesis for the coefficient is equal to 0, and alternative hypothesis for the coefficient is not equal to 0. Because p value is big, so we cannot reject our null hypothesis that coefficient for ab_UK and ab_CA is not significant to predicted the conversion. So there is no significant relationship between the interaction terms with converson. "
   ]
  },
  {
   "cell_type": "markdown",
   "metadata": {},
   "source": [
    "## conclusion: \n",
    "\n",
    "Based on both the A/B test and logistic regression, the p value is too big to be significantly important. Large p value means that we cannot reject our null hypothesis that convsersion is not related to landing_page (new_page & old_page).Later, adding other factor (country) to run the regression. However, the p value related to the ciefficient is too big to be significantly important. So it can be conclude that both landing_page and country has no effect on conversion.  \n"
   ]
  }
 ],
 "metadata": {
  "kernelspec": {
   "display_name": "Python 3",
   "language": "python",
   "name": "python3"
  },
  "language_info": {
   "codemirror_mode": {
    "name": "ipython",
    "version": 3
   },
   "file_extension": ".py",
   "mimetype": "text/x-python",
   "name": "python",
   "nbconvert_exporter": "python",
   "pygments_lexer": "ipython3",
   "version": "3.8.8"
  }
 },
 "nbformat": 4,
 "nbformat_minor": 2
}
